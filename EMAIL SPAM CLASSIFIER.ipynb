{
 "cells": [
  {
   "cell_type": "markdown",
   "id": "10ed1c07",
   "metadata": {},
   "source": [
    "# EMAIL SPAM CLASSIFIER"
   ]
  },
  {
   "cell_type": "code",
   "execution_count": 158,
   "id": "a43fc017",
   "metadata": {},
   "outputs": [],
   "source": [
    "import pandas as pd\n",
    "import numpy as np\n",
    "import seaborn as sns\n",
    "import matplotlib.pyplot as plt\n",
    "import warnings\n",
    "warnings.filterwarnings('ignore')"
   ]
  },
  {
   "cell_type": "code",
   "execution_count": 161,
   "id": "9c035b8f",
   "metadata": {},
   "outputs": [],
   "source": [
    "df=pd.read_csv('spam1.csv')"
   ]
  },
  {
   "cell_type": "code",
   "execution_count": 162,
   "id": "e4a460a3",
   "metadata": {},
   "outputs": [
    {
     "data": {
      "text/html": [
       "<div>\n",
       "<style scoped>\n",
       "    .dataframe tbody tr th:only-of-type {\n",
       "        vertical-align: middle;\n",
       "    }\n",
       "\n",
       "    .dataframe tbody tr th {\n",
       "        vertical-align: top;\n",
       "    }\n",
       "\n",
       "    .dataframe thead th {\n",
       "        text-align: right;\n",
       "    }\n",
       "</style>\n",
       "<table border=\"1\" class=\"dataframe\">\n",
       "  <thead>\n",
       "    <tr style=\"text-align: right;\">\n",
       "      <th></th>\n",
       "      <th>v1</th>\n",
       "      <th>v2</th>\n",
       "      <th>Unnamed: 2</th>\n",
       "      <th>Unnamed: 3</th>\n",
       "      <th>Unnamed: 4</th>\n",
       "    </tr>\n",
       "  </thead>\n",
       "  <tbody>\n",
       "    <tr>\n",
       "      <th>0</th>\n",
       "      <td>ham</td>\n",
       "      <td>Go until jurong point, crazy.. Available only ...</td>\n",
       "      <td>NaN</td>\n",
       "      <td>NaN</td>\n",
       "      <td>NaN</td>\n",
       "    </tr>\n",
       "    <tr>\n",
       "      <th>1</th>\n",
       "      <td>ham</td>\n",
       "      <td>Ok lar... Joking wif u oni...</td>\n",
       "      <td>NaN</td>\n",
       "      <td>NaN</td>\n",
       "      <td>NaN</td>\n",
       "    </tr>\n",
       "    <tr>\n",
       "      <th>2</th>\n",
       "      <td>spam</td>\n",
       "      <td>Free entry in 2 a wkly comp to win FA Cup fina...</td>\n",
       "      <td>NaN</td>\n",
       "      <td>NaN</td>\n",
       "      <td>NaN</td>\n",
       "    </tr>\n",
       "    <tr>\n",
       "      <th>3</th>\n",
       "      <td>ham</td>\n",
       "      <td>U dun say so early hor... U c already then say...</td>\n",
       "      <td>NaN</td>\n",
       "      <td>NaN</td>\n",
       "      <td>NaN</td>\n",
       "    </tr>\n",
       "    <tr>\n",
       "      <th>4</th>\n",
       "      <td>ham</td>\n",
       "      <td>Nah I don't think he goes to usf, he lives aro...</td>\n",
       "      <td>NaN</td>\n",
       "      <td>NaN</td>\n",
       "      <td>NaN</td>\n",
       "    </tr>\n",
       "    <tr>\n",
       "      <th>...</th>\n",
       "      <td>...</td>\n",
       "      <td>...</td>\n",
       "      <td>...</td>\n",
       "      <td>...</td>\n",
       "      <td>...</td>\n",
       "    </tr>\n",
       "    <tr>\n",
       "      <th>5567</th>\n",
       "      <td>spam</td>\n",
       "      <td>This is the 2nd time we have tried 2 contact u...</td>\n",
       "      <td>NaN</td>\n",
       "      <td>NaN</td>\n",
       "      <td>NaN</td>\n",
       "    </tr>\n",
       "    <tr>\n",
       "      <th>5568</th>\n",
       "      <td>ham</td>\n",
       "      <td>Will �_ b going to esplanade fr home?</td>\n",
       "      <td>NaN</td>\n",
       "      <td>NaN</td>\n",
       "      <td>NaN</td>\n",
       "    </tr>\n",
       "    <tr>\n",
       "      <th>5569</th>\n",
       "      <td>ham</td>\n",
       "      <td>Pity, * was in mood for that. So...any other s...</td>\n",
       "      <td>NaN</td>\n",
       "      <td>NaN</td>\n",
       "      <td>NaN</td>\n",
       "    </tr>\n",
       "    <tr>\n",
       "      <th>5570</th>\n",
       "      <td>ham</td>\n",
       "      <td>The guy did some bitching but I acted like i'd...</td>\n",
       "      <td>NaN</td>\n",
       "      <td>NaN</td>\n",
       "      <td>NaN</td>\n",
       "    </tr>\n",
       "    <tr>\n",
       "      <th>5571</th>\n",
       "      <td>ham</td>\n",
       "      <td>Rofl. Its true to its name</td>\n",
       "      <td>NaN</td>\n",
       "      <td>NaN</td>\n",
       "      <td>NaN</td>\n",
       "    </tr>\n",
       "  </tbody>\n",
       "</table>\n",
       "<p>5572 rows × 5 columns</p>\n",
       "</div>"
      ],
      "text/plain": [
       "        v1                                                 v2 Unnamed: 2  \\\n",
       "0      ham  Go until jurong point, crazy.. Available only ...        NaN   \n",
       "1      ham                      Ok lar... Joking wif u oni...        NaN   \n",
       "2     spam  Free entry in 2 a wkly comp to win FA Cup fina...        NaN   \n",
       "3      ham  U dun say so early hor... U c already then say...        NaN   \n",
       "4      ham  Nah I don't think he goes to usf, he lives aro...        NaN   \n",
       "...    ...                                                ...        ...   \n",
       "5567  spam  This is the 2nd time we have tried 2 contact u...        NaN   \n",
       "5568   ham              Will �_ b going to esplanade fr home?        NaN   \n",
       "5569   ham  Pity, * was in mood for that. So...any other s...        NaN   \n",
       "5570   ham  The guy did some bitching but I acted like i'd...        NaN   \n",
       "5571   ham                         Rofl. Its true to its name        NaN   \n",
       "\n",
       "     Unnamed: 3 Unnamed: 4  \n",
       "0           NaN        NaN  \n",
       "1           NaN        NaN  \n",
       "2           NaN        NaN  \n",
       "3           NaN        NaN  \n",
       "4           NaN        NaN  \n",
       "...         ...        ...  \n",
       "5567        NaN        NaN  \n",
       "5568        NaN        NaN  \n",
       "5569        NaN        NaN  \n",
       "5570        NaN        NaN  \n",
       "5571        NaN        NaN  \n",
       "\n",
       "[5572 rows x 5 columns]"
      ]
     },
     "execution_count": 162,
     "metadata": {},
     "output_type": "execute_result"
    }
   ],
   "source": [
    "df"
   ]
  },
  {
   "cell_type": "markdown",
   "id": "64efe50f",
   "metadata": {},
   "source": [
    "## DROPPING THE UNNAMED COLUMNS"
   ]
  },
  {
   "cell_type": "code",
   "execution_count": 163,
   "id": "37bb7f95",
   "metadata": {},
   "outputs": [],
   "source": [
    "df1=df.drop(['Unnamed: 2','Unnamed: 3','Unnamed: 4'],axis=1)"
   ]
  },
  {
   "cell_type": "code",
   "execution_count": 164,
   "id": "0da28af2",
   "metadata": {},
   "outputs": [
    {
     "data": {
      "text/html": [
       "<div>\n",
       "<style scoped>\n",
       "    .dataframe tbody tr th:only-of-type {\n",
       "        vertical-align: middle;\n",
       "    }\n",
       "\n",
       "    .dataframe tbody tr th {\n",
       "        vertical-align: top;\n",
       "    }\n",
       "\n",
       "    .dataframe thead th {\n",
       "        text-align: right;\n",
       "    }\n",
       "</style>\n",
       "<table border=\"1\" class=\"dataframe\">\n",
       "  <thead>\n",
       "    <tr style=\"text-align: right;\">\n",
       "      <th></th>\n",
       "      <th>v1</th>\n",
       "      <th>v2</th>\n",
       "    </tr>\n",
       "  </thead>\n",
       "  <tbody>\n",
       "    <tr>\n",
       "      <th>0</th>\n",
       "      <td>ham</td>\n",
       "      <td>Go until jurong point, crazy.. Available only ...</td>\n",
       "    </tr>\n",
       "    <tr>\n",
       "      <th>1</th>\n",
       "      <td>ham</td>\n",
       "      <td>Ok lar... Joking wif u oni...</td>\n",
       "    </tr>\n",
       "    <tr>\n",
       "      <th>2</th>\n",
       "      <td>spam</td>\n",
       "      <td>Free entry in 2 a wkly comp to win FA Cup fina...</td>\n",
       "    </tr>\n",
       "    <tr>\n",
       "      <th>3</th>\n",
       "      <td>ham</td>\n",
       "      <td>U dun say so early hor... U c already then say...</td>\n",
       "    </tr>\n",
       "    <tr>\n",
       "      <th>4</th>\n",
       "      <td>ham</td>\n",
       "      <td>Nah I don't think he goes to usf, he lives aro...</td>\n",
       "    </tr>\n",
       "    <tr>\n",
       "      <th>...</th>\n",
       "      <td>...</td>\n",
       "      <td>...</td>\n",
       "    </tr>\n",
       "    <tr>\n",
       "      <th>5567</th>\n",
       "      <td>spam</td>\n",
       "      <td>This is the 2nd time we have tried 2 contact u...</td>\n",
       "    </tr>\n",
       "    <tr>\n",
       "      <th>5568</th>\n",
       "      <td>ham</td>\n",
       "      <td>Will �_ b going to esplanade fr home?</td>\n",
       "    </tr>\n",
       "    <tr>\n",
       "      <th>5569</th>\n",
       "      <td>ham</td>\n",
       "      <td>Pity, * was in mood for that. So...any other s...</td>\n",
       "    </tr>\n",
       "    <tr>\n",
       "      <th>5570</th>\n",
       "      <td>ham</td>\n",
       "      <td>The guy did some bitching but I acted like i'd...</td>\n",
       "    </tr>\n",
       "    <tr>\n",
       "      <th>5571</th>\n",
       "      <td>ham</td>\n",
       "      <td>Rofl. Its true to its name</td>\n",
       "    </tr>\n",
       "  </tbody>\n",
       "</table>\n",
       "<p>5572 rows × 2 columns</p>\n",
       "</div>"
      ],
      "text/plain": [
       "        v1                                                 v2\n",
       "0      ham  Go until jurong point, crazy.. Available only ...\n",
       "1      ham                      Ok lar... Joking wif u oni...\n",
       "2     spam  Free entry in 2 a wkly comp to win FA Cup fina...\n",
       "3      ham  U dun say so early hor... U c already then say...\n",
       "4      ham  Nah I don't think he goes to usf, he lives aro...\n",
       "...    ...                                                ...\n",
       "5567  spam  This is the 2nd time we have tried 2 contact u...\n",
       "5568   ham              Will �_ b going to esplanade fr home?\n",
       "5569   ham  Pity, * was in mood for that. So...any other s...\n",
       "5570   ham  The guy did some bitching but I acted like i'd...\n",
       "5571   ham                         Rofl. Its true to its name\n",
       "\n",
       "[5572 rows x 2 columns]"
      ]
     },
     "execution_count": 164,
     "metadata": {},
     "output_type": "execute_result"
    }
   ],
   "source": [
    "df1"
   ]
  },
  {
   "cell_type": "code",
   "execution_count": 165,
   "id": "f98c1a30",
   "metadata": {},
   "outputs": [],
   "source": [
    "df1.rename(columns={\"v1\": \"target\", \"v2\": \"text\"}, inplace=True)"
   ]
  },
  {
   "cell_type": "markdown",
   "id": "729b8ce6",
   "metadata": {},
   "source": [
    "## CHECK FOR DUPLICATE VALUES"
   ]
  },
  {
   "cell_type": "code",
   "execution_count": 166,
   "id": "7b3b79d6",
   "metadata": {},
   "outputs": [],
   "source": [
    "df2=df1.drop_duplicates()"
   ]
  },
  {
   "cell_type": "code",
   "execution_count": 167,
   "id": "8895fd5f",
   "metadata": {},
   "outputs": [
    {
     "data": {
      "text/html": [
       "<div>\n",
       "<style scoped>\n",
       "    .dataframe tbody tr th:only-of-type {\n",
       "        vertical-align: middle;\n",
       "    }\n",
       "\n",
       "    .dataframe tbody tr th {\n",
       "        vertical-align: top;\n",
       "    }\n",
       "\n",
       "    .dataframe thead th {\n",
       "        text-align: right;\n",
       "    }\n",
       "</style>\n",
       "<table border=\"1\" class=\"dataframe\">\n",
       "  <thead>\n",
       "    <tr style=\"text-align: right;\">\n",
       "      <th></th>\n",
       "      <th>target</th>\n",
       "      <th>text</th>\n",
       "    </tr>\n",
       "  </thead>\n",
       "  <tbody>\n",
       "    <tr>\n",
       "      <th>0</th>\n",
       "      <td>ham</td>\n",
       "      <td>Go until jurong point, crazy.. Available only ...</td>\n",
       "    </tr>\n",
       "    <tr>\n",
       "      <th>1</th>\n",
       "      <td>ham</td>\n",
       "      <td>Ok lar... Joking wif u oni...</td>\n",
       "    </tr>\n",
       "    <tr>\n",
       "      <th>2</th>\n",
       "      <td>spam</td>\n",
       "      <td>Free entry in 2 a wkly comp to win FA Cup fina...</td>\n",
       "    </tr>\n",
       "    <tr>\n",
       "      <th>3</th>\n",
       "      <td>ham</td>\n",
       "      <td>U dun say so early hor... U c already then say...</td>\n",
       "    </tr>\n",
       "    <tr>\n",
       "      <th>4</th>\n",
       "      <td>ham</td>\n",
       "      <td>Nah I don't think he goes to usf, he lives aro...</td>\n",
       "    </tr>\n",
       "    <tr>\n",
       "      <th>...</th>\n",
       "      <td>...</td>\n",
       "      <td>...</td>\n",
       "    </tr>\n",
       "    <tr>\n",
       "      <th>5567</th>\n",
       "      <td>spam</td>\n",
       "      <td>This is the 2nd time we have tried 2 contact u...</td>\n",
       "    </tr>\n",
       "    <tr>\n",
       "      <th>5568</th>\n",
       "      <td>ham</td>\n",
       "      <td>Will �_ b going to esplanade fr home?</td>\n",
       "    </tr>\n",
       "    <tr>\n",
       "      <th>5569</th>\n",
       "      <td>ham</td>\n",
       "      <td>Pity, * was in mood for that. So...any other s...</td>\n",
       "    </tr>\n",
       "    <tr>\n",
       "      <th>5570</th>\n",
       "      <td>ham</td>\n",
       "      <td>The guy did some bitching but I acted like i'd...</td>\n",
       "    </tr>\n",
       "    <tr>\n",
       "      <th>5571</th>\n",
       "      <td>ham</td>\n",
       "      <td>Rofl. Its true to its name</td>\n",
       "    </tr>\n",
       "  </tbody>\n",
       "</table>\n",
       "<p>5169 rows × 2 columns</p>\n",
       "</div>"
      ],
      "text/plain": [
       "     target                                               text\n",
       "0       ham  Go until jurong point, crazy.. Available only ...\n",
       "1       ham                      Ok lar... Joking wif u oni...\n",
       "2      spam  Free entry in 2 a wkly comp to win FA Cup fina...\n",
       "3       ham  U dun say so early hor... U c already then say...\n",
       "4       ham  Nah I don't think he goes to usf, he lives aro...\n",
       "...     ...                                                ...\n",
       "5567   spam  This is the 2nd time we have tried 2 contact u...\n",
       "5568    ham              Will �_ b going to esplanade fr home?\n",
       "5569    ham  Pity, * was in mood for that. So...any other s...\n",
       "5570    ham  The guy did some bitching but I acted like i'd...\n",
       "5571    ham                         Rofl. Its true to its name\n",
       "\n",
       "[5169 rows x 2 columns]"
      ]
     },
     "execution_count": 167,
     "metadata": {},
     "output_type": "execute_result"
    }
   ],
   "source": [
    "df2"
   ]
  },
  {
   "cell_type": "markdown",
   "id": "ea9dacdf",
   "metadata": {},
   "source": [
    "## CHECKING FOR DATA TYPES & VARIABLES"
   ]
  },
  {
   "cell_type": "code",
   "execution_count": 168,
   "id": "9dbaf463",
   "metadata": {},
   "outputs": [
    {
     "data": {
      "text/plain": [
       "target    object\n",
       "text      object\n",
       "dtype: object"
      ]
     },
     "execution_count": 168,
     "metadata": {},
     "output_type": "execute_result"
    }
   ],
   "source": [
    "df2.dtypes"
   ]
  },
  {
   "cell_type": "code",
   "execution_count": 169,
   "id": "ac47123b",
   "metadata": {},
   "outputs": [
    {
     "name": "stdout",
     "output_type": "stream",
     "text": [
      "<class 'pandas.core.frame.DataFrame'>\n",
      "Int64Index: 5169 entries, 0 to 5571\n",
      "Data columns (total 2 columns):\n",
      " #   Column  Non-Null Count  Dtype \n",
      "---  ------  --------------  ----- \n",
      " 0   target  5169 non-null   object\n",
      " 1   text    5169 non-null   object\n",
      "dtypes: object(2)\n",
      "memory usage: 121.1+ KB\n"
     ]
    }
   ],
   "source": [
    "df2.info()"
   ]
  },
  {
   "cell_type": "markdown",
   "id": "3622f56f",
   "metadata": {},
   "source": [
    "## CHECKING FOR UNIQUE AND VALUE COUNTS OF EACH COLUMN"
   ]
  },
  {
   "cell_type": "code",
   "execution_count": 170,
   "id": "6cdfb653",
   "metadata": {},
   "outputs": [
    {
     "data": {
      "text/plain": [
       "array(['ham', 'spam'], dtype=object)"
      ]
     },
     "execution_count": 170,
     "metadata": {},
     "output_type": "execute_result"
    }
   ],
   "source": [
    "df2['target'].unique()"
   ]
  },
  {
   "cell_type": "code",
   "execution_count": 171,
   "id": "3bd31ab0",
   "metadata": {},
   "outputs": [
    {
     "data": {
      "text/plain": [
       "ham     4516\n",
       "spam     653\n",
       "Name: target, dtype: int64"
      ]
     },
     "execution_count": 171,
     "metadata": {},
     "output_type": "execute_result"
    }
   ],
   "source": [
    "df2['target'].value_counts()"
   ]
  },
  {
   "cell_type": "code",
   "execution_count": 172,
   "id": "7da4b581",
   "metadata": {},
   "outputs": [
    {
     "data": {
      "text/plain": [
       "array(['Go until jurong point, crazy.. Available only in bugis n great world la e buffet... Cine there got amore wat...',\n",
       "       'Ok lar... Joking wif u oni...',\n",
       "       \"Free entry in 2 a wkly comp to win FA Cup final tkts 21st May 2005. Text FA to 87121 to receive entry question(std txt rate)T&C's apply 08452810075over18's\",\n",
       "       ..., 'Pity, * was in mood for that. So...any other suggestions?',\n",
       "       \"The guy did some bitching but I acted like i'd be interested in buying something else next week and he gave it to us for free\",\n",
       "       'Rofl. Its true to its name'], dtype=object)"
      ]
     },
     "execution_count": 172,
     "metadata": {},
     "output_type": "execute_result"
    }
   ],
   "source": [
    "df2['text'].unique()"
   ]
  },
  {
   "cell_type": "code",
   "execution_count": 173,
   "id": "8049be10",
   "metadata": {},
   "outputs": [
    {
     "data": {
      "text/plain": [
       "Go until jurong point, crazy.. Available only in bugis n great world la e buffet... Cine there got amore wat...                                               1\n",
       "Wake me up at  &lt;#&gt;  am morning:)                                                                                                                        1\n",
       "I will reach ur home in  &lt;#&gt;  minutes                                                                                                                   1\n",
       "Wait.i will come out.. &lt;#&gt;  min:)                                                                                                                       1\n",
       "R u here yet? I'm wearing blue shirt n black pants.                                                                                                           1\n",
       "                                                                                                                                                             ..\n",
       ";-( oh well, c u later                                                                                                                                        1\n",
       "BIG BROTHER ALERT! The computer has selected u for 10k cash or #150 voucher. Call 09064018838. NTT PO Box CRO1327 18+ BT Landline Cost 150ppm mobiles vary    1\n",
       "Buy Space Invaders 4 a chance 2 win orig Arcade Game console. Press 0 for Games Arcade (std WAP charge) See o2.co.uk/games 4 Terms + settings. No purchase    1\n",
       "Call FREEPHONE 0800 542 0578 now!                                                                                                                             1\n",
       "Rofl. Its true to its name                                                                                                                                    1\n",
       "Name: text, Length: 5169, dtype: int64"
      ]
     },
     "execution_count": 173,
     "metadata": {},
     "output_type": "execute_result"
    }
   ],
   "source": [
    "df2['text'].value_counts()"
   ]
  },
  {
   "cell_type": "markdown",
   "id": "5099a9f6",
   "metadata": {},
   "source": [
    "## NULL VALUES CHECK "
   ]
  },
  {
   "cell_type": "code",
   "execution_count": 175,
   "id": "15f7f1b8",
   "metadata": {},
   "outputs": [
    {
     "data": {
      "text/plain": [
       "target    0\n",
       "text      0\n",
       "dtype: int64"
      ]
     },
     "execution_count": 175,
     "metadata": {},
     "output_type": "execute_result"
    }
   ],
   "source": [
    "df2.isnull().sum()"
   ]
  },
  {
   "cell_type": "markdown",
   "id": "29a4334d",
   "metadata": {},
   "source": [
    "## LABEL ENCODING THE DATA SET"
   ]
  },
  {
   "cell_type": "code",
   "execution_count": 176,
   "id": "a30ba499",
   "metadata": {},
   "outputs": [],
   "source": [
    "from sklearn.preprocessing import LabelEncoder"
   ]
  },
  {
   "cell_type": "code",
   "execution_count": 177,
   "id": "200870f0",
   "metadata": {},
   "outputs": [],
   "source": [
    "le=LabelEncoder()"
   ]
  },
  {
   "cell_type": "code",
   "execution_count": 178,
   "id": "df6fe2dd",
   "metadata": {},
   "outputs": [],
   "source": [
    "df2['target']=le.fit_transform(df2['target'])"
   ]
  },
  {
   "cell_type": "code",
   "execution_count": 179,
   "id": "ada78245",
   "metadata": {},
   "outputs": [
    {
     "data": {
      "text/html": [
       "<div>\n",
       "<style scoped>\n",
       "    .dataframe tbody tr th:only-of-type {\n",
       "        vertical-align: middle;\n",
       "    }\n",
       "\n",
       "    .dataframe tbody tr th {\n",
       "        vertical-align: top;\n",
       "    }\n",
       "\n",
       "    .dataframe thead th {\n",
       "        text-align: right;\n",
       "    }\n",
       "</style>\n",
       "<table border=\"1\" class=\"dataframe\">\n",
       "  <thead>\n",
       "    <tr style=\"text-align: right;\">\n",
       "      <th></th>\n",
       "      <th>target</th>\n",
       "      <th>text</th>\n",
       "    </tr>\n",
       "  </thead>\n",
       "  <tbody>\n",
       "    <tr>\n",
       "      <th>0</th>\n",
       "      <td>0</td>\n",
       "      <td>Go until jurong point, crazy.. Available only ...</td>\n",
       "    </tr>\n",
       "    <tr>\n",
       "      <th>1</th>\n",
       "      <td>0</td>\n",
       "      <td>Ok lar... Joking wif u oni...</td>\n",
       "    </tr>\n",
       "    <tr>\n",
       "      <th>2</th>\n",
       "      <td>1</td>\n",
       "      <td>Free entry in 2 a wkly comp to win FA Cup fina...</td>\n",
       "    </tr>\n",
       "    <tr>\n",
       "      <th>3</th>\n",
       "      <td>0</td>\n",
       "      <td>U dun say so early hor... U c already then say...</td>\n",
       "    </tr>\n",
       "    <tr>\n",
       "      <th>4</th>\n",
       "      <td>0</td>\n",
       "      <td>Nah I don't think he goes to usf, he lives aro...</td>\n",
       "    </tr>\n",
       "    <tr>\n",
       "      <th>...</th>\n",
       "      <td>...</td>\n",
       "      <td>...</td>\n",
       "    </tr>\n",
       "    <tr>\n",
       "      <th>5567</th>\n",
       "      <td>1</td>\n",
       "      <td>This is the 2nd time we have tried 2 contact u...</td>\n",
       "    </tr>\n",
       "    <tr>\n",
       "      <th>5568</th>\n",
       "      <td>0</td>\n",
       "      <td>Will �_ b going to esplanade fr home?</td>\n",
       "    </tr>\n",
       "    <tr>\n",
       "      <th>5569</th>\n",
       "      <td>0</td>\n",
       "      <td>Pity, * was in mood for that. So...any other s...</td>\n",
       "    </tr>\n",
       "    <tr>\n",
       "      <th>5570</th>\n",
       "      <td>0</td>\n",
       "      <td>The guy did some bitching but I acted like i'd...</td>\n",
       "    </tr>\n",
       "    <tr>\n",
       "      <th>5571</th>\n",
       "      <td>0</td>\n",
       "      <td>Rofl. Its true to its name</td>\n",
       "    </tr>\n",
       "  </tbody>\n",
       "</table>\n",
       "<p>5169 rows × 2 columns</p>\n",
       "</div>"
      ],
      "text/plain": [
       "      target                                               text\n",
       "0          0  Go until jurong point, crazy.. Available only ...\n",
       "1          0                      Ok lar... Joking wif u oni...\n",
       "2          1  Free entry in 2 a wkly comp to win FA Cup fina...\n",
       "3          0  U dun say so early hor... U c already then say...\n",
       "4          0  Nah I don't think he goes to usf, he lives aro...\n",
       "...      ...                                                ...\n",
       "5567       1  This is the 2nd time we have tried 2 contact u...\n",
       "5568       0              Will �_ b going to esplanade fr home?\n",
       "5569       0  Pity, * was in mood for that. So...any other s...\n",
       "5570       0  The guy did some bitching but I acted like i'd...\n",
       "5571       0                         Rofl. Its true to its name\n",
       "\n",
       "[5169 rows x 2 columns]"
      ]
     },
     "execution_count": 179,
     "metadata": {},
     "output_type": "execute_result"
    }
   ],
   "source": [
    "df2"
   ]
  },
  {
   "cell_type": "code",
   "execution_count": 180,
   "id": "0be01524",
   "metadata": {},
   "outputs": [
    {
     "data": {
      "text/plain": [
       "0    4516\n",
       "1     653\n",
       "Name: target, dtype: int64"
      ]
     },
     "execution_count": 180,
     "metadata": {},
     "output_type": "execute_result"
    }
   ],
   "source": [
    "df2['target'].value_counts()"
   ]
  },
  {
   "cell_type": "code",
   "execution_count": 204,
   "id": "0ef64e42",
   "metadata": {},
   "outputs": [
    {
     "data": {
      "image/png": "[encoded data removed]",
      "text/plain": [
       "<Figure size 432x288 with 1 Axes>"
      ]
     },
     "metadata": {},
     "output_type": "display_data"
    }
   ],
   "source": [
    "plt.pie(df2['target'].value_counts(), labels=[\"ham\", \"spam\"], autopct=\"%0.2f\");"
   ]
  },
  {
   "cell_type": "code",
   "execution_count": 182,
   "id": "01ee34ed",
   "metadata": {},
   "outputs": [],
   "source": [
    "import nltk"
   ]
  },
  {
   "cell_type": "code",
   "execution_count": 183,
   "id": "7b453326",
   "metadata": {},
   "outputs": [
    {
     "name": "stderr",
     "output_type": "stream",
     "text": [
      "[nltk_data] Downloading package punkt to\n",
      "[nltk_data]     /Users/natashapoddar/nltk_data...\n",
      "[nltk_data]   Package punkt is already up-to-date!\n"
     ]
    },
    {
     "data": {
      "text/plain": [
       "True"
      ]
     },
     "execution_count": 183,
     "metadata": {},
     "output_type": "execute_result"
    }
   ],
   "source": [
    "nltk.download('punkt')"
   ]
  },
  {
   "cell_type": "code",
   "execution_count": 184,
   "id": "a1d74c63",
   "metadata": {},
   "outputs": [],
   "source": [
    "df2[\"num_chars\"] = df2['text'].apply(len)"
   ]
  },
  {
   "cell_type": "code",
   "execution_count": 181,
   "id": "8d33cefb",
   "metadata": {},
   "outputs": [],
   "source": [
    "df2[\"num_words\"] = df2[\"text\"].apply(lambda x: len(nltk.word_tokenize(x)))"
   ]
  },
  {
   "cell_type": "code",
   "execution_count": 185,
   "id": "fc8e9180",
   "metadata": {},
   "outputs": [
    {
     "data": {
      "text/html": [
       "<div>\n",
       "<style scoped>\n",
       "    .dataframe tbody tr th:only-of-type {\n",
       "        vertical-align: middle;\n",
       "    }\n",
       "\n",
       "    .dataframe tbody tr th {\n",
       "        vertical-align: top;\n",
       "    }\n",
       "\n",
       "    .dataframe thead th {\n",
       "        text-align: right;\n",
       "    }\n",
       "</style>\n",
       "<table border=\"1\" class=\"dataframe\">\n",
       "  <thead>\n",
       "    <tr style=\"text-align: right;\">\n",
       "      <th></th>\n",
       "      <th>target</th>\n",
       "      <th>text</th>\n",
       "      <th>num_words</th>\n",
       "      <th>num_chars</th>\n",
       "    </tr>\n",
       "  </thead>\n",
       "  <tbody>\n",
       "    <tr>\n",
       "      <th>0</th>\n",
       "      <td>0</td>\n",
       "      <td>Go until jurong point, crazy.. Available only ...</td>\n",
       "      <td>24</td>\n",
       "      <td>111</td>\n",
       "    </tr>\n",
       "    <tr>\n",
       "      <th>1</th>\n",
       "      <td>0</td>\n",
       "      <td>Ok lar... Joking wif u oni...</td>\n",
       "      <td>8</td>\n",
       "      <td>29</td>\n",
       "    </tr>\n",
       "    <tr>\n",
       "      <th>2</th>\n",
       "      <td>1</td>\n",
       "      <td>Free entry in 2 a wkly comp to win FA Cup fina...</td>\n",
       "      <td>37</td>\n",
       "      <td>155</td>\n",
       "    </tr>\n",
       "    <tr>\n",
       "      <th>3</th>\n",
       "      <td>0</td>\n",
       "      <td>U dun say so early hor... U c already then say...</td>\n",
       "      <td>13</td>\n",
       "      <td>49</td>\n",
       "    </tr>\n",
       "    <tr>\n",
       "      <th>4</th>\n",
       "      <td>0</td>\n",
       "      <td>Nah I don't think he goes to usf, he lives aro...</td>\n",
       "      <td>15</td>\n",
       "      <td>61</td>\n",
       "    </tr>\n",
       "    <tr>\n",
       "      <th>...</th>\n",
       "      <td>...</td>\n",
       "      <td>...</td>\n",
       "      <td>...</td>\n",
       "      <td>...</td>\n",
       "    </tr>\n",
       "    <tr>\n",
       "      <th>5567</th>\n",
       "      <td>1</td>\n",
       "      <td>This is the 2nd time we have tried 2 contact u...</td>\n",
       "      <td>35</td>\n",
       "      <td>160</td>\n",
       "    </tr>\n",
       "    <tr>\n",
       "      <th>5568</th>\n",
       "      <td>0</td>\n",
       "      <td>Will �_ b going to esplanade fr home?</td>\n",
       "      <td>9</td>\n",
       "      <td>37</td>\n",
       "    </tr>\n",
       "    <tr>\n",
       "      <th>5569</th>\n",
       "      <td>0</td>\n",
       "      <td>Pity, * was in mood for that. So...any other s...</td>\n",
       "      <td>15</td>\n",
       "      <td>57</td>\n",
       "    </tr>\n",
       "    <tr>\n",
       "      <th>5570</th>\n",
       "      <td>0</td>\n",
       "      <td>The guy did some bitching but I acted like i'd...</td>\n",
       "      <td>27</td>\n",
       "      <td>125</td>\n",
       "    </tr>\n",
       "    <tr>\n",
       "      <th>5571</th>\n",
       "      <td>0</td>\n",
       "      <td>Rofl. Its true to its name</td>\n",
       "      <td>7</td>\n",
       "      <td>26</td>\n",
       "    </tr>\n",
       "  </tbody>\n",
       "</table>\n",
       "<p>5169 rows × 4 columns</p>\n",
       "</div>"
      ],
      "text/plain": [
       "      target                                               text  num_words  \\\n",
       "0          0  Go until jurong point, crazy.. Available only ...         24   \n",
       "1          0                      Ok lar... Joking wif u oni...          8   \n",
       "2          1  Free entry in 2 a wkly comp to win FA Cup fina...         37   \n",
       "3          0  U dun say so early hor... U c already then say...         13   \n",
       "4          0  Nah I don't think he goes to usf, he lives aro...         15   \n",
       "...      ...                                                ...        ...   \n",
       "5567       1  This is the 2nd time we have tried 2 contact u...         35   \n",
       "5568       0              Will �_ b going to esplanade fr home?          9   \n",
       "5569       0  Pity, * was in mood for that. So...any other s...         15   \n",
       "5570       0  The guy did some bitching but I acted like i'd...         27   \n",
       "5571       0                         Rofl. Its true to its name          7   \n",
       "\n",
       "      num_chars  \n",
       "0           111  \n",
       "1            29  \n",
       "2           155  \n",
       "3            49  \n",
       "4            61  \n",
       "...         ...  \n",
       "5567        160  \n",
       "5568         37  \n",
       "5569         57  \n",
       "5570        125  \n",
       "5571         26  \n",
       "\n",
       "[5169 rows x 4 columns]"
      ]
     },
     "execution_count": 185,
     "metadata": {},
     "output_type": "execute_result"
    }
   ],
   "source": [
    "df2"
   ]
  },
  {
   "cell_type": "code",
   "execution_count": 186,
   "id": "6e973379",
   "metadata": {},
   "outputs": [],
   "source": [
    "df2[\"num_sentences\"] = df2[\"text\"].apply(lambda x: len(nltk.word_tokenize(x)))"
   ]
  },
  {
   "cell_type": "code",
   "execution_count": 187,
   "id": "d74d739e",
   "metadata": {},
   "outputs": [
    {
     "data": {
      "text/html": [
       "<div>\n",
       "<style scoped>\n",
       "    .dataframe tbody tr th:only-of-type {\n",
       "        vertical-align: middle;\n",
       "    }\n",
       "\n",
       "    .dataframe tbody tr th {\n",
       "        vertical-align: top;\n",
       "    }\n",
       "\n",
       "    .dataframe thead th {\n",
       "        text-align: right;\n",
       "    }\n",
       "</style>\n",
       "<table border=\"1\" class=\"dataframe\">\n",
       "  <thead>\n",
       "    <tr style=\"text-align: right;\">\n",
       "      <th></th>\n",
       "      <th>target</th>\n",
       "      <th>text</th>\n",
       "      <th>num_words</th>\n",
       "      <th>num_chars</th>\n",
       "      <th>num_sentences</th>\n",
       "    </tr>\n",
       "  </thead>\n",
       "  <tbody>\n",
       "    <tr>\n",
       "      <th>0</th>\n",
       "      <td>0</td>\n",
       "      <td>Go until jurong point, crazy.. Available only ...</td>\n",
       "      <td>24</td>\n",
       "      <td>111</td>\n",
       "      <td>24</td>\n",
       "    </tr>\n",
       "    <tr>\n",
       "      <th>1</th>\n",
       "      <td>0</td>\n",
       "      <td>Ok lar... Joking wif u oni...</td>\n",
       "      <td>8</td>\n",
       "      <td>29</td>\n",
       "      <td>8</td>\n",
       "    </tr>\n",
       "    <tr>\n",
       "      <th>2</th>\n",
       "      <td>1</td>\n",
       "      <td>Free entry in 2 a wkly comp to win FA Cup fina...</td>\n",
       "      <td>37</td>\n",
       "      <td>155</td>\n",
       "      <td>37</td>\n",
       "    </tr>\n",
       "    <tr>\n",
       "      <th>3</th>\n",
       "      <td>0</td>\n",
       "      <td>U dun say so early hor... U c already then say...</td>\n",
       "      <td>13</td>\n",
       "      <td>49</td>\n",
       "      <td>13</td>\n",
       "    </tr>\n",
       "    <tr>\n",
       "      <th>4</th>\n",
       "      <td>0</td>\n",
       "      <td>Nah I don't think he goes to usf, he lives aro...</td>\n",
       "      <td>15</td>\n",
       "      <td>61</td>\n",
       "      <td>15</td>\n",
       "    </tr>\n",
       "    <tr>\n",
       "      <th>...</th>\n",
       "      <td>...</td>\n",
       "      <td>...</td>\n",
       "      <td>...</td>\n",
       "      <td>...</td>\n",
       "      <td>...</td>\n",
       "    </tr>\n",
       "    <tr>\n",
       "      <th>5567</th>\n",
       "      <td>1</td>\n",
       "      <td>This is the 2nd time we have tried 2 contact u...</td>\n",
       "      <td>35</td>\n",
       "      <td>160</td>\n",
       "      <td>35</td>\n",
       "    </tr>\n",
       "    <tr>\n",
       "      <th>5568</th>\n",
       "      <td>0</td>\n",
       "      <td>Will �_ b going to esplanade fr home?</td>\n",
       "      <td>9</td>\n",
       "      <td>37</td>\n",
       "      <td>9</td>\n",
       "    </tr>\n",
       "    <tr>\n",
       "      <th>5569</th>\n",
       "      <td>0</td>\n",
       "      <td>Pity, * was in mood for that. So...any other s...</td>\n",
       "      <td>15</td>\n",
       "      <td>57</td>\n",
       "      <td>15</td>\n",
       "    </tr>\n",
       "    <tr>\n",
       "      <th>5570</th>\n",
       "      <td>0</td>\n",
       "      <td>The guy did some bitching but I acted like i'd...</td>\n",
       "      <td>27</td>\n",
       "      <td>125</td>\n",
       "      <td>27</td>\n",
       "    </tr>\n",
       "    <tr>\n",
       "      <th>5571</th>\n",
       "      <td>0</td>\n",
       "      <td>Rofl. Its true to its name</td>\n",
       "      <td>7</td>\n",
       "      <td>26</td>\n",
       "      <td>7</td>\n",
       "    </tr>\n",
       "  </tbody>\n",
       "</table>\n",
       "<p>5169 rows × 5 columns</p>\n",
       "</div>"
      ],
      "text/plain": [
       "      target                                               text  num_words  \\\n",
       "0          0  Go until jurong point, crazy.. Available only ...         24   \n",
       "1          0                      Ok lar... Joking wif u oni...          8   \n",
       "2          1  Free entry in 2 a wkly comp to win FA Cup fina...         37   \n",
       "3          0  U dun say so early hor... U c already then say...         13   \n",
       "4          0  Nah I don't think he goes to usf, he lives aro...         15   \n",
       "...      ...                                                ...        ...   \n",
       "5567       1  This is the 2nd time we have tried 2 contact u...         35   \n",
       "5568       0              Will �_ b going to esplanade fr home?          9   \n",
       "5569       0  Pity, * was in mood for that. So...any other s...         15   \n",
       "5570       0  The guy did some bitching but I acted like i'd...         27   \n",
       "5571       0                         Rofl. Its true to its name          7   \n",
       "\n",
       "      num_chars  num_sentences  \n",
       "0           111             24  \n",
       "1            29              8  \n",
       "2           155             37  \n",
       "3            49             13  \n",
       "4            61             15  \n",
       "...         ...            ...  \n",
       "5567        160             35  \n",
       "5568         37              9  \n",
       "5569         57             15  \n",
       "5570        125             27  \n",
       "5571         26              7  \n",
       "\n",
       "[5169 rows x 5 columns]"
      ]
     },
     "execution_count": 187,
     "metadata": {},
     "output_type": "execute_result"
    }
   ],
   "source": [
    "df2"
   ]
  },
  {
   "cell_type": "code",
   "execution_count": 188,
   "id": "addde8d7",
   "metadata": {},
   "outputs": [
    {
     "data": {
      "text/html": [
       "<div>\n",
       "<style scoped>\n",
       "    .dataframe tbody tr th:only-of-type {\n",
       "        vertical-align: middle;\n",
       "    }\n",
       "\n",
       "    .dataframe tbody tr th {\n",
       "        vertical-align: top;\n",
       "    }\n",
       "\n",
       "    .dataframe thead th {\n",
       "        text-align: right;\n",
       "    }\n",
       "</style>\n",
       "<table border=\"1\" class=\"dataframe\">\n",
       "  <thead>\n",
       "    <tr style=\"text-align: right;\">\n",
       "      <th></th>\n",
       "      <th>num_chars</th>\n",
       "      <th>num_words</th>\n",
       "      <th>num_sentences</th>\n",
       "    </tr>\n",
       "  </thead>\n",
       "  <tbody>\n",
       "    <tr>\n",
       "      <th>count</th>\n",
       "      <td>4516.000000</td>\n",
       "      <td>4516.000000</td>\n",
       "      <td>4516.000000</td>\n",
       "    </tr>\n",
       "    <tr>\n",
       "      <th>mean</th>\n",
       "      <td>70.456820</td>\n",
       "      <td>17.120903</td>\n",
       "      <td>17.120903</td>\n",
       "    </tr>\n",
       "    <tr>\n",
       "      <th>std</th>\n",
       "      <td>56.356802</td>\n",
       "      <td>13.493725</td>\n",
       "      <td>13.493725</td>\n",
       "    </tr>\n",
       "    <tr>\n",
       "      <th>min</th>\n",
       "      <td>2.000000</td>\n",
       "      <td>1.000000</td>\n",
       "      <td>1.000000</td>\n",
       "    </tr>\n",
       "    <tr>\n",
       "      <th>25%</th>\n",
       "      <td>34.000000</td>\n",
       "      <td>8.000000</td>\n",
       "      <td>8.000000</td>\n",
       "    </tr>\n",
       "    <tr>\n",
       "      <th>50%</th>\n",
       "      <td>52.000000</td>\n",
       "      <td>13.000000</td>\n",
       "      <td>13.000000</td>\n",
       "    </tr>\n",
       "    <tr>\n",
       "      <th>75%</th>\n",
       "      <td>90.000000</td>\n",
       "      <td>22.000000</td>\n",
       "      <td>22.000000</td>\n",
       "    </tr>\n",
       "    <tr>\n",
       "      <th>max</th>\n",
       "      <td>910.000000</td>\n",
       "      <td>220.000000</td>\n",
       "      <td>220.000000</td>\n",
       "    </tr>\n",
       "  </tbody>\n",
       "</table>\n",
       "</div>"
      ],
      "text/plain": [
       "         num_chars    num_words  num_sentences\n",
       "count  4516.000000  4516.000000    4516.000000\n",
       "mean     70.456820    17.120903      17.120903\n",
       "std      56.356802    13.493725      13.493725\n",
       "min       2.000000     1.000000       1.000000\n",
       "25%      34.000000     8.000000       8.000000\n",
       "50%      52.000000    13.000000      13.000000\n",
       "75%      90.000000    22.000000      22.000000\n",
       "max     910.000000   220.000000     220.000000"
      ]
     },
     "execution_count": 188,
     "metadata": {},
     "output_type": "execute_result"
    }
   ],
   "source": [
    "df2[df2['target'] == 0][[\"num_chars\", \"num_words\", \"num_sentences\"]].describe()"
   ]
  },
  {
   "cell_type": "code",
   "execution_count": 189,
   "id": "29986f46",
   "metadata": {},
   "outputs": [
    {
     "data": {
      "text/html": [
       "<div>\n",
       "<style scoped>\n",
       "    .dataframe tbody tr th:only-of-type {\n",
       "        vertical-align: middle;\n",
       "    }\n",
       "\n",
       "    .dataframe tbody tr th {\n",
       "        vertical-align: top;\n",
       "    }\n",
       "\n",
       "    .dataframe thead th {\n",
       "        text-align: right;\n",
       "    }\n",
       "</style>\n",
       "<table border=\"1\" class=\"dataframe\">\n",
       "  <thead>\n",
       "    <tr style=\"text-align: right;\">\n",
       "      <th></th>\n",
       "      <th>num_chars</th>\n",
       "      <th>num_words</th>\n",
       "      <th>num_sentences</th>\n",
       "    </tr>\n",
       "  </thead>\n",
       "  <tbody>\n",
       "    <tr>\n",
       "      <th>count</th>\n",
       "      <td>653.000000</td>\n",
       "      <td>653.000000</td>\n",
       "      <td>653.000000</td>\n",
       "    </tr>\n",
       "    <tr>\n",
       "      <th>mean</th>\n",
       "      <td>137.479326</td>\n",
       "      <td>27.675345</td>\n",
       "      <td>27.675345</td>\n",
       "    </tr>\n",
       "    <tr>\n",
       "      <th>std</th>\n",
       "      <td>30.014336</td>\n",
       "      <td>7.011513</td>\n",
       "      <td>7.011513</td>\n",
       "    </tr>\n",
       "    <tr>\n",
       "      <th>min</th>\n",
       "      <td>13.000000</td>\n",
       "      <td>2.000000</td>\n",
       "      <td>2.000000</td>\n",
       "    </tr>\n",
       "    <tr>\n",
       "      <th>25%</th>\n",
       "      <td>131.000000</td>\n",
       "      <td>25.000000</td>\n",
       "      <td>25.000000</td>\n",
       "    </tr>\n",
       "    <tr>\n",
       "      <th>50%</th>\n",
       "      <td>148.000000</td>\n",
       "      <td>29.000000</td>\n",
       "      <td>29.000000</td>\n",
       "    </tr>\n",
       "    <tr>\n",
       "      <th>75%</th>\n",
       "      <td>157.000000</td>\n",
       "      <td>32.000000</td>\n",
       "      <td>32.000000</td>\n",
       "    </tr>\n",
       "    <tr>\n",
       "      <th>max</th>\n",
       "      <td>223.000000</td>\n",
       "      <td>46.000000</td>\n",
       "      <td>46.000000</td>\n",
       "    </tr>\n",
       "  </tbody>\n",
       "</table>\n",
       "</div>"
      ],
      "text/plain": [
       "        num_chars   num_words  num_sentences\n",
       "count  653.000000  653.000000     653.000000\n",
       "mean   137.479326   27.675345      27.675345\n",
       "std     30.014336    7.011513       7.011513\n",
       "min     13.000000    2.000000       2.000000\n",
       "25%    131.000000   25.000000      25.000000\n",
       "50%    148.000000   29.000000      29.000000\n",
       "75%    157.000000   32.000000      32.000000\n",
       "max    223.000000   46.000000      46.000000"
      ]
     },
     "execution_count": 189,
     "metadata": {},
     "output_type": "execute_result"
    }
   ],
   "source": [
    "df2[df2['target'] == 1][[\"num_chars\", \"num_words\", \"num_sentences\"]].describe()"
   ]
  },
  {
   "cell_type": "code",
   "execution_count": 191,
   "id": "35dd9569",
   "metadata": {},
   "outputs": [
    {
     "data": {
      "text/plain": [
       "<AxesSubplot:xlabel='num_chars', ylabel='Count'>"
      ]
     },
     "execution_count": 191,
     "metadata": {},
     "output_type": "execute_result"
    },
    {
     "data": {
      "image/png": "[encoded data removed]",
      "text/plain": [
       "<Figure size 864x432 with 1 Axes>"
      ]
     },
     "metadata": {
      "needs_background": "light"
     },
     "output_type": "display_data"
    }
   ],
   "source": [
    "plt.figure(figsize=(12, 6))\n",
    "sns.histplot(df2[df2['target'] == 0][\"num_chars\"])\n",
    "sns.histplot(df2[df2['target'] == 1][\"num_chars\"], color='red')"
   ]
  },
  {
   "cell_type": "code",
   "execution_count": 192,
   "id": "f6540ff8",
   "metadata": {},
   "outputs": [
    {
     "data": {
      "image/png": "[encoded data removed]",
      "text/plain": [
       "<Figure size 582.375x540 with 12 Axes>"
      ]
     },
     "metadata": {
      "needs_background": "light"
     },
     "output_type": "display_data"
    }
   ],
   "source": [
    "sns.pairplot(df2, hue=\"target\");"
   ]
  },
  {
   "cell_type": "code",
   "execution_count": 193,
   "id": "5a0250be",
   "metadata": {},
   "outputs": [
    {
     "data": {
      "text/plain": [
       "<AxesSubplot:>"
      ]
     },
     "execution_count": 193,
     "metadata": {},
     "output_type": "execute_result"
    },
    {
     "data": {
      "image/png": "[encoded data removed]",
      "text/plain": [
       "<Figure size 432x288 with 2 Axes>"
      ]
     },
     "metadata": {
      "needs_background": "light"
     },
     "output_type": "display_data"
    }
   ],
   "source": [
    "sns.heatmap(df2.corr(), annot=True)"
   ]
  },
  {
   "cell_type": "code",
   "execution_count": 194,
   "id": "ff48333e",
   "metadata": {},
   "outputs": [],
   "source": [
    "from nltk.corpus import stopwords\n",
    "from string import punctuation\n",
    "from nltk.stem.porter import PorterStemmer\n",
    "ps = PorterStemmer()\n",
    "def transform_text(text):\n",
    "    text = text.lower()\n",
    "    text = nltk.word_tokenize(text)\n",
    "    text_without_sc = []\n",
    "    for t in text:\n",
    "        if t.isalnum():\n",
    "            text_without_sc.append(t)\n",
    "            \n",
    "    text = text_without_sc[:]\n",
    "    text_without_sc.clear()\n",
    "    transformed_text = []\n",
    "    \n",
    "    for i in text:\n",
    "        if i not in stopwords.words('english') and i not in punctuation:\n",
    "            transformed_text.append(i)\n",
    "            \n",
    "    text = transformed_text[:]\n",
    "    transformed_text.clear()\n",
    "    \n",
    "    for i in text:\n",
    "        transformed_text.append(ps.stem(i))\n",
    "        \n",
    "    return \" \".join(transformed_text)"
   ]
  },
  {
   "cell_type": "code",
   "execution_count": 195,
   "id": "534e7165",
   "metadata": {},
   "outputs": [
    {
     "data": {
      "text/plain": [
       "'love yt lectur machin learn'"
      ]
     },
     "execution_count": 195,
     "metadata": {},
     "output_type": "execute_result"
    }
   ],
   "source": [
    "transform_text('I loved YT lectures on machine learning')"
   ]
  },
  {
   "cell_type": "code",
   "execution_count": 196,
   "id": "ad97b3f2",
   "metadata": {},
   "outputs": [],
   "source": [
    "df2[\"transform_text\"] = df2[\"text\"].apply(transform_text)"
   ]
  },
  {
   "cell_type": "code",
   "execution_count": 197,
   "id": "61240171",
   "metadata": {},
   "outputs": [
    {
     "data": {
      "text/html": [
       "<div>\n",
       "<style scoped>\n",
       "    .dataframe tbody tr th:only-of-type {\n",
       "        vertical-align: middle;\n",
       "    }\n",
       "\n",
       "    .dataframe tbody tr th {\n",
       "        vertical-align: top;\n",
       "    }\n",
       "\n",
       "    .dataframe thead th {\n",
       "        text-align: right;\n",
       "    }\n",
       "</style>\n",
       "<table border=\"1\" class=\"dataframe\">\n",
       "  <thead>\n",
       "    <tr style=\"text-align: right;\">\n",
       "      <th></th>\n",
       "      <th>target</th>\n",
       "      <th>text</th>\n",
       "      <th>num_words</th>\n",
       "      <th>num_chars</th>\n",
       "      <th>num_sentences</th>\n",
       "      <th>transform_text</th>\n",
       "    </tr>\n",
       "  </thead>\n",
       "  <tbody>\n",
       "    <tr>\n",
       "      <th>0</th>\n",
       "      <td>0</td>\n",
       "      <td>Go until jurong point, crazy.. Available only ...</td>\n",
       "      <td>24</td>\n",
       "      <td>111</td>\n",
       "      <td>24</td>\n",
       "      <td>go jurong point crazi avail bugi n great world...</td>\n",
       "    </tr>\n",
       "    <tr>\n",
       "      <th>1</th>\n",
       "      <td>0</td>\n",
       "      <td>Ok lar... Joking wif u oni...</td>\n",
       "      <td>8</td>\n",
       "      <td>29</td>\n",
       "      <td>8</td>\n",
       "      <td>ok lar joke wif u oni</td>\n",
       "    </tr>\n",
       "    <tr>\n",
       "      <th>2</th>\n",
       "      <td>1</td>\n",
       "      <td>Free entry in 2 a wkly comp to win FA Cup fina...</td>\n",
       "      <td>37</td>\n",
       "      <td>155</td>\n",
       "      <td>37</td>\n",
       "      <td>free entri 2 wkli comp win fa cup final tkt 21...</td>\n",
       "    </tr>\n",
       "    <tr>\n",
       "      <th>3</th>\n",
       "      <td>0</td>\n",
       "      <td>U dun say so early hor... U c already then say...</td>\n",
       "      <td>13</td>\n",
       "      <td>49</td>\n",
       "      <td>13</td>\n",
       "      <td>u dun say earli hor u c alreadi say</td>\n",
       "    </tr>\n",
       "    <tr>\n",
       "      <th>4</th>\n",
       "      <td>0</td>\n",
       "      <td>Nah I don't think he goes to usf, he lives aro...</td>\n",
       "      <td>15</td>\n",
       "      <td>61</td>\n",
       "      <td>15</td>\n",
       "      <td>nah think goe usf live around though</td>\n",
       "    </tr>\n",
       "    <tr>\n",
       "      <th>...</th>\n",
       "      <td>...</td>\n",
       "      <td>...</td>\n",
       "      <td>...</td>\n",
       "      <td>...</td>\n",
       "      <td>...</td>\n",
       "      <td>...</td>\n",
       "    </tr>\n",
       "    <tr>\n",
       "      <th>5567</th>\n",
       "      <td>1</td>\n",
       "      <td>This is the 2nd time we have tried 2 contact u...</td>\n",
       "      <td>35</td>\n",
       "      <td>160</td>\n",
       "      <td>35</td>\n",
       "      <td>2nd time tri 2 contact u pound prize 2 claim e...</td>\n",
       "    </tr>\n",
       "    <tr>\n",
       "      <th>5568</th>\n",
       "      <td>0</td>\n",
       "      <td>Will �_ b going to esplanade fr home?</td>\n",
       "      <td>9</td>\n",
       "      <td>37</td>\n",
       "      <td>9</td>\n",
       "      <td>b go esplanad fr home</td>\n",
       "    </tr>\n",
       "    <tr>\n",
       "      <th>5569</th>\n",
       "      <td>0</td>\n",
       "      <td>Pity, * was in mood for that. So...any other s...</td>\n",
       "      <td>15</td>\n",
       "      <td>57</td>\n",
       "      <td>15</td>\n",
       "      <td>piti mood suggest</td>\n",
       "    </tr>\n",
       "    <tr>\n",
       "      <th>5570</th>\n",
       "      <td>0</td>\n",
       "      <td>The guy did some bitching but I acted like i'd...</td>\n",
       "      <td>27</td>\n",
       "      <td>125</td>\n",
       "      <td>27</td>\n",
       "      <td>guy bitch act like interest buy someth els nex...</td>\n",
       "    </tr>\n",
       "    <tr>\n",
       "      <th>5571</th>\n",
       "      <td>0</td>\n",
       "      <td>Rofl. Its true to its name</td>\n",
       "      <td>7</td>\n",
       "      <td>26</td>\n",
       "      <td>7</td>\n",
       "      <td>rofl true name</td>\n",
       "    </tr>\n",
       "  </tbody>\n",
       "</table>\n",
       "<p>5169 rows × 6 columns</p>\n",
       "</div>"
      ],
      "text/plain": [
       "      target                                               text  num_words  \\\n",
       "0          0  Go until jurong point, crazy.. Available only ...         24   \n",
       "1          0                      Ok lar... Joking wif u oni...          8   \n",
       "2          1  Free entry in 2 a wkly comp to win FA Cup fina...         37   \n",
       "3          0  U dun say so early hor... U c already then say...         13   \n",
       "4          0  Nah I don't think he goes to usf, he lives aro...         15   \n",
       "...      ...                                                ...        ...   \n",
       "5567       1  This is the 2nd time we have tried 2 contact u...         35   \n",
       "5568       0              Will �_ b going to esplanade fr home?          9   \n",
       "5569       0  Pity, * was in mood for that. So...any other s...         15   \n",
       "5570       0  The guy did some bitching but I acted like i'd...         27   \n",
       "5571       0                         Rofl. Its true to its name          7   \n",
       "\n",
       "      num_chars  num_sentences  \\\n",
       "0           111             24   \n",
       "1            29              8   \n",
       "2           155             37   \n",
       "3            49             13   \n",
       "4            61             15   \n",
       "...         ...            ...   \n",
       "5567        160             35   \n",
       "5568         37              9   \n",
       "5569         57             15   \n",
       "5570        125             27   \n",
       "5571         26              7   \n",
       "\n",
       "                                         transform_text  \n",
       "0     go jurong point crazi avail bugi n great world...  \n",
       "1                                 ok lar joke wif u oni  \n",
       "2     free entri 2 wkli comp win fa cup final tkt 21...  \n",
       "3                   u dun say earli hor u c alreadi say  \n",
       "4                  nah think goe usf live around though  \n",
       "...                                                 ...  \n",
       "5567  2nd time tri 2 contact u pound prize 2 claim e...  \n",
       "5568                              b go esplanad fr home  \n",
       "5569                                  piti mood suggest  \n",
       "5570  guy bitch act like interest buy someth els nex...  \n",
       "5571                                     rofl true name  \n",
       "\n",
       "[5169 rows x 6 columns]"
      ]
     },
     "execution_count": 197,
     "metadata": {},
     "output_type": "execute_result"
    }
   ],
   "source": [
    "df2"
   ]
  },
  {
   "cell_type": "code",
   "execution_count": 198,
   "id": "5a8c5dc5",
   "metadata": {},
   "outputs": [],
   "source": [
    "from wordcloud import WordCloud\n",
    "wc = WordCloud(width=500, height=500, min_font_size=10, background_color='white')"
   ]
  },
  {
   "cell_type": "code",
   "execution_count": 200,
   "id": "d6f0604f",
   "metadata": {},
   "outputs": [
    {
     "data": {
      "text/plain": [
       "<matplotlib.image.AxesImage at 0x7fccf500b640>"
      ]
     },
     "execution_count": 200,
     "metadata": {},
     "output_type": "execute_result"
    },
    {
     "data": {
      "image/png": "[encoded data removed]",
      "text/plain": [
       "<Figure size 432x288 with 1 Axes>"
      ]
     },
     "metadata": {
      "needs_background": "light"
     },
     "output_type": "display_data"
    }
   ],
   "source": [
    "spam_wc = wc.generate(df2[df2[\"target\"] == 1][\"transform_text\"].str.cat(sep=\" \"))\n",
    "plt.imshow(spam_wc)"
   ]
  },
  {
   "cell_type": "code",
   "execution_count": 201,
   "id": "24397684",
   "metadata": {},
   "outputs": [
    {
     "data": {
      "text/plain": [
       "<matplotlib.image.AxesImage at 0x7fccf53202b0>"
      ]
     },
     "execution_count": 201,
     "metadata": {},
     "output_type": "execute_result"
    },
    {
     "data": {
      "image/png": "[encoded data removed]",
      "text/plain": [
       "<Figure size 432x288 with 1 Axes>"
      ]
     },
     "metadata": {
      "needs_background": "light"
     },
     "output_type": "display_data"
    }
   ],
   "source": [
    "ham_wc = wc.generate(df2[df2[\"target\"] == 0][\"transform_text\"].str.cat(sep=\" \"))\n",
    "plt.imshow(ham_wc)"
   ]
  },
  {
   "cell_type": "code",
   "execution_count": 202,
   "id": "a8e04a8b",
   "metadata": {},
   "outputs": [],
   "source": [
    "spam_corpus = []\n",
    "for msg in df2[df2[\"target\"] == 1][\"transform_text\"].tolist():\n",
    "    for word in msg.split():\n",
    "        spam_corpus.append(word)"
   ]
  },
  {
   "cell_type": "code",
   "execution_count": 203,
   "id": "2b70292e",
   "metadata": {},
   "outputs": [],
   "source": [
    "ham_corpus = []\n",
    "for msg in df2[df2[\"target\"] == 0][\"transform_text\"].tolist():\n",
    "    for word in msg.split():\n",
    "        ham_corpus.append(word)"
   ]
  },
  {
   "cell_type": "code",
   "execution_count": 316,
   "id": "9ab19ab2",
   "metadata": {},
   "outputs": [
    {
     "data": {
      "text/plain": [
       "['free',\n",
       " 'entri',\n",
       " '2',\n",
       " 'wkli',\n",
       " 'comp',\n",
       " 'win',\n",
       " 'fa',\n",
       " 'cup',\n",
       " 'final',\n",
       " 'tkt',\n",
       " '21st',\n",
       " 'may',\n",
       " 'text',\n",
       " 'fa',\n",
       " '87121',\n",
       " 'receiv',\n",
       " 'entri',\n",
       " 'question',\n",
       " 'std',\n",
       " 'txt',\n",
       " 'rate',\n",
       " 'c',\n",
       " 'appli',\n",
       " '08452810075over18',\n",
       " 'freemsg',\n",
       " 'hey',\n",
       " 'darl',\n",
       " '3',\n",
       " 'week',\n",
       " 'word',\n",
       " 'back',\n",
       " 'like',\n",
       " 'fun',\n",
       " 'still',\n",
       " 'tb',\n",
       " 'ok',\n",
       " 'xxx',\n",
       " 'std',\n",
       " 'chg',\n",
       " 'send',\n",
       " 'rcv',\n",
       " 'winner',\n",
       " 'valu',\n",
       " 'network',\n",
       " 'custom',\n",
       " 'select',\n",
       " 'receivea',\n",
       " 'prize',\n",
       " 'reward',\n",
       " 'claim',\n",
       " 'call',\n",
       " 'claim',\n",
       " 'code',\n",
       " 'kl341',\n",
       " 'valid',\n",
       " '12',\n",
       " 'hour',\n",
       " 'mobil',\n",
       " '11',\n",
       " 'month',\n",
       " 'u',\n",
       " 'r',\n",
       " 'entitl',\n",
       " 'updat',\n",
       " 'latest',\n",
       " 'colour',\n",
       " 'mobil',\n",
       " 'camera',\n",
       " 'free',\n",
       " 'call',\n",
       " 'mobil',\n",
       " 'updat',\n",
       " 'co',\n",
       " 'free',\n",
       " '08002986030',\n",
       " 'six',\n",
       " 'chanc',\n",
       " 'win',\n",
       " 'cash',\n",
       " '100',\n",
       " 'pound',\n",
       " 'txt',\n",
       " 'csh11',\n",
       " 'send',\n",
       " 'cost',\n",
       " '6day',\n",
       " 'tsandc',\n",
       " 'appli',\n",
       " 'repli',\n",
       " 'hl',\n",
       " '4',\n",
       " 'info',\n",
       " 'urgent',\n",
       " '1',\n",
       " 'week',\n",
       " 'free',\n",
       " 'membership',\n",
       " 'prize',\n",
       " 'jackpot',\n",
       " 'txt',\n",
       " 'word',\n",
       " 'claim',\n",
       " '81010',\n",
       " 'c',\n",
       " 'lccltd',\n",
       " 'pobox',\n",
       " '4403ldnw1a7rw18',\n",
       " 'xxxmobilemovieclub',\n",
       " 'use',\n",
       " 'credit',\n",
       " 'click',\n",
       " 'wap',\n",
       " 'link',\n",
       " 'next',\n",
       " 'txt',\n",
       " 'messag',\n",
       " 'click',\n",
       " 'http',\n",
       " 'england',\n",
       " 'v',\n",
       " 'macedonia',\n",
       " 'dont',\n",
       " 'miss',\n",
       " 'news',\n",
       " 'txt',\n",
       " 'ur',\n",
       " 'nation',\n",
       " 'team',\n",
       " '87077',\n",
       " 'eg',\n",
       " 'england',\n",
       " '87077',\n",
       " 'tri',\n",
       " 'wale',\n",
       " 'scotland',\n",
       " 'poboxox36504w45wq',\n",
       " 'thank',\n",
       " 'subscript',\n",
       " 'rington',\n",
       " 'uk',\n",
       " 'mobil',\n",
       " 'charg',\n",
       " 'pleas',\n",
       " 'confirm',\n",
       " 'repli',\n",
       " 'ye',\n",
       " 'repli',\n",
       " 'charg',\n",
       " '07732584351',\n",
       " 'rodger',\n",
       " 'burn',\n",
       " 'msg',\n",
       " 'tri',\n",
       " 'call',\n",
       " 'repli',\n",
       " 'sm',\n",
       " 'free',\n",
       " 'nokia',\n",
       " 'mobil',\n",
       " 'free',\n",
       " 'camcord',\n",
       " 'pleas',\n",
       " 'call',\n",
       " '08000930705',\n",
       " 'deliveri',\n",
       " 'tomorrow',\n",
       " 'sm',\n",
       " 'ac',\n",
       " 'sptv',\n",
       " 'new',\n",
       " 'jersey',\n",
       " 'devil',\n",
       " 'detroit',\n",
       " 'red',\n",
       " 'wing',\n",
       " 'play',\n",
       " 'ice',\n",
       " 'hockey',\n",
       " 'correct',\n",
       " 'incorrect',\n",
       " 'end',\n",
       " 'repli',\n",
       " 'end',\n",
       " 'sptv',\n",
       " 'congrat',\n",
       " '1',\n",
       " 'year',\n",
       " 'special',\n",
       " 'cinema',\n",
       " 'pass',\n",
       " '2',\n",
       " 'call',\n",
       " '09061209465',\n",
       " 'c',\n",
       " 'suprman',\n",
       " 'v',\n",
       " 'matrix3',\n",
       " 'starwars3',\n",
       " 'etc',\n",
       " '4',\n",
       " 'free',\n",
       " '150pm',\n",
       " 'dont',\n",
       " 'miss',\n",
       " 'valu',\n",
       " 'custom',\n",
       " 'pleas',\n",
       " 'advis',\n",
       " 'follow',\n",
       " 'recent',\n",
       " 'review',\n",
       " 'mob',\n",
       " 'award',\n",
       " 'bonu',\n",
       " 'prize',\n",
       " 'call',\n",
       " '09066364589',\n",
       " 'urgent',\n",
       " 'ur',\n",
       " 'award',\n",
       " 'complimentari',\n",
       " 'trip',\n",
       " 'eurodisinc',\n",
       " 'trav',\n",
       " 'aco',\n",
       " 'entry41',\n",
       " 'claim',\n",
       " 'txt',\n",
       " 'di',\n",
       " '87121',\n",
       " 'morefrmmob',\n",
       " 'shracomorsglsuplt',\n",
       " '10',\n",
       " 'ls1',\n",
       " '3aj',\n",
       " 'hear',\n",
       " 'new',\n",
       " 'come',\n",
       " 'ken',\n",
       " 'stuff',\n",
       " 'pleas',\n",
       " 'call',\n",
       " 'custom',\n",
       " 'servic',\n",
       " 'repres',\n",
       " '0800',\n",
       " '169',\n",
       " '6031',\n",
       " 'guarante',\n",
       " 'cash',\n",
       " 'prize',\n",
       " 'free',\n",
       " 'rington',\n",
       " 'wait',\n",
       " 'collect',\n",
       " 'simpli',\n",
       " 'text',\n",
       " 'password',\n",
       " '85069',\n",
       " 'verifi',\n",
       " 'get',\n",
       " 'usher',\n",
       " 'britney',\n",
       " 'fml',\n",
       " 'gent',\n",
       " 'tri',\n",
       " 'contact',\n",
       " 'last',\n",
       " 'weekend',\n",
       " 'draw',\n",
       " 'show',\n",
       " 'prize',\n",
       " 'guarante',\n",
       " 'call',\n",
       " 'claim',\n",
       " 'code',\n",
       " 'k52',\n",
       " 'valid',\n",
       " '12hr',\n",
       " '150ppm',\n",
       " 'winner',\n",
       " 'u',\n",
       " 'special',\n",
       " 'select',\n",
       " '2',\n",
       " 'receiv',\n",
       " '4',\n",
       " 'holiday',\n",
       " 'flight',\n",
       " 'inc',\n",
       " 'speak',\n",
       " 'live',\n",
       " 'oper',\n",
       " '2',\n",
       " 'claim',\n",
       " 'privat',\n",
       " '2004',\n",
       " 'account',\n",
       " 'statement',\n",
       " '07742676969',\n",
       " 'show',\n",
       " '786',\n",
       " 'unredeem',\n",
       " 'bonu',\n",
       " 'point',\n",
       " 'claim',\n",
       " 'call',\n",
       " '08719180248',\n",
       " 'identifi',\n",
       " 'code',\n",
       " '45239',\n",
       " 'expir',\n",
       " 'urgent',\n",
       " 'mobil',\n",
       " 'award',\n",
       " 'bonu',\n",
       " 'caller',\n",
       " 'prize',\n",
       " 'final',\n",
       " 'tri',\n",
       " 'contact',\n",
       " 'u',\n",
       " 'call',\n",
       " 'landlin',\n",
       " '09064019788',\n",
       " 'box42wr29c',\n",
       " '150ppm',\n",
       " 'today',\n",
       " 'voda',\n",
       " 'number',\n",
       " 'end',\n",
       " '7548',\n",
       " 'select',\n",
       " 'receiv',\n",
       " '350',\n",
       " 'award',\n",
       " 'match',\n",
       " 'pleas',\n",
       " 'call',\n",
       " '08712300220',\n",
       " 'quot',\n",
       " 'claim',\n",
       " 'code',\n",
       " '4041',\n",
       " 'standard',\n",
       " 'rate',\n",
       " 'app',\n",
       " 'sunshin',\n",
       " 'quiz',\n",
       " 'wkli',\n",
       " 'q',\n",
       " 'win',\n",
       " 'top',\n",
       " 'soni',\n",
       " 'dvd',\n",
       " 'player',\n",
       " 'u',\n",
       " 'know',\n",
       " 'countri',\n",
       " 'algarv',\n",
       " 'txt',\n",
       " 'ansr',\n",
       " '82277',\n",
       " 'sp',\n",
       " 'tyron',\n",
       " 'want',\n",
       " '2',\n",
       " 'get',\n",
       " 'laid',\n",
       " 'tonight',\n",
       " 'want',\n",
       " 'real',\n",
       " 'dog',\n",
       " 'locat',\n",
       " 'sent',\n",
       " 'direct',\n",
       " '2',\n",
       " 'ur',\n",
       " 'mob',\n",
       " 'join',\n",
       " 'uk',\n",
       " 'largest',\n",
       " 'dog',\n",
       " 'network',\n",
       " 'bt',\n",
       " 'txting',\n",
       " 'gravel',\n",
       " '69888',\n",
       " 'nt',\n",
       " 'ec2a',\n",
       " '150p',\n",
       " 'rcv',\n",
       " 'msg',\n",
       " 'chat',\n",
       " 'svc',\n",
       " 'free',\n",
       " 'hardcor',\n",
       " 'servic',\n",
       " 'text',\n",
       " 'go',\n",
       " '69988',\n",
       " 'u',\n",
       " 'get',\n",
       " 'noth',\n",
       " 'u',\n",
       " 'must',\n",
       " 'age',\n",
       " 'verifi',\n",
       " 'yr',\n",
       " 'network',\n",
       " 'tri',\n",
       " 'freemsg',\n",
       " 'repli',\n",
       " 'text',\n",
       " 'randi',\n",
       " 'sexi',\n",
       " 'femal',\n",
       " 'live',\n",
       " 'local',\n",
       " 'luv',\n",
       " 'hear',\n",
       " 'netcollex',\n",
       " 'ltd',\n",
       " '08700621170150p',\n",
       " 'per',\n",
       " 'msg',\n",
       " 'repli',\n",
       " 'stop',\n",
       " 'end',\n",
       " 'custom',\n",
       " 'servic',\n",
       " 'annonc',\n",
       " 'new',\n",
       " 'year',\n",
       " 'deliveri',\n",
       " 'wait',\n",
       " 'pleas',\n",
       " 'call',\n",
       " '07046744435',\n",
       " 'arrang',\n",
       " 'deliveri',\n",
       " 'winner',\n",
       " 'u',\n",
       " 'special',\n",
       " 'select',\n",
       " '2',\n",
       " 'receiv',\n",
       " 'cash',\n",
       " '4',\n",
       " 'holiday',\n",
       " 'flight',\n",
       " 'inc',\n",
       " 'speak',\n",
       " 'live',\n",
       " 'oper',\n",
       " '2',\n",
       " 'claim',\n",
       " '0871277810810',\n",
       " 'stop',\n",
       " 'bootydeli',\n",
       " 'invit',\n",
       " 'friend',\n",
       " 'repli',\n",
       " 'see',\n",
       " 'stop',\n",
       " 'send',\n",
       " 'stop',\n",
       " 'frnd',\n",
       " '62468',\n",
       " 'bangbab',\n",
       " 'ur',\n",
       " 'order',\n",
       " 'way',\n",
       " 'u',\n",
       " 'receiv',\n",
       " 'servic',\n",
       " 'msg',\n",
       " '2',\n",
       " 'download',\n",
       " 'ur',\n",
       " 'content',\n",
       " 'u',\n",
       " 'goto',\n",
       " 'wap',\n",
       " 'bangb',\n",
       " 'tv',\n",
       " 'ur',\n",
       " 'mobil',\n",
       " 'menu',\n",
       " 'urgent',\n",
       " 'tri',\n",
       " 'contact',\n",
       " 'last',\n",
       " 'weekend',\n",
       " 'draw',\n",
       " 'show',\n",
       " 'prize',\n",
       " 'guarante',\n",
       " 'call',\n",
       " 'claim',\n",
       " 'code',\n",
       " 's89',\n",
       " 'valid',\n",
       " '12hr',\n",
       " 'pleas',\n",
       " 'call',\n",
       " 'custom',\n",
       " 'servic',\n",
       " 'repres',\n",
       " 'freephon',\n",
       " '0808',\n",
       " '145',\n",
       " '4742',\n",
       " 'guarante',\n",
       " 'cash',\n",
       " 'prize',\n",
       " 'uniqu',\n",
       " 'enough',\n",
       " 'find',\n",
       " '30th',\n",
       " 'august',\n",
       " '500',\n",
       " 'new',\n",
       " 'mobil',\n",
       " '2004',\n",
       " 'must',\n",
       " 'go',\n",
       " 'txt',\n",
       " 'nokia',\n",
       " '89545',\n",
       " 'collect',\n",
       " 'today',\n",
       " '2optout',\n",
       " 'u',\n",
       " 'meet',\n",
       " 'ur',\n",
       " 'dream',\n",
       " 'partner',\n",
       " 'soon',\n",
       " 'ur',\n",
       " 'career',\n",
       " '2',\n",
       " 'flyng',\n",
       " 'start',\n",
       " '2',\n",
       " 'find',\n",
       " 'free',\n",
       " 'txt',\n",
       " 'horo',\n",
       " 'follow',\n",
       " 'ur',\n",
       " 'star',\n",
       " 'sign',\n",
       " 'horo',\n",
       " 'ari',\n",
       " 'text',\n",
       " 'meet',\n",
       " 'someon',\n",
       " 'sexi',\n",
       " 'today',\n",
       " 'u',\n",
       " 'find',\n",
       " 'date',\n",
       " 'even',\n",
       " 'flirt',\n",
       " 'join',\n",
       " '4',\n",
       " '10p',\n",
       " 'repli',\n",
       " 'name',\n",
       " 'age',\n",
       " 'eg',\n",
       " 'sam',\n",
       " '25',\n",
       " '18',\n",
       " 'recd',\n",
       " 'thirtyeight',\n",
       " 'penc',\n",
       " 'u',\n",
       " '447801259231',\n",
       " 'secret',\n",
       " 'admir',\n",
       " 'look',\n",
       " '2',\n",
       " 'make',\n",
       " 'contact',\n",
       " 'r',\n",
       " 'reveal',\n",
       " 'think',\n",
       " 'ur',\n",
       " '09058094597',\n",
       " 'congratul',\n",
       " 'ur',\n",
       " 'award',\n",
       " '500',\n",
       " 'cd',\n",
       " 'voucher',\n",
       " '125gift',\n",
       " 'guarante',\n",
       " 'free',\n",
       " 'entri',\n",
       " '2',\n",
       " '100',\n",
       " 'wkli',\n",
       " 'draw',\n",
       " 'txt',\n",
       " 'music',\n",
       " '87066',\n",
       " 'tnc',\n",
       " 'tri',\n",
       " 'contact',\n",
       " 'repli',\n",
       " 'offer',\n",
       " 'video',\n",
       " 'handset',\n",
       " '750',\n",
       " 'anytim',\n",
       " 'network',\n",
       " 'min',\n",
       " 'unlimit',\n",
       " 'text',\n",
       " 'camcord',\n",
       " 'repli',\n",
       " 'call',\n",
       " '08000930705',\n",
       " 'hey',\n",
       " 'realli',\n",
       " 'horni',\n",
       " 'want',\n",
       " 'chat',\n",
       " 'see',\n",
       " 'nake',\n",
       " 'text',\n",
       " 'hot',\n",
       " '69698',\n",
       " 'text',\n",
       " 'charg',\n",
       " '150pm',\n",
       " 'unsubscrib',\n",
       " 'text',\n",
       " 'stop',\n",
       " '69698',\n",
       " 'ur',\n",
       " 'rington',\n",
       " 'servic',\n",
       " 'chang',\n",
       " '25',\n",
       " 'free',\n",
       " 'credit',\n",
       " 'go',\n",
       " 'choos',\n",
       " 'content',\n",
       " 'stop',\n",
       " 'txt',\n",
       " 'club',\n",
       " 'stop',\n",
       " '87070',\n",
       " 'club4',\n",
       " 'po',\n",
       " 'box1146',\n",
       " 'mk45',\n",
       " '2wt',\n",
       " 'rington',\n",
       " 'club',\n",
       " 'get',\n",
       " 'uk',\n",
       " 'singl',\n",
       " 'chart',\n",
       " 'mobil',\n",
       " 'week',\n",
       " 'choos',\n",
       " 'top',\n",
       " 'qualiti',\n",
       " 'rington',\n",
       " 'messag',\n",
       " 'free',\n",
       " 'charg',\n",
       " 'hmv',\n",
       " 'bonu',\n",
       " 'special',\n",
       " '500',\n",
       " 'pound',\n",
       " 'genuin',\n",
       " 'hmv',\n",
       " 'voucher',\n",
       " 'answer',\n",
       " '4',\n",
       " 'easi',\n",
       " 'question',\n",
       " 'play',\n",
       " 'send',\n",
       " 'hmv',\n",
       " '86688',\n",
       " 'info',\n",
       " 'custom',\n",
       " 'may',\n",
       " 'claim',\n",
       " 'free',\n",
       " 'camera',\n",
       " 'phone',\n",
       " 'upgrad',\n",
       " 'pay',\n",
       " 'go',\n",
       " 'sim',\n",
       " 'card',\n",
       " 'loyalti',\n",
       " 'call',\n",
       " '0845',\n",
       " '021',\n",
       " 'end',\n",
       " 'c',\n",
       " 'appli',\n",
       " 'sm',\n",
       " 'ac',\n",
       " 'blind',\n",
       " 'date',\n",
       " '4u',\n",
       " 'rodds1',\n",
       " 'aberdeen',\n",
       " 'unit',\n",
       " 'kingdom',\n",
       " 'check',\n",
       " 'http',\n",
       " 'sm',\n",
       " 'blind',\n",
       " 'date',\n",
       " 'send',\n",
       " 'hide',\n",
       " 'themob',\n",
       " 'check',\n",
       " 'newest',\n",
       " 'select',\n",
       " 'content',\n",
       " 'game',\n",
       " 'tone',\n",
       " 'gossip',\n",
       " 'babe',\n",
       " 'sport',\n",
       " 'keep',\n",
       " 'mobil',\n",
       " 'fit',\n",
       " 'funki',\n",
       " 'text',\n",
       " 'wap',\n",
       " '82468',\n",
       " 'think',\n",
       " 'ur',\n",
       " 'smart',\n",
       " 'win',\n",
       " 'week',\n",
       " 'weekli',\n",
       " 'quiz',\n",
       " 'text',\n",
       " 'play',\n",
       " '85222',\n",
       " 'cs',\n",
       " 'winnersclub',\n",
       " 'po',\n",
       " 'box',\n",
       " '84',\n",
       " 'm26',\n",
       " '3uz',\n",
       " 'decemb',\n",
       " 'mobil',\n",
       " 'entitl',\n",
       " 'updat',\n",
       " 'latest',\n",
       " 'colour',\n",
       " 'camera',\n",
       " 'mobil',\n",
       " 'free',\n",
       " 'call',\n",
       " 'mobil',\n",
       " 'updat',\n",
       " 'co',\n",
       " 'free',\n",
       " '08002986906',\n",
       " 'call',\n",
       " 'germani',\n",
       " '1',\n",
       " 'penc',\n",
       " 'per',\n",
       " 'minut',\n",
       " 'call',\n",
       " 'fix',\n",
       " 'line',\n",
       " 'via',\n",
       " 'access',\n",
       " 'number',\n",
       " '0844',\n",
       " '861',\n",
       " '85',\n",
       " 'prepay',\n",
       " 'direct',\n",
       " 'access',\n",
       " 'valentin',\n",
       " 'day',\n",
       " 'special',\n",
       " 'win',\n",
       " 'quiz',\n",
       " 'take',\n",
       " 'partner',\n",
       " 'trip',\n",
       " 'lifetim',\n",
       " 'send',\n",
       " 'go',\n",
       " '83600',\n",
       " 'rcvd',\n",
       " 'fanci',\n",
       " 'shag',\n",
       " 'txt',\n",
       " 'xxuk',\n",
       " 'suzi',\n",
       " 'txt',\n",
       " 'cost',\n",
       " 'per',\n",
       " 'msg',\n",
       " 'tnc',\n",
       " 'websit',\n",
       " 'x',\n",
       " 'ur',\n",
       " 'current',\n",
       " '500',\n",
       " 'pound',\n",
       " 'maxim',\n",
       " 'ur',\n",
       " 'send',\n",
       " 'cash',\n",
       " '86688',\n",
       " 'cc',\n",
       " '08708800282',\n",
       " 'xma',\n",
       " 'offer',\n",
       " 'latest',\n",
       " 'motorola',\n",
       " 'sonyericsson',\n",
       " 'nokia',\n",
       " 'free',\n",
       " 'bluetooth',\n",
       " 'doubl',\n",
       " 'min',\n",
       " '1000',\n",
       " 'txt',\n",
       " 'orang',\n",
       " 'call',\n",
       " 'mobileupd8',\n",
       " '08000839402',\n",
       " 'discount',\n",
       " 'code',\n",
       " 'rp176781',\n",
       " 'stop',\n",
       " 'messag',\n",
       " 'repli',\n",
       " 'stop',\n",
       " 'custom',\n",
       " 'servic',\n",
       " '08717205546',\n",
       " 'thank',\n",
       " 'rington',\n",
       " 'order',\n",
       " 'refer',\n",
       " 't91',\n",
       " 'charg',\n",
       " 'gbp',\n",
       " '4',\n",
       " 'per',\n",
       " 'week',\n",
       " 'unsubscrib',\n",
       " 'anytim',\n",
       " 'call',\n",
       " 'custom',\n",
       " 'servic',\n",
       " '09057039994',\n",
       " 'doubl',\n",
       " 'min',\n",
       " 'txt',\n",
       " '4',\n",
       " '6month',\n",
       " 'free',\n",
       " 'bluetooth',\n",
       " 'orang',\n",
       " 'avail',\n",
       " 'soni',\n",
       " 'nokia',\n",
       " 'motorola',\n",
       " 'phone',\n",
       " 'call',\n",
       " 'mobileupd8',\n",
       " '08000839402',\n",
       " '4mth',\n",
       " 'half',\n",
       " 'price',\n",
       " 'orang',\n",
       " 'line',\n",
       " 'rental',\n",
       " 'latest',\n",
       " 'camera',\n",
       " 'phone',\n",
       " '4',\n",
       " 'free',\n",
       " 'phone',\n",
       " '11mth',\n",
       " 'call',\n",
       " 'mobilesdirect',\n",
       " 'free',\n",
       " '08000938767',\n",
       " 'updat',\n",
       " 'or2stoptxt',\n",
       " 'free',\n",
       " 'rington',\n",
       " 'text',\n",
       " 'first',\n",
       " '87131',\n",
       " 'poli',\n",
       " 'text',\n",
       " 'get',\n",
       " '87131',\n",
       " 'true',\n",
       " 'tone',\n",
       " 'help',\n",
       " '0845',\n",
       " '2814032',\n",
       " '16',\n",
       " '1st',\n",
       " 'free',\n",
       " 'tone',\n",
       " 'txt',\n",
       " 'stop',\n",
       " '100',\n",
       " 'date',\n",
       " 'servic',\n",
       " 'cal',\n",
       " 'l',\n",
       " '09064012103',\n",
       " 'box334sk38ch',\n",
       " 'free',\n",
       " 'entri',\n",
       " 'weekli',\n",
       " 'competit',\n",
       " 'text',\n",
       " 'word',\n",
       " 'win',\n",
       " '80086',\n",
       " '18',\n",
       " 'c',\n",
       " 'send',\n",
       " 'logo',\n",
       " '2',\n",
       " 'ur',\n",
       " 'lover',\n",
       " '2',\n",
       " 'name',\n",
       " 'join',\n",
       " 'heart',\n",
       " 'txt',\n",
       " 'love',\n",
       " 'name1',\n",
       " 'name2',\n",
       " 'mobno',\n",
       " 'eg',\n",
       " 'love',\n",
       " 'adam',\n",
       " 'eve',\n",
       " '07123456789',\n",
       " '87077',\n",
       " 'yahoo',\n",
       " 'pobox36504w45wq',\n",
       " 'txtno',\n",
       " '4',\n",
       " 'ad',\n",
       " '150p',\n",
       " 'someon',\n",
       " 'contact',\n",
       " 'date',\n",
       " 'servic',\n",
       " 'enter',\n",
       " 'phone',\n",
       " 'fanci',\n",
       " 'find',\n",
       " 'call',\n",
       " 'landlin',\n",
       " '09111032124',\n",
       " 'pobox12n146tf150p',\n",
       " 'urgent',\n",
       " 'mobil',\n",
       " 'number',\n",
       " 'award',\n",
       " 'prize',\n",
       " 'guarante',\n",
       " 'call',\n",
       " '09058094455',\n",
       " 'land',\n",
       " 'line',\n",
       " 'claim',\n",
       " 'valid',\n",
       " '12hr',\n",
       " 'congrat',\n",
       " 'nokia',\n",
       " '3650',\n",
       " 'video',\n",
       " ...]"
      ]
     },
     "execution_count": 316,
     "metadata": {},
     "output_type": "execute_result"
    }
   ],
   "source": [
    "spam_corpus"
   ]
  },
  {
   "cell_type": "code",
   "execution_count": null,
   "id": "922d8ab2",
   "metadata": {},
   "outputs": [],
   "source": [
    "ham_corpus "
   ]
  },
  {
   "cell_type": "markdown",
   "id": "32c00c4b",
   "metadata": {},
   "source": [
    "## CHECKING THE FIRST 5 ROWS"
   ]
  },
  {
   "cell_type": "code",
   "execution_count": 236,
   "id": "de87a0c2",
   "metadata": {},
   "outputs": [
    {
     "data": {
      "text/html": [
       "<div>\n",
       "<style scoped>\n",
       "    .dataframe tbody tr th:only-of-type {\n",
       "        vertical-align: middle;\n",
       "    }\n",
       "\n",
       "    .dataframe tbody tr th {\n",
       "        vertical-align: top;\n",
       "    }\n",
       "\n",
       "    .dataframe thead th {\n",
       "        text-align: right;\n",
       "    }\n",
       "</style>\n",
       "<table border=\"1\" class=\"dataframe\">\n",
       "  <thead>\n",
       "    <tr style=\"text-align: right;\">\n",
       "      <th></th>\n",
       "      <th>target</th>\n",
       "      <th>text</th>\n",
       "      <th>num_words</th>\n",
       "      <th>num_chars</th>\n",
       "      <th>num_sentences</th>\n",
       "      <th>transform_text</th>\n",
       "    </tr>\n",
       "  </thead>\n",
       "  <tbody>\n",
       "    <tr>\n",
       "      <th>0</th>\n",
       "      <td>0</td>\n",
       "      <td>Go until jurong point, crazy.. Available only ...</td>\n",
       "      <td>24</td>\n",
       "      <td>111</td>\n",
       "      <td>24</td>\n",
       "      <td>go jurong point crazi avail bugi n great world...</td>\n",
       "    </tr>\n",
       "    <tr>\n",
       "      <th>1</th>\n",
       "      <td>0</td>\n",
       "      <td>Ok lar... Joking wif u oni...</td>\n",
       "      <td>8</td>\n",
       "      <td>29</td>\n",
       "      <td>8</td>\n",
       "      <td>ok lar joke wif u oni</td>\n",
       "    </tr>\n",
       "    <tr>\n",
       "      <th>2</th>\n",
       "      <td>1</td>\n",
       "      <td>Free entry in 2 a wkly comp to win FA Cup fina...</td>\n",
       "      <td>37</td>\n",
       "      <td>155</td>\n",
       "      <td>37</td>\n",
       "      <td>free entri 2 wkli comp win fa cup final tkt 21...</td>\n",
       "    </tr>\n",
       "    <tr>\n",
       "      <th>3</th>\n",
       "      <td>0</td>\n",
       "      <td>U dun say so early hor... U c already then say...</td>\n",
       "      <td>13</td>\n",
       "      <td>49</td>\n",
       "      <td>13</td>\n",
       "      <td>u dun say earli hor u c alreadi say</td>\n",
       "    </tr>\n",
       "    <tr>\n",
       "      <th>4</th>\n",
       "      <td>0</td>\n",
       "      <td>Nah I don't think he goes to usf, he lives aro...</td>\n",
       "      <td>15</td>\n",
       "      <td>61</td>\n",
       "      <td>15</td>\n",
       "      <td>nah think goe usf live around though</td>\n",
       "    </tr>\n",
       "  </tbody>\n",
       "</table>\n",
       "</div>"
      ],
      "text/plain": [
       "   target                                               text  num_words  \\\n",
       "0       0  Go until jurong point, crazy.. Available only ...         24   \n",
       "1       0                      Ok lar... Joking wif u oni...          8   \n",
       "2       1  Free entry in 2 a wkly comp to win FA Cup fina...         37   \n",
       "3       0  U dun say so early hor... U c already then say...         13   \n",
       "4       0  Nah I don't think he goes to usf, he lives aro...         15   \n",
       "\n",
       "   num_chars  num_sentences                                     transform_text  \n",
       "0        111             24  go jurong point crazi avail bugi n great world...  \n",
       "1         29              8                              ok lar joke wif u oni  \n",
       "2        155             37  free entri 2 wkli comp win fa cup final tkt 21...  \n",
       "3         49             13                u dun say earli hor u c alreadi say  \n",
       "4         61             15               nah think goe usf live around though  "
      ]
     },
     "execution_count": 236,
     "metadata": {},
     "output_type": "execute_result"
    }
   ],
   "source": [
    "df2.head()"
   ]
  },
  {
   "cell_type": "markdown",
   "id": "f314ec8c",
   "metadata": {},
   "source": [
    "## CHECKING THE LAST 5 ROWS"
   ]
  },
  {
   "cell_type": "code",
   "execution_count": 237,
   "id": "7d2ee18b",
   "metadata": {},
   "outputs": [
    {
     "data": {
      "text/html": [
       "<div>\n",
       "<style scoped>\n",
       "    .dataframe tbody tr th:only-of-type {\n",
       "        vertical-align: middle;\n",
       "    }\n",
       "\n",
       "    .dataframe tbody tr th {\n",
       "        vertical-align: top;\n",
       "    }\n",
       "\n",
       "    .dataframe thead th {\n",
       "        text-align: right;\n",
       "    }\n",
       "</style>\n",
       "<table border=\"1\" class=\"dataframe\">\n",
       "  <thead>\n",
       "    <tr style=\"text-align: right;\">\n",
       "      <th></th>\n",
       "      <th>target</th>\n",
       "      <th>text</th>\n",
       "      <th>num_words</th>\n",
       "      <th>num_chars</th>\n",
       "      <th>num_sentences</th>\n",
       "      <th>transform_text</th>\n",
       "    </tr>\n",
       "  </thead>\n",
       "  <tbody>\n",
       "    <tr>\n",
       "      <th>5567</th>\n",
       "      <td>1</td>\n",
       "      <td>This is the 2nd time we have tried 2 contact u...</td>\n",
       "      <td>35</td>\n",
       "      <td>160</td>\n",
       "      <td>35</td>\n",
       "      <td>2nd time tri 2 contact u pound prize 2 claim e...</td>\n",
       "    </tr>\n",
       "    <tr>\n",
       "      <th>5568</th>\n",
       "      <td>0</td>\n",
       "      <td>Will �_ b going to esplanade fr home?</td>\n",
       "      <td>9</td>\n",
       "      <td>37</td>\n",
       "      <td>9</td>\n",
       "      <td>b go esplanad fr home</td>\n",
       "    </tr>\n",
       "    <tr>\n",
       "      <th>5569</th>\n",
       "      <td>0</td>\n",
       "      <td>Pity, * was in mood for that. So...any other s...</td>\n",
       "      <td>15</td>\n",
       "      <td>57</td>\n",
       "      <td>15</td>\n",
       "      <td>piti mood suggest</td>\n",
       "    </tr>\n",
       "    <tr>\n",
       "      <th>5570</th>\n",
       "      <td>0</td>\n",
       "      <td>The guy did some bitching but I acted like i'd...</td>\n",
       "      <td>27</td>\n",
       "      <td>125</td>\n",
       "      <td>27</td>\n",
       "      <td>guy bitch act like interest buy someth els nex...</td>\n",
       "    </tr>\n",
       "    <tr>\n",
       "      <th>5571</th>\n",
       "      <td>0</td>\n",
       "      <td>Rofl. Its true to its name</td>\n",
       "      <td>7</td>\n",
       "      <td>26</td>\n",
       "      <td>7</td>\n",
       "      <td>rofl true name</td>\n",
       "    </tr>\n",
       "  </tbody>\n",
       "</table>\n",
       "</div>"
      ],
      "text/plain": [
       "      target                                               text  num_words  \\\n",
       "5567       1  This is the 2nd time we have tried 2 contact u...         35   \n",
       "5568       0              Will �_ b going to esplanade fr home?          9   \n",
       "5569       0  Pity, * was in mood for that. So...any other s...         15   \n",
       "5570       0  The guy did some bitching but I acted like i'd...         27   \n",
       "5571       0                         Rofl. Its true to its name          7   \n",
       "\n",
       "      num_chars  num_sentences  \\\n",
       "5567        160             35   \n",
       "5568         37              9   \n",
       "5569         57             15   \n",
       "5570        125             27   \n",
       "5571         26              7   \n",
       "\n",
       "                                         transform_text  \n",
       "5567  2nd time tri 2 contact u pound prize 2 claim e...  \n",
       "5568                              b go esplanad fr home  \n",
       "5569                                  piti mood suggest  \n",
       "5570  guy bitch act like interest buy someth els nex...  \n",
       "5571                                     rofl true name  "
      ]
     },
     "execution_count": 237,
     "metadata": {},
     "output_type": "execute_result"
    }
   ],
   "source": [
    "df2.tail()"
   ]
  },
  {
   "cell_type": "markdown",
   "id": "7de852c4",
   "metadata": {},
   "source": [
    "## SAMPLE ROW CHECK "
   ]
  },
  {
   "cell_type": "code",
   "execution_count": 238,
   "id": "bebeecbd",
   "metadata": {},
   "outputs": [
    {
     "data": {
      "text/html": [
       "<div>\n",
       "<style scoped>\n",
       "    .dataframe tbody tr th:only-of-type {\n",
       "        vertical-align: middle;\n",
       "    }\n",
       "\n",
       "    .dataframe tbody tr th {\n",
       "        vertical-align: top;\n",
       "    }\n",
       "\n",
       "    .dataframe thead th {\n",
       "        text-align: right;\n",
       "    }\n",
       "</style>\n",
       "<table border=\"1\" class=\"dataframe\">\n",
       "  <thead>\n",
       "    <tr style=\"text-align: right;\">\n",
       "      <th></th>\n",
       "      <th>target</th>\n",
       "      <th>text</th>\n",
       "      <th>num_words</th>\n",
       "      <th>num_chars</th>\n",
       "      <th>num_sentences</th>\n",
       "      <th>transform_text</th>\n",
       "    </tr>\n",
       "  </thead>\n",
       "  <tbody>\n",
       "    <tr>\n",
       "      <th>3389</th>\n",
       "      <td>1</td>\n",
       "      <td>Please CALL 08712402972 immediately as there i...</td>\n",
       "      <td>13</td>\n",
       "      <td>81</td>\n",
       "      <td>13</td>\n",
       "      <td>pleas call 08712402972 immedi urgent messag wait</td>\n",
       "    </tr>\n",
       "  </tbody>\n",
       "</table>\n",
       "</div>"
      ],
      "text/plain": [
       "      target                                               text  num_words  \\\n",
       "3389       1  Please CALL 08712402972 immediately as there i...         13   \n",
       "\n",
       "      num_chars  num_sentences  \\\n",
       "3389         81             13   \n",
       "\n",
       "                                        transform_text  \n",
       "3389  pleas call 08712402972 immedi urgent messag wait  "
      ]
     },
     "execution_count": 238,
     "metadata": {},
     "output_type": "execute_result"
    }
   ],
   "source": [
    "df2.sample()"
   ]
  },
  {
   "cell_type": "markdown",
   "id": "890555b8",
   "metadata": {},
   "source": [
    "## FEATURE EXTRACTION "
   ]
  },
  {
   "cell_type": "code",
   "execution_count": 205,
   "id": "6f17c363",
   "metadata": {},
   "outputs": [],
   "source": [
    "from sklearn.feature_extraction.text import CountVectorizer, TfidfVectorizer\n",
    "cv = CountVectorizer()\n",
    "tv = TfidfVectorizer(max_features=3000)"
   ]
  },
  {
   "cell_type": "code",
   "execution_count": 206,
   "id": "9026dce9",
   "metadata": {},
   "outputs": [],
   "source": [
    "X = tv.fit_transform(df2[\"transform_text\"]).toarray()"
   ]
  },
  {
   "cell_type": "code",
   "execution_count": 208,
   "id": "f47ff632",
   "metadata": {},
   "outputs": [],
   "source": [
    "Y = df2[\"target\"].values"
   ]
  },
  {
   "cell_type": "code",
   "execution_count": 211,
   "id": "2220df84",
   "metadata": {},
   "outputs": [
    {
     "data": {
      "text/plain": [
       "(5169, 3000)"
      ]
     },
     "execution_count": 211,
     "metadata": {},
     "output_type": "execute_result"
    }
   ],
   "source": [
    "X.shape"
   ]
  },
  {
   "cell_type": "code",
   "execution_count": 212,
   "id": "57b592e1",
   "metadata": {},
   "outputs": [
    {
     "data": {
      "text/plain": [
       "(5169,)"
      ]
     },
     "execution_count": 212,
     "metadata": {},
     "output_type": "execute_result"
    }
   ],
   "source": [
    "Y.shape"
   ]
  },
  {
   "cell_type": "code",
   "execution_count": 213,
   "id": "76602224",
   "metadata": {},
   "outputs": [],
   "source": [
    "from sklearn.model_selection import train_test_split\n",
    "from sklearn.metrics import r2_score\n",
    "from sklearn.metrics import accuracy_score,confusion_matrix,classification_report\n",
    "from sklearn.model_selection import GridSearchCV\n",
    "from sklearn.svm import SVC\n",
    "from sklearn.tree import DecisionTreeClassifier\n",
    "from sklearn.neighbors import KNeighborsClassifier\n",
    "from sklearn.ensemble import RandomForestClassifier\n",
    "from sklearn.model_selection import cross_val_score\n",
    "from sklearn.naive_bayes import MultinomialNB\n",
    "from sklearn.linear_model import LogisticRegression\n",
    "from sklearn.ensemble import GradientBoostingClassifier"
   ]
  },
  {
   "cell_type": "markdown",
   "id": "fc6440a9",
   "metadata": {},
   "source": [
    "## LOGISTIC REGRESSION"
   ]
  },
  {
   "cell_type": "code",
   "execution_count": 215,
   "id": "3fb5e5b6",
   "metadata": {},
   "outputs": [],
   "source": [
    "lr=LogisticRegression()"
   ]
  },
  {
   "cell_type": "code",
   "execution_count": 217,
   "id": "95f72601",
   "metadata": {},
   "outputs": [
    {
     "name": "stdout",
     "output_type": "stream",
     "text": [
      "At random_state {0} the training accuracy test is 0.9654171704957678\n",
      "At random_state {0} the testing accuracy test is 0.9535783365570599\n",
      "\n",
      "\n",
      "At random_state {1} the training accuracy test is 0.9678355501813785\n",
      "At random_state {1} the testing accuracy test is 0.9390715667311412\n",
      "\n",
      "\n",
      "At random_state {2} the training accuracy test is 0.9649334945586457\n",
      "At random_state {2} the testing accuracy test is 0.9516441005802708\n",
      "\n",
      "\n",
      "At random_state {3} the training accuracy test is 0.9654171704957678\n",
      "At random_state {3} the testing accuracy test is 0.9487427466150871\n",
      "\n",
      "\n",
      "At random_state {4} the training accuracy test is 0.9634824667472793\n",
      "At random_state {4} the testing accuracy test is 0.9526112185686654\n",
      "\n",
      "\n",
      "At random_state {5} the training accuracy test is 0.966384522370012\n",
      "At random_state {5} the testing accuracy test is 0.9555125725338491\n",
      "\n",
      "\n",
      "At random_state {6} the training accuracy test is 0.9675937122128174\n",
      "At random_state {6} the testing accuracy test is 0.9545454545454546\n",
      "\n",
      "\n",
      "At random_state {7} the training accuracy test is 0.9654171704957678\n",
      "At random_state {7} the testing accuracy test is 0.9477756286266924\n",
      "\n",
      "\n",
      "At random_state {8} the training accuracy test is 0.9675937122128174\n",
      "At random_state {8} the testing accuracy test is 0.9516441005802708\n",
      "\n",
      "\n",
      "At random_state {9} the training accuracy test is 0.9678355501813785\n",
      "At random_state {9} the testing accuracy test is 0.9468085106382979\n",
      "\n",
      "\n",
      "At random_state {10} the training accuracy test is 0.966142684401451\n",
      "At random_state {10} the testing accuracy test is 0.9516441005802708\n",
      "\n",
      "\n",
      "At random_state {11} the training accuracy test is 0.966142684401451\n",
      "At random_state {11} the testing accuracy test is 0.9506769825918762\n",
      "\n",
      "\n",
      "At random_state {12} the training accuracy test is 0.9649334945586457\n",
      "At random_state {12} the testing accuracy test is 0.9613152804642167\n",
      "\n",
      "\n",
      "At random_state {13} the training accuracy test is 0.9668681983071342\n",
      "At random_state {13} the testing accuracy test is 0.9497098646034816\n",
      "\n",
      "\n",
      "At random_state {14} the training accuracy test is 0.9651753325272068\n",
      "At random_state {14} the testing accuracy test is 0.965183752417795\n",
      "\n",
      "\n",
      "At random_state {15} the training accuracy test is 0.966142684401451\n",
      "At random_state {15} the testing accuracy test is 0.9545454545454546\n",
      "\n",
      "\n",
      "At random_state {16} the training accuracy test is 0.9666263603385732\n",
      "At random_state {16} the testing accuracy test is 0.9497098646034816\n",
      "\n",
      "\n",
      "At random_state {17} the training accuracy test is 0.965659008464329\n",
      "At random_state {17} the testing accuracy test is 0.9593810444874274\n",
      "\n",
      "\n",
      "At random_state {18} the training accuracy test is 0.9671100362756953\n",
      "At random_state {18} the testing accuracy test is 0.9545454545454546\n",
      "\n",
      "\n",
      "At random_state {19} the training accuracy test is 0.9649334945586457\n",
      "At random_state {19} the testing accuracy test is 0.9535783365570599\n",
      "\n",
      "\n",
      "At random_state {20} the training accuracy test is 0.9675937122128174\n",
      "At random_state {20} the testing accuracy test is 0.9429400386847195\n",
      "\n",
      "\n",
      "At random_state {21} the training accuracy test is 0.9688029020556227\n",
      "At random_state {21} the testing accuracy test is 0.9458413926499033\n",
      "\n",
      "\n",
      "At random_state {22} the training accuracy test is 0.966142684401451\n",
      "At random_state {22} the testing accuracy test is 0.9545454545454546\n",
      "\n",
      "\n",
      "At random_state {23} the training accuracy test is 0.9644498186215236\n",
      "At random_state {23} the testing accuracy test is 0.9564796905222437\n",
      "\n",
      "\n",
      "At random_state {24} the training accuracy test is 0.9666263603385732\n",
      "At random_state {24} the testing accuracy test is 0.9661508704061895\n",
      "\n",
      "\n",
      "At random_state {25} the training accuracy test is 0.9668681983071342\n",
      "At random_state {25} the testing accuracy test is 0.9468085106382979\n",
      "\n",
      "\n",
      "At random_state {26} the training accuracy test is 0.966142684401451\n",
      "At random_state {26} the testing accuracy test is 0.9632495164410058\n",
      "\n",
      "\n",
      "At random_state {27} the training accuracy test is 0.966384522370012\n",
      "At random_state {27} the testing accuracy test is 0.9574468085106383\n",
      "\n",
      "\n",
      "At random_state {28} the training accuracy test is 0.9673518742442564\n",
      "At random_state {28} the testing accuracy test is 0.9622823984526112\n",
      "\n",
      "\n",
      "At random_state {29} the training accuracy test is 0.9668681983071342\n",
      "At random_state {29} the testing accuracy test is 0.9564796905222437\n",
      "\n",
      "\n",
      "At random_state {30} the training accuracy test is 0.9668681983071342\n",
      "At random_state {30} the testing accuracy test is 0.9439071566731141\n",
      "\n",
      "\n",
      "At random_state {31} the training accuracy test is 0.9651753325272068\n",
      "At random_state {31} the testing accuracy test is 0.9632495164410058\n",
      "\n",
      "\n",
      "At random_state {32} the training accuracy test is 0.9649334945586457\n",
      "At random_state {32} the testing accuracy test is 0.9661508704061895\n",
      "\n",
      "\n",
      "At random_state {33} the training accuracy test is 0.9642079806529625\n",
      "At random_state {33} the testing accuracy test is 0.960348162475822\n",
      "\n",
      "\n",
      "At random_state {34} the training accuracy test is 0.9666263603385732\n",
      "At random_state {34} the testing accuracy test is 0.9526112185686654\n",
      "\n",
      "\n",
      "At random_state {35} the training accuracy test is 0.9651753325272068\n",
      "At random_state {35} the testing accuracy test is 0.9622823984526112\n",
      "\n",
      "\n",
      "At random_state {36} the training accuracy test is 0.9666263603385732\n",
      "At random_state {36} the testing accuracy test is 0.960348162475822\n",
      "\n",
      "\n",
      "At random_state {37} the training accuracy test is 0.966142684401451\n",
      "At random_state {37} the testing accuracy test is 0.9555125725338491\n",
      "\n",
      "\n",
      "At random_state {38} the training accuracy test is 0.9654171704957678\n",
      "At random_state {38} the testing accuracy test is 0.9535783365570599\n",
      "\n",
      "\n",
      "At random_state {39} the training accuracy test is 0.9668681983071342\n",
      "At random_state {39} the testing accuracy test is 0.9526112185686654\n",
      "\n",
      "\n",
      "At random_state {40} the training accuracy test is 0.9654171704957678\n",
      "At random_state {40} the testing accuracy test is 0.9574468085106383\n",
      "\n",
      "\n",
      "At random_state {41} the training accuracy test is 0.966142684401451\n",
      "At random_state {41} the testing accuracy test is 0.9555125725338491\n",
      "\n",
      "\n",
      "At random_state {42} the training accuracy test is 0.9642079806529625\n",
      "At random_state {42} the testing accuracy test is 0.9564796905222437\n",
      "\n",
      "\n",
      "At random_state {43} the training accuracy test is 0.9666263603385732\n",
      "At random_state {43} the testing accuracy test is 0.9497098646034816\n",
      "\n",
      "\n",
      "At random_state {44} the training accuracy test is 0.9654171704957678\n",
      "At random_state {44} the testing accuracy test is 0.9555125725338491\n",
      "\n",
      "\n",
      "At random_state {45} the training accuracy test is 0.966384522370012\n",
      "At random_state {45} the testing accuracy test is 0.9593810444874274\n",
      "\n",
      "\n",
      "At random_state {46} the training accuracy test is 0.9666263603385732\n",
      "At random_state {46} the testing accuracy test is 0.9535783365570599\n",
      "\n",
      "\n",
      "At random_state {47} the training accuracy test is 0.9644498186215236\n",
      "At random_state {47} the testing accuracy test is 0.960348162475822\n",
      "\n",
      "\n",
      "At random_state {48} the training accuracy test is 0.9680773881499395\n",
      "At random_state {48} the testing accuracy test is 0.9497098646034816\n",
      "\n",
      "\n",
      "At random_state {49} the training accuracy test is 0.9692865779927449\n",
      "At random_state {49} the testing accuracy test is 0.9506769825918762\n",
      "\n",
      "\n",
      "At random_state {50} the training accuracy test is 0.9644498186215236\n",
      "At random_state {50} the testing accuracy test is 0.9564796905222437\n",
      "\n",
      "\n",
      "At random_state {51} the training accuracy test is 0.9644498186215236\n",
      "At random_state {51} the testing accuracy test is 0.9526112185686654\n",
      "\n",
      "\n",
      "At random_state {52} the training accuracy test is 0.9654171704957678\n",
      "At random_state {52} the testing accuracy test is 0.9584139264990329\n",
      "\n",
      "\n",
      "At random_state {53} the training accuracy test is 0.9685610640870617\n",
      "At random_state {53} the testing accuracy test is 0.9545454545454546\n",
      "\n",
      "\n",
      "At random_state {54} the training accuracy test is 0.966384522370012\n",
      "At random_state {54} the testing accuracy test is 0.9555125725338491\n",
      "\n",
      "\n",
      "At random_state {55} the training accuracy test is 0.9675937122128174\n",
      "At random_state {55} the testing accuracy test is 0.9497098646034816\n",
      "\n",
      "\n",
      "At random_state {56} the training accuracy test is 0.9678355501813785\n",
      "At random_state {56} the testing accuracy test is 0.9574468085106383\n",
      "\n",
      "\n",
      "At random_state {57} the training accuracy test is 0.96590084643289\n",
      "At random_state {57} the testing accuracy test is 0.9613152804642167\n",
      "\n",
      "\n",
      "At random_state {58} the training accuracy test is 0.9678355501813785\n",
      "At random_state {58} the testing accuracy test is 0.9506769825918762\n",
      "\n",
      "\n",
      "At random_state {59} the training accuracy test is 0.9651753325272068\n",
      "At random_state {59} the testing accuracy test is 0.9487427466150871\n",
      "\n",
      "\n",
      "At random_state {60} the training accuracy test is 0.9668681983071342\n",
      "At random_state {60} the testing accuracy test is 0.9535783365570599\n",
      "\n",
      "\n",
      "At random_state {61} the training accuracy test is 0.96590084643289\n",
      "At random_state {61} the testing accuracy test is 0.9506769825918762\n",
      "\n",
      "\n",
      "At random_state {62} the training accuracy test is 0.965659008464329\n",
      "At random_state {62} the testing accuracy test is 0.9545454545454546\n",
      "\n",
      "\n",
      "At random_state {63} the training accuracy test is 0.9649334945586457\n",
      "At random_state {63} the testing accuracy test is 0.9632495164410058\n",
      "\n",
      "\n",
      "At random_state {64} the training accuracy test is 0.9668681983071342\n",
      "At random_state {64} the testing accuracy test is 0.9545454545454546\n",
      "\n",
      "\n",
      "At random_state {65} the training accuracy test is 0.9678355501813785\n",
      "At random_state {65} the testing accuracy test is 0.9545454545454546\n",
      "\n",
      "\n",
      "At random_state {66} the training accuracy test is 0.9668681983071342\n",
      "At random_state {66} the testing accuracy test is 0.9535783365570599\n",
      "\n",
      "\n",
      "At random_state {67} the training accuracy test is 0.966142684401451\n",
      "At random_state {67} the testing accuracy test is 0.9555125725338491\n",
      "\n",
      "\n",
      "At random_state {68} the training accuracy test is 0.9668681983071342\n",
      "At random_state {68} the testing accuracy test is 0.9497098646034816\n",
      "\n",
      "\n",
      "At random_state {69} the training accuracy test is 0.9642079806529625\n",
      "At random_state {69} the testing accuracy test is 0.9584139264990329\n",
      "\n",
      "\n",
      "At random_state {70} the training accuracy test is 0.9644498186215236\n",
      "At random_state {70} the testing accuracy test is 0.960348162475822\n",
      "\n",
      "\n",
      "At random_state {71} the training accuracy test is 0.9666263603385732\n",
      "At random_state {71} the testing accuracy test is 0.960348162475822\n",
      "\n",
      "\n",
      "At random_state {72} the training accuracy test is 0.9680773881499395\n",
      "At random_state {72} the testing accuracy test is 0.9574468085106383\n",
      "\n",
      "\n",
      "At random_state {73} the training accuracy test is 0.9668681983071342\n",
      "At random_state {73} the testing accuracy test is 0.960348162475822\n",
      "\n",
      "\n",
      "At random_state {74} the training accuracy test is 0.966384522370012\n",
      "At random_state {74} the testing accuracy test is 0.9574468085106383\n",
      "\n",
      "\n",
      "At random_state {75} the training accuracy test is 0.9646916565900846\n",
      "At random_state {75} the testing accuracy test is 0.9564796905222437\n",
      "\n",
      "\n",
      "At random_state {76} the training accuracy test is 0.9651753325272068\n",
      "At random_state {76} the testing accuracy test is 0.9671179883945842\n",
      "\n",
      "\n",
      "At random_state {77} the training accuracy test is 0.966142684401451\n",
      "At random_state {77} the testing accuracy test is 0.9545454545454546\n",
      "\n",
      "\n",
      "At random_state {78} the training accuracy test is 0.96590084643289\n",
      "At random_state {78} the testing accuracy test is 0.9584139264990329\n",
      "\n",
      "\n",
      "At random_state {79} the training accuracy test is 0.966142684401451\n",
      "At random_state {79} the testing accuracy test is 0.9477756286266924\n",
      "\n",
      "\n",
      "At random_state {80} the training accuracy test is 0.966142684401451\n",
      "At random_state {80} the testing accuracy test is 0.9526112185686654\n",
      "\n",
      "\n",
      "At random_state {81} the training accuracy test is 0.966384522370012\n",
      "At random_state {81} the testing accuracy test is 0.9477756286266924\n",
      "\n",
      "\n",
      "At random_state {82} the training accuracy test is 0.9651753325272068\n",
      "At random_state {82} the testing accuracy test is 0.9622823984526112\n",
      "\n",
      "\n",
      "At random_state {83} the training accuracy test is 0.966142684401451\n",
      "At random_state {83} the testing accuracy test is 0.9439071566731141\n",
      "\n",
      "\n",
      "At random_state {84} the training accuracy test is 0.9671100362756953\n",
      "At random_state {84} the testing accuracy test is 0.9564796905222437\n",
      "\n",
      "\n",
      "At random_state {85} the training accuracy test is 0.9683192261185006\n",
      "At random_state {85} the testing accuracy test is 0.9516441005802708\n",
      "\n",
      "\n",
      "At random_state {86} the training accuracy test is 0.9646916565900846\n",
      "At random_state {86} the testing accuracy test is 0.9487427466150871\n",
      "\n",
      "\n",
      "At random_state {87} the training accuracy test is 0.966384522370012\n",
      "At random_state {87} the testing accuracy test is 0.9632495164410058\n",
      "\n",
      "\n",
      "At random_state {88} the training accuracy test is 0.9675937122128174\n",
      "At random_state {88} the testing accuracy test is 0.9468085106382979\n",
      "\n",
      "\n",
      "At random_state {89} the training accuracy test is 0.9675937122128174\n",
      "At random_state {89} the testing accuracy test is 0.9497098646034816\n",
      "\n",
      "\n",
      "At random_state {90} the training accuracy test is 0.9675937122128174\n",
      "At random_state {90} the testing accuracy test is 0.9400386847195358\n",
      "\n",
      "\n",
      "At random_state {91} the training accuracy test is 0.9666263603385732\n",
      "At random_state {91} the testing accuracy test is 0.9487427466150871\n",
      "\n",
      "\n",
      "At random_state {92} the training accuracy test is 0.966142684401451\n",
      "At random_state {92} the testing accuracy test is 0.9564796905222437\n",
      "\n",
      "\n",
      "At random_state {93} the training accuracy test is 0.966384522370012\n",
      "At random_state {93} the testing accuracy test is 0.9468085106382979\n",
      "\n",
      "\n",
      "At random_state {94} the training accuracy test is 0.9685610640870617\n",
      "At random_state {94} the testing accuracy test is 0.9477756286266924\n",
      "\n",
      "\n",
      "At random_state {95} the training accuracy test is 0.9675937122128174\n",
      "At random_state {95} the testing accuracy test is 0.9555125725338491\n",
      "\n",
      "\n",
      "At random_state {96} the training accuracy test is 0.966142684401451\n",
      "At random_state {96} the testing accuracy test is 0.9632495164410058\n",
      "\n",
      "\n",
      "At random_state {97} the training accuracy test is 0.9649334945586457\n",
      "At random_state {97} the testing accuracy test is 0.9593810444874274\n",
      "\n",
      "\n",
      "At random_state {98} the training accuracy test is 0.9632406287787183\n",
      "At random_state {98} the testing accuracy test is 0.9632495164410058\n",
      "\n",
      "\n",
      "At random_state {99} the training accuracy test is 0.9666263603385732\n",
      "At random_state {99} the testing accuracy test is 0.9622823984526112\n",
      "\n",
      "\n"
     ]
    }
   ],
   "source": [
    "for i in range(0,100):\n",
    "    x_train,x_test,y_train,y_test=train_test_split(X,Y,test_size=0.20,random_state=i)\n",
    "    lr.fit(x_train,y_train)\n",
    "    predr=lr.predict(x_train)\n",
    "    pred=lr.predict(x_test)\n",
    "    print('At random_state' ,{i}, 'the training accuracy test is', accuracy_score(y_train,predr))\n",
    "    print('At random_state' ,{i}, 'the testing accuracy test is', accuracy_score(y_test,pred))\n",
    "    print('\\n')"
   ]
  },
  {
   "cell_type": "markdown",
   "id": "671ce902",
   "metadata": {},
   "source": [
    "## AT RANDOM STATE 76 WE HAVE THE HIGHEST ACCURACY OF 96.71%"
   ]
  },
  {
   "cell_type": "code",
   "execution_count": 219,
   "id": "1d3d8d72",
   "metadata": {},
   "outputs": [],
   "source": [
    "x_train,x_test,y_train,y_test=train_test_split(X,Y,test_size=0.20,random_state=76)"
   ]
  },
  {
   "cell_type": "code",
   "execution_count": 220,
   "id": "fca54593",
   "metadata": {},
   "outputs": [],
   "source": [
    "lr=LogisticRegression()"
   ]
  },
  {
   "cell_type": "code",
   "execution_count": 221,
   "id": "ff79f83d",
   "metadata": {},
   "outputs": [
    {
     "data": {
      "text/html": [
       "<style>#sk-container-id-1 {color: black;background-color: white;}#sk-container-id-1 pre{padding: 0;}#sk-container-id-1 div.sk-toggleable {background-color: white;}#sk-container-id-1 label.sk-toggleable__label {cursor: pointer;display: block;width: 100%;margin-bottom: 0;padding: 0.3em;box-sizing: border-box;text-align: center;}#sk-container-id-1 label.sk-toggleable__label-arrow:before {content: \"▸\";float: left;margin-right: 0.25em;color: #696969;}#sk-container-id-1 label.sk-toggleable__label-arrow:hover:before {color: black;}#sk-container-id-1 div.sk-estimator:hover label.sk-toggleable__label-arrow:before {color: black;}#sk-container-id-1 div.sk-toggleable__content {max-height: 0;max-width: 0;overflow: hidden;text-align: left;background-color: #f0f8ff;}#sk-container-id-1 div.sk-toggleable__content pre {margin: 0.2em;color: black;border-radius: 0.25em;background-color: #f0f8ff;}#sk-container-id-1 input.sk-toggleable__control:checked~div.sk-toggleable__content {max-height: 200px;max-width: 100%;overflow: auto;}#sk-container-id-1 input.sk-toggleable__control:checked~label.sk-toggleable__label-arrow:before {content: \"▾\";}#sk-container-id-1 div.sk-estimator input.sk-toggleable__control:checked~label.sk-toggleable__label {background-color: #d4ebff;}#sk-container-id-1 div.sk-label input.sk-toggleable__control:checked~label.sk-toggleable__label {background-color: #d4ebff;}#sk-container-id-1 input.sk-hidden--visually {border: 0;clip: rect(1px 1px 1px 1px);clip: rect(1px, 1px, 1px, 1px);height: 1px;margin: -1px;overflow: hidden;padding: 0;position: absolute;width: 1px;}#sk-container-id-1 div.sk-estimator {font-family: monospace;background-color: #f0f8ff;border: 1px dotted black;border-radius: 0.25em;box-sizing: border-box;margin-bottom: 0.5em;}#sk-container-id-1 div.sk-estimator:hover {background-color: #d4ebff;}#sk-container-id-1 div.sk-parallel-item::after {content: \"\";width: 100%;border-bottom: 1px solid gray;flex-grow: 1;}#sk-container-id-1 div.sk-label:hover label.sk-toggleable__label {background-color: #d4ebff;}#sk-container-id-1 div.sk-serial::before {content: \"\";position: absolute;border-left: 1px solid gray;box-sizing: border-box;top: 0;bottom: 0;left: 50%;z-index: 0;}#sk-container-id-1 div.sk-serial {display: flex;flex-direction: column;align-items: center;background-color: white;padding-right: 0.2em;padding-left: 0.2em;position: relative;}#sk-container-id-1 div.sk-item {position: relative;z-index: 1;}#sk-container-id-1 div.sk-parallel {display: flex;align-items: stretch;justify-content: center;background-color: white;position: relative;}#sk-container-id-1 div.sk-item::before, #sk-container-id-1 div.sk-parallel-item::before {content: \"\";position: absolute;border-left: 1px solid gray;box-sizing: border-box;top: 0;bottom: 0;left: 50%;z-index: -1;}#sk-container-id-1 div.sk-parallel-item {display: flex;flex-direction: column;z-index: 1;position: relative;background-color: white;}#sk-container-id-1 div.sk-parallel-item:first-child::after {align-self: flex-end;width: 50%;}#sk-container-id-1 div.sk-parallel-item:last-child::after {align-self: flex-start;width: 50%;}#sk-container-id-1 div.sk-parallel-item:only-child::after {width: 0;}#sk-container-id-1 div.sk-dashed-wrapped {border: 1px dashed gray;margin: 0 0.4em 0.5em 0.4em;box-sizing: border-box;padding-bottom: 0.4em;background-color: white;}#sk-container-id-1 div.sk-label label {font-family: monospace;font-weight: bold;display: inline-block;line-height: 1.2em;}#sk-container-id-1 div.sk-label-container {text-align: center;}#sk-container-id-1 div.sk-container {/* jupyter's `normalize.less` sets `[hidden] { display: none; }` but bootstrap.min.css set `[hidden] { display: none !important; }` so we also need the `!important` here to be able to override the default hidden behavior on the sphinx rendered scikit-learn.org. See: https://github.com/scikit-learn/scikit-learn/issues/21755 */display: inline-block !important;position: relative;}#sk-container-id-1 div.sk-text-repr-fallback {display: none;}</style><div id=\"sk-container-id-1\" class=\"sk-top-container\"><div class=\"sk-text-repr-fallback\"><pre>LogisticRegression()</pre><b>In a Jupyter environment, please rerun this cell to show the HTML representation or trust the notebook. <br />On GitHub, the HTML representation is unable to render, please try loading this page with nbviewer.org.</b></div><div class=\"sk-container\" hidden><div class=\"sk-item\"><div class=\"sk-estimator sk-toggleable\"><input class=\"sk-toggleable__control sk-hidden--visually\" id=\"sk-estimator-id-1\" type=\"checkbox\" checked><label for=\"sk-estimator-id-1\" class=\"sk-toggleable__label sk-toggleable__label-arrow\">LogisticRegression</label><div class=\"sk-toggleable__content\"><pre>LogisticRegression()</pre></div></div></div></div></div>"
      ],
      "text/plain": [
       "LogisticRegression()"
      ]
     },
     "execution_count": 221,
     "metadata": {},
     "output_type": "execute_result"
    }
   ],
   "source": [
    "lr.fit(x_train,y_train)"
   ]
  },
  {
   "cell_type": "code",
   "execution_count": 222,
   "id": "12be73cd",
   "metadata": {},
   "outputs": [],
   "source": [
    "PRELR=lr.predict(x_test)"
   ]
  },
  {
   "cell_type": "markdown",
   "id": "217ab3b1",
   "metadata": {},
   "source": [
    "## MODEL ACCURACY"
   ]
  },
  {
   "cell_type": "code",
   "execution_count": 223,
   "id": "d4ae65b4",
   "metadata": {},
   "outputs": [
    {
     "name": "stdout",
     "output_type": "stream",
     "text": [
      "0.9671179883945842\n"
     ]
    }
   ],
   "source": [
    "print(accuracy_score(y_test,PRELR))"
   ]
  },
  {
   "cell_type": "markdown",
   "id": "c1f7c191",
   "metadata": {},
   "source": [
    "## CONFUSION MATRIX"
   ]
  },
  {
   "cell_type": "code",
   "execution_count": 224,
   "id": "39e0fb61",
   "metadata": {},
   "outputs": [
    {
     "name": "stdout",
     "output_type": "stream",
     "text": [
      "[[911   0]\n",
      " [ 34  89]]\n"
     ]
    }
   ],
   "source": [
    "print(confusion_matrix(y_test,PRELR))"
   ]
  },
  {
   "cell_type": "markdown",
   "id": "96adf6a6",
   "metadata": {},
   "source": [
    "## CLASSIFICATION REPORT"
   ]
  },
  {
   "cell_type": "code",
   "execution_count": 225,
   "id": "780a10a0",
   "metadata": {},
   "outputs": [
    {
     "name": "stdout",
     "output_type": "stream",
     "text": [
      "              precision    recall  f1-score   support\n",
      "\n",
      "           0       0.96      1.00      0.98       911\n",
      "           1       1.00      0.72      0.84       123\n",
      "\n",
      "    accuracy                           0.97      1034\n",
      "   macro avg       0.98      0.86      0.91      1034\n",
      "weighted avg       0.97      0.97      0.96      1034\n",
      "\n"
     ]
    }
   ],
   "source": [
    "print(classification_report(y_test,PRELR))"
   ]
  },
  {
   "cell_type": "markdown",
   "id": "0ad9f5e2",
   "metadata": {},
   "source": [
    "## AUC ROC CURVE"
   ]
  },
  {
   "cell_type": "code",
   "execution_count": 226,
   "id": "e8963d01",
   "metadata": {},
   "outputs": [],
   "source": [
    "from sklearn.metrics import roc_curve\n",
    "from sklearn.metrics import roc_auc_score"
   ]
  },
  {
   "cell_type": "code",
   "execution_count": 227,
   "id": "63e11a0f",
   "metadata": {},
   "outputs": [],
   "source": [
    "y_pred_prob1=lr.predict_proba(x_test)[:,1]"
   ]
  },
  {
   "cell_type": "code",
   "execution_count": 228,
   "id": "3803ace8",
   "metadata": {},
   "outputs": [
    {
     "data": {
      "text/plain": [
       "array([0.05431541, 0.04743096, 0.8914791 , ..., 0.6576658 , 0.01586155,\n",
       "       0.03718392])"
      ]
     },
     "execution_count": 228,
     "metadata": {},
     "output_type": "execute_result"
    }
   ],
   "source": [
    "y_pred_prob1"
   ]
  },
  {
   "cell_type": "code",
   "execution_count": 229,
   "id": "241dadc9",
   "metadata": {},
   "outputs": [],
   "source": [
    "tpr,fpr,thresholds=roc_curve(y_test,y_pred_prob1)"
   ]
  },
  {
   "cell_type": "code",
   "execution_count": 230,
   "id": "8c5fe6e7",
   "metadata": {},
   "outputs": [
    {
     "data": {
      "text/plain": [
       "array([0.        , 0.        , 0.        , 0.        , 0.        ,\n",
       "       0.        , 0.        , 0.        , 0.        , 0.        ,\n",
       "       0.        , 0.        , 0.        , 0.00219539, 0.00219539,\n",
       "       0.00329308, 0.00329308, 0.00439078, 0.00439078, 0.00658617,\n",
       "       0.00658617, 0.00768386, 0.00768386, 0.01427003, 0.01427003,\n",
       "       0.02305159, 0.02305159, 0.02414929, 0.02414929, 0.05378705,\n",
       "       0.05378705, 0.07025247, 0.07025247, 0.08781559, 0.08781559,\n",
       "       0.10976948, 0.10976948, 0.12952799, 0.12952799, 0.18660812,\n",
       "       0.19978046, 0.3611416 , 0.36333699, 0.4478595 , 0.45005488,\n",
       "       0.49286498, 0.49506037, 0.5751921 , 0.57738749, 0.78265642,\n",
       "       0.78485181, 1.        ])"
      ]
     },
     "execution_count": 230,
     "metadata": {},
     "output_type": "execute_result"
    }
   ],
   "source": [
    "tpr"
   ]
  },
  {
   "cell_type": "code",
   "execution_count": 231,
   "id": "4d6277c4",
   "metadata": {},
   "outputs": [
    {
     "data": {
      "text/plain": [
       "array([0.        , 0.00813008, 0.12195122, 0.13821138, 0.38211382,\n",
       "       0.39837398, 0.45528455, 0.47154472, 0.48780488, 0.50406504,\n",
       "       0.56097561, 0.57723577, 0.80487805, 0.80487805, 0.85365854,\n",
       "       0.85365854, 0.86178862, 0.86178862, 0.8699187 , 0.8699187 ,\n",
       "       0.87804878, 0.87804878, 0.91056911, 0.91056911, 0.91869919,\n",
       "       0.91869919, 0.92682927, 0.92682927, 0.93495935, 0.93495935,\n",
       "       0.94308943, 0.94308943, 0.95121951, 0.95121951, 0.95934959,\n",
       "       0.95934959, 0.97560976, 0.97560976, 0.98373984, 0.98373984,\n",
       "       1.        , 1.        , 1.        , 1.        , 1.        ,\n",
       "       1.        , 1.        , 1.        , 1.        , 1.        ,\n",
       "       1.        , 1.        ])"
      ]
     },
     "execution_count": 231,
     "metadata": {},
     "output_type": "execute_result"
    }
   ],
   "source": [
    "fpr"
   ]
  },
  {
   "cell_type": "code",
   "execution_count": 232,
   "id": "f4270643",
   "metadata": {},
   "outputs": [
    {
     "data": {
      "text/plain": [
       "array([1.95750987, 0.95750987, 0.89807562, 0.8914791 , 0.71299253,\n",
       "       0.70993066, 0.65639944, 0.65291056, 0.62381367, 0.6223561 ,\n",
       "       0.59140297, 0.58072984, 0.41169786, 0.39703663, 0.35309358,\n",
       "       0.33956241, 0.33653657, 0.32713992, 0.32573475, 0.30072811,\n",
       "       0.28695064, 0.28509572, 0.26658264, 0.21568428, 0.20538905,\n",
       "       0.17662103, 0.17598073, 0.17387627, 0.17121522, 0.11946569,\n",
       "       0.11895213, 0.10603882, 0.1055141 , 0.09472056, 0.09466578,\n",
       "       0.0879668 , 0.08770189, 0.07905207, 0.0787804 , 0.06678008,\n",
       "       0.06658673, 0.05072016, 0.05071542, 0.04571133, 0.04570138,\n",
       "       0.04272224, 0.04268875, 0.03885988, 0.03884069, 0.02907352,\n",
       "       0.02902565, 0.00759288])"
      ]
     },
     "execution_count": 232,
     "metadata": {},
     "output_type": "execute_result"
    }
   ],
   "source": [
    "thresholds"
   ]
  },
  {
   "cell_type": "code",
   "execution_count": 233,
   "id": "6c32084f",
   "metadata": {},
   "outputs": [
    {
     "data": {
      "image/png": "[encoded data removed]",
      "text/plain": [
       "<Figure size 432x288 with 1 Axes>"
      ]
     },
     "metadata": {
      "needs_background": "light"
     },
     "output_type": "display_data"
    }
   ],
   "source": [
    "plt.plot([0,1],[0,1],'k--')\n",
    "plt.plot(tpr,fpr,label='LR')\n",
    "plt.xlabel('FALSE_POSITIVE_RATE')\n",
    "plt.ylabel('TRUE_POSITIVE_RATE')\n",
    "plt.title('LOGISTIC REGRESSION')\n",
    "plt.show()"
   ]
  },
  {
   "cell_type": "code",
   "execution_count": 234,
   "id": "d5a92c87",
   "metadata": {},
   "outputs": [
    {
     "data": {
      "text/plain": [
       "0.8617886178861789"
      ]
     },
     "execution_count": 234,
     "metadata": {},
     "output_type": "execute_result"
    }
   ],
   "source": [
    "auc_score=roc_auc_score(y_test,(lr.predict(x_test)))\n",
    "auc_score"
   ]
  },
  {
   "cell_type": "markdown",
   "id": "9175943c",
   "metadata": {},
   "source": [
    "## SVC"
   ]
  },
  {
   "cell_type": "code",
   "execution_count": 239,
   "id": "fcc0af39",
   "metadata": {},
   "outputs": [],
   "source": [
    "svc=SVC()"
   ]
  },
  {
   "cell_type": "code",
   "execution_count": 240,
   "id": "5da60aa2",
   "metadata": {},
   "outputs": [
    {
     "name": "stdout",
     "output_type": "stream",
     "text": [
      "At random_state {0} the training accuracy test is 0.9963724304715841\n",
      "At random_state {0} the testing accuracy test is 0.9738878143133463\n",
      "\n",
      "\n",
      "At random_state {1} the training accuracy test is 0.9954050785973397\n",
      "At random_state {1} the testing accuracy test is 0.965183752417795\n",
      "\n",
      "\n",
      "At random_state {2} the training accuracy test is 0.9963724304715841\n",
      "At random_state {2} the testing accuracy test is 0.9729206963249516\n",
      "\n",
      "\n",
      "At random_state {3} the training accuracy test is 0.9963724304715841\n",
      "At random_state {3} the testing accuracy test is 0.9729206963249516\n",
      "\n",
      "\n",
      "At random_state {4} the training accuracy test is 0.9956469165659009\n",
      "At random_state {4} the testing accuracy test is 0.971953578336557\n",
      "\n",
      "\n",
      "At random_state {5} the training accuracy test is 0.9961305925030229\n",
      "At random_state {5} the testing accuracy test is 0.9729206963249516\n",
      "\n",
      "\n",
      "At random_state {6} the training accuracy test is 0.9958887545344619\n",
      "At random_state {6} the testing accuracy test is 0.9758220502901354\n",
      "\n",
      "\n",
      "At random_state {7} the training accuracy test is 0.9963724304715841\n",
      "At random_state {7} the testing accuracy test is 0.9690522243713733\n",
      "\n",
      "\n",
      "At random_state {8} the training accuracy test is 0.9951632406287787\n",
      "At random_state {8} the testing accuracy test is 0.9690522243713733\n",
      "\n",
      "\n",
      "At random_state {9} the training accuracy test is 0.9949214026602177\n",
      "At random_state {9} the testing accuracy test is 0.9613152804642167\n",
      "\n",
      "\n",
      "At random_state {10} the training accuracy test is 0.9963724304715841\n",
      "At random_state {10} the testing accuracy test is 0.9738878143133463\n",
      "\n",
      "\n",
      "At random_state {11} the training accuracy test is 0.9958887545344619\n",
      "At random_state {11} the testing accuracy test is 0.9729206963249516\n",
      "\n",
      "\n",
      "At random_state {12} the training accuracy test is 0.9951632406287787\n",
      "At random_state {12} the testing accuracy test is 0.9796905222437138\n",
      "\n",
      "\n",
      "At random_state {13} the training accuracy test is 0.9973397823458283\n",
      "At random_state {13} the testing accuracy test is 0.9738878143133463\n",
      "\n",
      "\n",
      "At random_state {14} the training accuracy test is 0.9951632406287787\n",
      "At random_state {14} the testing accuracy test is 0.9845261121856866\n",
      "\n",
      "\n",
      "At random_state {15} the training accuracy test is 0.9958887545344619\n",
      "At random_state {15} the testing accuracy test is 0.9709864603481625\n",
      "\n",
      "\n",
      "At random_state {16} the training accuracy test is 0.9958887545344619\n",
      "At random_state {16} the testing accuracy test is 0.9709864603481625\n",
      "\n",
      "\n",
      "At random_state {17} the training accuracy test is 0.9961305925030229\n",
      "At random_state {17} the testing accuracy test is 0.9777562862669246\n",
      "\n",
      "\n",
      "At random_state {18} the training accuracy test is 0.9961305925030229\n",
      "At random_state {18} the testing accuracy test is 0.9642166344294004\n",
      "\n",
      "\n",
      "At random_state {19} the training accuracy test is 0.9956469165659009\n",
      "At random_state {19} the testing accuracy test is 0.9729206963249516\n",
      "\n",
      "\n",
      "At random_state {20} the training accuracy test is 0.9949214026602177\n",
      "At random_state {20} the testing accuracy test is 0.9671179883945842\n",
      "\n",
      "\n",
      "At random_state {21} the training accuracy test is 0.9966142684401451\n",
      "At random_state {21} the testing accuracy test is 0.9690522243713733\n",
      "\n",
      "\n",
      "At random_state {22} the training accuracy test is 0.9956469165659009\n",
      "At random_state {22} the testing accuracy test is 0.9729206963249516\n",
      "\n",
      "\n",
      "At random_state {23} the training accuracy test is 0.9958887545344619\n",
      "At random_state {23} the testing accuracy test is 0.9806576402321083\n",
      "\n",
      "\n",
      "At random_state {24} the training accuracy test is 0.9944377267230955\n",
      "At random_state {24} the testing accuracy test is 0.9825918762088974\n",
      "\n",
      "\n",
      "At random_state {25} the training accuracy test is 0.9966142684401451\n",
      "At random_state {25} the testing accuracy test is 0.9700193423597679\n",
      "\n",
      "\n",
      "At random_state {26} the training accuracy test is 0.9951632406287787\n",
      "At random_state {26} the testing accuracy test is 0.97678916827853\n",
      "\n",
      "\n",
      "At random_state {27} the training accuracy test is 0.9941958887545345\n",
      "At random_state {27} the testing accuracy test is 0.9729206963249516\n",
      "\n",
      "\n",
      "At random_state {28} the training accuracy test is 0.9956469165659009\n",
      "At random_state {28} the testing accuracy test is 0.97678916827853\n",
      "\n",
      "\n",
      "At random_state {29} the training accuracy test is 0.9954050785973397\n",
      "At random_state {29} the testing accuracy test is 0.9738878143133463\n",
      "\n",
      "\n",
      "At random_state {30} the training accuracy test is 0.9961305925030229\n",
      "At random_state {30} the testing accuracy test is 0.965183752417795\n",
      "\n",
      "\n",
      "At random_state {31} the training accuracy test is 0.9958887545344619\n",
      "At random_state {31} the testing accuracy test is 0.9787234042553191\n",
      "\n",
      "\n",
      "At random_state {32} the training accuracy test is 0.9963724304715841\n",
      "At random_state {32} the testing accuracy test is 0.9806576402321083\n",
      "\n",
      "\n",
      "At random_state {33} the training accuracy test is 0.9968561064087061\n",
      "At random_state {33} the testing accuracy test is 0.9787234042553191\n",
      "\n",
      "\n",
      "At random_state {34} the training accuracy test is 0.9956469165659009\n",
      "At random_state {34} the testing accuracy test is 0.9729206963249516\n",
      "\n",
      "\n",
      "At random_state {35} the training accuracy test is 0.9956469165659009\n",
      "At random_state {35} the testing accuracy test is 0.9758220502901354\n",
      "\n",
      "\n",
      "At random_state {36} the training accuracy test is 0.9961305925030229\n",
      "At random_state {36} the testing accuracy test is 0.9777562862669246\n",
      "\n",
      "\n",
      "At random_state {37} the training accuracy test is 0.9956469165659009\n",
      "At random_state {37} the testing accuracy test is 0.9729206963249516\n",
      "\n",
      "\n",
      "At random_state {38} the training accuracy test is 0.9954050785973397\n",
      "At random_state {38} the testing accuracy test is 0.9758220502901354\n",
      "\n",
      "\n",
      "At random_state {39} the training accuracy test is 0.9963724304715841\n",
      "At random_state {39} the testing accuracy test is 0.9777562862669246\n",
      "\n",
      "\n",
      "At random_state {40} the training accuracy test is 0.9949214026602177\n",
      "At random_state {40} the testing accuracy test is 0.97678916827853\n",
      "\n",
      "\n",
      "At random_state {41} the training accuracy test is 0.9961305925030229\n",
      "At random_state {41} the testing accuracy test is 0.9690522243713733\n",
      "\n",
      "\n",
      "At random_state {42} the training accuracy test is 0.9956469165659009\n",
      "At random_state {42} the testing accuracy test is 0.9748549323017408\n",
      "\n",
      "\n",
      "At random_state {43} the training accuracy test is 0.9961305925030229\n",
      "At random_state {43} the testing accuracy test is 0.9709864603481625\n",
      "\n",
      "\n",
      "At random_state {44} the training accuracy test is 0.9958887545344619\n",
      "At random_state {44} the testing accuracy test is 0.971953578336557\n",
      "\n",
      "\n",
      "At random_state {45} the training accuracy test is 0.9961305925030229\n",
      "At random_state {45} the testing accuracy test is 0.9738878143133463\n",
      "\n",
      "\n",
      "At random_state {46} the training accuracy test is 0.9966142684401451\n",
      "At random_state {46} the testing accuracy test is 0.9709864603481625\n",
      "\n",
      "\n",
      "At random_state {47} the training accuracy test is 0.9956469165659009\n",
      "At random_state {47} the testing accuracy test is 0.9806576402321083\n",
      "\n",
      "\n",
      "At random_state {48} the training accuracy test is 0.9958887545344619\n",
      "At random_state {48} the testing accuracy test is 0.9671179883945842\n",
      "\n",
      "\n",
      "At random_state {49} the training accuracy test is 0.9956469165659009\n",
      "At random_state {49} the testing accuracy test is 0.9661508704061895\n",
      "\n",
      "\n",
      "At random_state {50} the training accuracy test is 0.9956469165659009\n",
      "At random_state {50} the testing accuracy test is 0.9758220502901354\n",
      "\n",
      "\n",
      "At random_state {51} the training accuracy test is 0.9961305925030229\n",
      "At random_state {51} the testing accuracy test is 0.9796905222437138\n",
      "\n",
      "\n",
      "At random_state {52} the training accuracy test is 0.9961305925030229\n",
      "At random_state {52} the testing accuracy test is 0.9748549323017408\n",
      "\n",
      "\n",
      "At random_state {53} the training accuracy test is 0.9961305925030229\n",
      "At random_state {53} the testing accuracy test is 0.9729206963249516\n",
      "\n",
      "\n",
      "At random_state {54} the training accuracy test is 0.9963724304715841\n",
      "At random_state {54} the testing accuracy test is 0.9690522243713733\n",
      "\n",
      "\n",
      "At random_state {55} the training accuracy test is 0.9956469165659009\n",
      "At random_state {55} the testing accuracy test is 0.9661508704061895\n",
      "\n",
      "\n",
      "At random_state {56} the training accuracy test is 0.9961305925030229\n",
      "At random_state {56} the testing accuracy test is 0.9748549323017408\n",
      "\n",
      "\n",
      "At random_state {57} the training accuracy test is 0.9961305925030229\n",
      "At random_state {57} the testing accuracy test is 0.97678916827853\n",
      "\n",
      "\n",
      "At random_state {58} the training accuracy test is 0.9961305925030229\n",
      "At random_state {58} the testing accuracy test is 0.9680851063829787\n",
      "\n",
      "\n",
      "At random_state {59} the training accuracy test is 0.9961305925030229\n",
      "At random_state {59} the testing accuracy test is 0.9729206963249516\n",
      "\n",
      "\n",
      "At random_state {60} the training accuracy test is 0.9954050785973397\n",
      "At random_state {60} the testing accuracy test is 0.9758220502901354\n",
      "\n",
      "\n",
      "At random_state {61} the training accuracy test is 0.9963724304715841\n",
      "At random_state {61} the testing accuracy test is 0.971953578336557\n",
      "\n",
      "\n",
      "At random_state {62} the training accuracy test is 0.9958887545344619\n",
      "At random_state {62} the testing accuracy test is 0.971953578336557\n",
      "\n",
      "\n",
      "At random_state {63} the training accuracy test is 0.9956469165659009\n",
      "At random_state {63} the testing accuracy test is 0.9787234042553191\n",
      "\n",
      "\n",
      "At random_state {64} the training accuracy test is 0.9946795646916566\n",
      "At random_state {64} the testing accuracy test is 0.9758220502901354\n",
      "\n",
      "\n",
      "At random_state {65} the training accuracy test is 0.9956469165659009\n",
      "At random_state {65} the testing accuracy test is 0.9680851063829787\n",
      "\n",
      "\n",
      "At random_state {66} the training accuracy test is 0.9961305925030229\n",
      "At random_state {66} the testing accuracy test is 0.9690522243713733\n",
      "\n",
      "\n",
      "At random_state {67} the training accuracy test is 0.9963724304715841\n",
      "At random_state {67} the testing accuracy test is 0.9729206963249516\n",
      "\n",
      "\n",
      "At random_state {68} the training accuracy test is 0.9958887545344619\n",
      "At random_state {68} the testing accuracy test is 0.9680851063829787\n",
      "\n",
      "\n",
      "At random_state {69} the training accuracy test is 0.9954050785973397\n",
      "At random_state {69} the testing accuracy test is 0.97678916827853\n",
      "\n",
      "\n",
      "At random_state {70} the training accuracy test is 0.9961305925030229\n",
      "At random_state {70} the testing accuracy test is 0.9806576402321083\n",
      "\n",
      "\n",
      "At random_state {71} the training accuracy test is 0.9961305925030229\n",
      "At random_state {71} the testing accuracy test is 0.9758220502901354\n",
      "\n",
      "\n",
      "At random_state {72} the training accuracy test is 0.9956469165659009\n",
      "At random_state {72} the testing accuracy test is 0.9680851063829787\n",
      "\n",
      "\n",
      "At random_state {73} the training accuracy test is 0.9958887545344619\n",
      "At random_state {73} the testing accuracy test is 0.9729206963249516\n",
      "\n",
      "\n",
      "At random_state {74} the training accuracy test is 0.9961305925030229\n",
      "At random_state {74} the testing accuracy test is 0.9700193423597679\n",
      "\n",
      "\n",
      "At random_state {75} the training accuracy test is 0.9951632406287787\n",
      "At random_state {75} the testing accuracy test is 0.9806576402321083\n",
      "\n",
      "\n",
      "At random_state {76} the training accuracy test is 0.9961305925030229\n",
      "At random_state {76} the testing accuracy test is 0.9816247582205029\n",
      "\n",
      "\n",
      "At random_state {77} the training accuracy test is 0.9966142684401451\n",
      "At random_state {77} the testing accuracy test is 0.9709864603481625\n",
      "\n",
      "\n",
      "At random_state {78} the training accuracy test is 0.9956469165659009\n",
      "At random_state {78} the testing accuracy test is 0.9738878143133463\n",
      "\n",
      "\n",
      "At random_state {79} the training accuracy test is 0.9961305925030229\n",
      "At random_state {79} the testing accuracy test is 0.9709864603481625\n",
      "\n",
      "\n",
      "At random_state {80} the training accuracy test is 0.9956469165659009\n",
      "At random_state {80} the testing accuracy test is 0.97678916827853\n",
      "\n",
      "\n",
      "At random_state {81} the training accuracy test is 0.9963724304715841\n",
      "At random_state {81} the testing accuracy test is 0.9680851063829787\n",
      "\n",
      "\n",
      "At random_state {82} the training accuracy test is 0.9963724304715841\n",
      "At random_state {82} the testing accuracy test is 0.971953578336557\n",
      "\n",
      "\n",
      "At random_state {83} the training accuracy test is 0.9968561064087061\n",
      "At random_state {83} the testing accuracy test is 0.971953578336557\n",
      "\n",
      "\n",
      "At random_state {84} the training accuracy test is 0.9949214026602177\n",
      "At random_state {84} the testing accuracy test is 0.97678916827853\n",
      "\n",
      "\n",
      "At random_state {85} the training accuracy test is 0.9956469165659009\n",
      "At random_state {85} the testing accuracy test is 0.9690522243713733\n",
      "\n",
      "\n",
      "At random_state {86} the training accuracy test is 0.9963724304715841\n",
      "At random_state {86} the testing accuracy test is 0.9709864603481625\n",
      "\n",
      "\n",
      "At random_state {87} the training accuracy test is 0.9958887545344619\n",
      "At random_state {87} the testing accuracy test is 0.9738878143133463\n",
      "\n",
      "\n",
      "At random_state {88} the training accuracy test is 0.9949214026602177\n",
      "At random_state {88} the testing accuracy test is 0.965183752417795\n",
      "\n",
      "\n",
      "At random_state {89} the training accuracy test is 0.9954050785973397\n",
      "At random_state {89} the testing accuracy test is 0.9738878143133463\n",
      "\n",
      "\n",
      "At random_state {90} the training accuracy test is 0.9954050785973397\n",
      "At random_state {90} the testing accuracy test is 0.965183752417795\n",
      "\n",
      "\n",
      "At random_state {91} the training accuracy test is 0.9958887545344619\n",
      "At random_state {91} the testing accuracy test is 0.9729206963249516\n",
      "\n",
      "\n",
      "At random_state {92} the training accuracy test is 0.9963724304715841\n",
      "At random_state {92} the testing accuracy test is 0.9758220502901354\n",
      "\n",
      "\n",
      "At random_state {93} the training accuracy test is 0.9958887545344619\n",
      "At random_state {93} the testing accuracy test is 0.9680851063829787\n",
      "\n",
      "\n",
      "At random_state {94} the training accuracy test is 0.9961305925030229\n",
      "At random_state {94} the testing accuracy test is 0.9700193423597679\n",
      "\n",
      "\n",
      "At random_state {95} the training accuracy test is 0.9970979443772672\n",
      "At random_state {95} the testing accuracy test is 0.9758220502901354\n",
      "\n",
      "\n",
      "At random_state {96} the training accuracy test is 0.9956469165659009\n",
      "At random_state {96} the testing accuracy test is 0.9758220502901354\n",
      "\n",
      "\n",
      "At random_state {97} the training accuracy test is 0.9954050785973397\n",
      "At random_state {97} the testing accuracy test is 0.97678916827853\n",
      "\n",
      "\n",
      "At random_state {98} the training accuracy test is 0.9956469165659009\n",
      "At random_state {98} the testing accuracy test is 0.9806576402321083\n",
      "\n",
      "\n",
      "At random_state {99} the training accuracy test is 0.9958887545344619\n",
      "At random_state {99} the testing accuracy test is 0.9787234042553191\n",
      "\n",
      "\n"
     ]
    }
   ],
   "source": [
    "for i in range(0,100):\n",
    "    x_train,x_test,y_train,y_test=train_test_split(X,Y,test_size=0.20,random_state=i)\n",
    "    svc.fit(x_train,y_train)\n",
    "    predsvc=svc.predict(x_train)\n",
    "    predsvc1=svc.predict(x_test)\n",
    "    print('At random_state' ,{i}, 'the training accuracy test is', accuracy_score(y_train,predsvc))\n",
    "    print('At random_state' ,{i}, 'the testing accuracy test is', accuracy_score(y_test,predsvc1))\n",
    "    print('\\n')"
   ]
  },
  {
   "cell_type": "markdown",
   "id": "222af05c",
   "metadata": {},
   "source": [
    "## AT RANDOM STATE 14 WE HAVE THE HIGHEST ACCURACY 98.45%"
   ]
  },
  {
   "cell_type": "code",
   "execution_count": 242,
   "id": "551f0fda",
   "metadata": {},
   "outputs": [],
   "source": [
    "svc=SVC(probability=True)"
   ]
  },
  {
   "cell_type": "code",
   "execution_count": 244,
   "id": "64c1ec0b",
   "metadata": {},
   "outputs": [],
   "source": [
    "x_train,x_test,y_train,y_test=train_test_split(X,Y,test_size=0.20,random_state=14)"
   ]
  },
  {
   "cell_type": "code",
   "execution_count": 245,
   "id": "2fd9a164",
   "metadata": {},
   "outputs": [
    {
     "data": {
      "text/html": [
       "<style>#sk-container-id-2 {color: black;background-color: white;}#sk-container-id-2 pre{padding: 0;}#sk-container-id-2 div.sk-toggleable {background-color: white;}#sk-container-id-2 label.sk-toggleable__label {cursor: pointer;display: block;width: 100%;margin-bottom: 0;padding: 0.3em;box-sizing: border-box;text-align: center;}#sk-container-id-2 label.sk-toggleable__label-arrow:before {content: \"▸\";float: left;margin-right: 0.25em;color: #696969;}#sk-container-id-2 label.sk-toggleable__label-arrow:hover:before {color: black;}#sk-container-id-2 div.sk-estimator:hover label.sk-toggleable__label-arrow:before {color: black;}#sk-container-id-2 div.sk-toggleable__content {max-height: 0;max-width: 0;overflow: hidden;text-align: left;background-color: #f0f8ff;}#sk-container-id-2 div.sk-toggleable__content pre {margin: 0.2em;color: black;border-radius: 0.25em;background-color: #f0f8ff;}#sk-container-id-2 input.sk-toggleable__control:checked~div.sk-toggleable__content {max-height: 200px;max-width: 100%;overflow: auto;}#sk-container-id-2 input.sk-toggleable__control:checked~label.sk-toggleable__label-arrow:before {content: \"▾\";}#sk-container-id-2 div.sk-estimator input.sk-toggleable__control:checked~label.sk-toggleable__label {background-color: #d4ebff;}#sk-container-id-2 div.sk-label input.sk-toggleable__control:checked~label.sk-toggleable__label {background-color: #d4ebff;}#sk-container-id-2 input.sk-hidden--visually {border: 0;clip: rect(1px 1px 1px 1px);clip: rect(1px, 1px, 1px, 1px);height: 1px;margin: -1px;overflow: hidden;padding: 0;position: absolute;width: 1px;}#sk-container-id-2 div.sk-estimator {font-family: monospace;background-color: #f0f8ff;border: 1px dotted black;border-radius: 0.25em;box-sizing: border-box;margin-bottom: 0.5em;}#sk-container-id-2 div.sk-estimator:hover {background-color: #d4ebff;}#sk-container-id-2 div.sk-parallel-item::after {content: \"\";width: 100%;border-bottom: 1px solid gray;flex-grow: 1;}#sk-container-id-2 div.sk-label:hover label.sk-toggleable__label {background-color: #d4ebff;}#sk-container-id-2 div.sk-serial::before {content: \"\";position: absolute;border-left: 1px solid gray;box-sizing: border-box;top: 0;bottom: 0;left: 50%;z-index: 0;}#sk-container-id-2 div.sk-serial {display: flex;flex-direction: column;align-items: center;background-color: white;padding-right: 0.2em;padding-left: 0.2em;position: relative;}#sk-container-id-2 div.sk-item {position: relative;z-index: 1;}#sk-container-id-2 div.sk-parallel {display: flex;align-items: stretch;justify-content: center;background-color: white;position: relative;}#sk-container-id-2 div.sk-item::before, #sk-container-id-2 div.sk-parallel-item::before {content: \"\";position: absolute;border-left: 1px solid gray;box-sizing: border-box;top: 0;bottom: 0;left: 50%;z-index: -1;}#sk-container-id-2 div.sk-parallel-item {display: flex;flex-direction: column;z-index: 1;position: relative;background-color: white;}#sk-container-id-2 div.sk-parallel-item:first-child::after {align-self: flex-end;width: 50%;}#sk-container-id-2 div.sk-parallel-item:last-child::after {align-self: flex-start;width: 50%;}#sk-container-id-2 div.sk-parallel-item:only-child::after {width: 0;}#sk-container-id-2 div.sk-dashed-wrapped {border: 1px dashed gray;margin: 0 0.4em 0.5em 0.4em;box-sizing: border-box;padding-bottom: 0.4em;background-color: white;}#sk-container-id-2 div.sk-label label {font-family: monospace;font-weight: bold;display: inline-block;line-height: 1.2em;}#sk-container-id-2 div.sk-label-container {text-align: center;}#sk-container-id-2 div.sk-container {/* jupyter's `normalize.less` sets `[hidden] { display: none; }` but bootstrap.min.css set `[hidden] { display: none !important; }` so we also need the `!important` here to be able to override the default hidden behavior on the sphinx rendered scikit-learn.org. See: https://github.com/scikit-learn/scikit-learn/issues/21755 */display: inline-block !important;position: relative;}#sk-container-id-2 div.sk-text-repr-fallback {display: none;}</style><div id=\"sk-container-id-2\" class=\"sk-top-container\"><div class=\"sk-text-repr-fallback\"><pre>SVC(probability=True)</pre><b>In a Jupyter environment, please rerun this cell to show the HTML representation or trust the notebook. <br />On GitHub, the HTML representation is unable to render, please try loading this page with nbviewer.org.</b></div><div class=\"sk-container\" hidden><div class=\"sk-item\"><div class=\"sk-estimator sk-toggleable\"><input class=\"sk-toggleable__control sk-hidden--visually\" id=\"sk-estimator-id-2\" type=\"checkbox\" checked><label for=\"sk-estimator-id-2\" class=\"sk-toggleable__label sk-toggleable__label-arrow\">SVC</label><div class=\"sk-toggleable__content\"><pre>SVC(probability=True)</pre></div></div></div></div></div>"
      ],
      "text/plain": [
       "SVC(probability=True)"
      ]
     },
     "execution_count": 245,
     "metadata": {},
     "output_type": "execute_result"
    }
   ],
   "source": [
    "svc.fit(x_train,y_train)"
   ]
  },
  {
   "cell_type": "code",
   "execution_count": 246,
   "id": "e30ff1db",
   "metadata": {},
   "outputs": [],
   "source": [
    "PRESVC=svc.predict(x_test)"
   ]
  },
  {
   "cell_type": "markdown",
   "id": "d0649f08",
   "metadata": {},
   "source": [
    "## MODEL ACCURACY"
   ]
  },
  {
   "cell_type": "code",
   "execution_count": 247,
   "id": "3065a212",
   "metadata": {},
   "outputs": [
    {
     "name": "stdout",
     "output_type": "stream",
     "text": [
      "0.9845261121856866\n"
     ]
    }
   ],
   "source": [
    "print(accuracy_score(y_test,PRESVC))"
   ]
  },
  {
   "cell_type": "markdown",
   "id": "ca9432a4",
   "metadata": {},
   "source": [
    "## CONFUSION MATRIX"
   ]
  },
  {
   "cell_type": "code",
   "execution_count": 248,
   "id": "f9ef1164",
   "metadata": {},
   "outputs": [
    {
     "name": "stdout",
     "output_type": "stream",
     "text": [
      "[[913   0]\n",
      " [ 16 105]]\n"
     ]
    }
   ],
   "source": [
    "print(confusion_matrix(y_test,PRESVC))"
   ]
  },
  {
   "cell_type": "markdown",
   "id": "991a3adf",
   "metadata": {},
   "source": [
    "## CLASSIFICATION REPORT"
   ]
  },
  {
   "cell_type": "code",
   "execution_count": 249,
   "id": "a40a395c",
   "metadata": {},
   "outputs": [
    {
     "name": "stdout",
     "output_type": "stream",
     "text": [
      "              precision    recall  f1-score   support\n",
      "\n",
      "           0       0.98      1.00      0.99       913\n",
      "           1       1.00      0.87      0.93       121\n",
      "\n",
      "    accuracy                           0.98      1034\n",
      "   macro avg       0.99      0.93      0.96      1034\n",
      "weighted avg       0.98      0.98      0.98      1034\n",
      "\n"
     ]
    }
   ],
   "source": [
    "print(classification_report(y_test,PRESVC))"
   ]
  },
  {
   "cell_type": "markdown",
   "id": "c70756cb",
   "metadata": {},
   "source": [
    "## AUC ROC CURVE"
   ]
  },
  {
   "cell_type": "code",
   "execution_count": 251,
   "id": "3fc91940",
   "metadata": {},
   "outputs": [],
   "source": [
    "y_pred_prob2=svc.predict_proba(x_test)[:,1]"
   ]
  },
  {
   "cell_type": "code",
   "execution_count": 252,
   "id": "4e620ad9",
   "metadata": {},
   "outputs": [
    {
     "data": {
      "text/plain": [
       "array([0.01379282, 0.00760989, 0.00407339, ..., 0.0015331 , 0.02239222,\n",
       "       0.0028588 ])"
      ]
     },
     "execution_count": 252,
     "metadata": {},
     "output_type": "execute_result"
    }
   ],
   "source": [
    "y_pred_prob2"
   ]
  },
  {
   "cell_type": "code",
   "execution_count": 253,
   "id": "e05d9c0c",
   "metadata": {},
   "outputs": [],
   "source": [
    "tpr,fpr,thresholds=roc_curve(y_test,y_pred_prob2)"
   ]
  },
  {
   "cell_type": "code",
   "execution_count": 254,
   "id": "fb13d3f5",
   "metadata": {},
   "outputs": [
    {
     "data": {
      "text/plain": [
       "array([0.        , 0.        , 0.        , 0.        , 0.        ,\n",
       "       0.        , 0.        , 0.        , 0.        , 0.        ,\n",
       "       0.        , 0.00109529, 0.00109529, 0.00328587, 0.00328587,\n",
       "       0.00657174, 0.00657174, 0.01204819, 0.01204819, 0.01533406,\n",
       "       0.01533406, 0.03066813, 0.03066813, 0.05366922, 0.05366922,\n",
       "       0.05476451, 0.05476451, 0.10405257, 0.10405257, 0.18619934,\n",
       "       0.18948521, 0.19605696, 0.19605696, 0.3932092 , 0.3932092 ,\n",
       "       0.39759036, 0.40635268, 0.93318729, 0.93537788, 0.97590361,\n",
       "       0.97809419, 1.        ])"
      ]
     },
     "execution_count": 254,
     "metadata": {},
     "output_type": "execute_result"
    }
   ],
   "source": [
    "tpr"
   ]
  },
  {
   "cell_type": "code",
   "execution_count": 255,
   "id": "7a7cf7bb",
   "metadata": {},
   "outputs": [
    {
     "data": {
      "text/plain": [
       "array([0.        , 0.00826446, 0.04958678, 0.0661157 , 0.27272727,\n",
       "       0.2892562 , 0.32231405, 0.33884298, 0.42975207, 0.44628099,\n",
       "       0.90082645, 0.90082645, 0.91735537, 0.91735537, 0.92561983,\n",
       "       0.92561983, 0.9338843 , 0.9338843 , 0.94214876, 0.94214876,\n",
       "       0.95041322, 0.95041322, 0.95867769, 0.95867769, 0.96694215,\n",
       "       0.96694215, 0.97520661, 0.97520661, 0.98347107, 0.98347107,\n",
       "       0.98347107, 0.98347107, 0.99173554, 0.99173554, 1.        ,\n",
       "       1.        , 1.        , 1.        , 1.        , 1.        ,\n",
       "       1.        , 1.        ])"
      ]
     },
     "execution_count": 255,
     "metadata": {},
     "output_type": "execute_result"
    }
   ],
   "source": [
    "fpr"
   ]
  },
  {
   "cell_type": "code",
   "execution_count": 256,
   "id": "c02f8283",
   "metadata": {},
   "outputs": [
    {
     "data": {
      "text/plain": [
       "array([2.00000000e+00, 1.00000000e+00, 1.00000000e+00, 1.00000000e+00,\n",
       "       9.99999980e-01, 9.99999980e-01, 9.99999980e-01, 9.99999980e-01,\n",
       "       9.99999865e-01, 9.99999865e-01, 7.85455088e-01, 7.79069925e-01,\n",
       "       7.28392746e-01, 6.24217904e-01, 5.97402773e-01, 4.52451736e-01,\n",
       "       3.55648620e-01, 2.26791889e-01, 1.83048631e-01, 1.71289109e-01,\n",
       "       1.65771736e-01, 1.12271024e-01, 1.05106160e-01, 6.83782827e-02,\n",
       "       6.74899884e-02, 6.50340850e-02, 6.38935673e-02, 3.55628428e-02,\n",
       "       3.51485266e-02, 2.03699031e-02, 2.03074089e-02, 1.93515366e-02,\n",
       "       1.91211486e-02, 7.68890102e-03, 7.68082832e-03, 7.57338372e-03,\n",
       "       7.56710445e-03, 9.24887119e-04, 9.22851925e-04, 5.00953581e-04,\n",
       "       4.73717255e-04, 4.17472753e-05])"
      ]
     },
     "execution_count": 256,
     "metadata": {},
     "output_type": "execute_result"
    }
   ],
   "source": [
    "thresholds"
   ]
  },
  {
   "cell_type": "code",
   "execution_count": 257,
   "id": "957d4d92",
   "metadata": {},
   "outputs": [
    {
     "data": {
      "image/png": "[encoded data removed]",
      "text/plain": [
       "<Figure size 432x288 with 1 Axes>"
      ]
     },
     "metadata": {
      "needs_background": "light"
     },
     "output_type": "display_data"
    }
   ],
   "source": [
    "plt.plot([0,1],[0,1],'k--')\n",
    "plt.plot(tpr,fpr,label='SVC')\n",
    "plt.xlabel('FALSE_POSITIVE_RATE')\n",
    "plt.ylabel('TRUE_POSITIVE_RATE')\n",
    "plt.title('SVC_CLASSIFIER')\n",
    "plt.show()"
   ]
  },
  {
   "cell_type": "code",
   "execution_count": 258,
   "id": "4d7de3b8",
   "metadata": {},
   "outputs": [
    {
     "data": {
      "text/plain": [
       "0.9338842975206612"
      ]
     },
     "execution_count": 258,
     "metadata": {},
     "output_type": "execute_result"
    }
   ],
   "source": [
    "auc_score=roc_auc_score(y_test,(svc.predict(x_test)))\n",
    "auc_score"
   ]
  },
  {
   "cell_type": "code",
   "execution_count": 266,
   "id": "4fe164c9",
   "metadata": {},
   "outputs": [],
   "source": [
    "from sklearn.naive_bayes import GaussianNB"
   ]
  },
  {
   "cell_type": "markdown",
   "id": "2de8bba2",
   "metadata": {},
   "source": [
    "## GAUSSIAN MB"
   ]
  },
  {
   "cell_type": "code",
   "execution_count": 268,
   "id": "9b0cc14a",
   "metadata": {},
   "outputs": [],
   "source": [
    "gb=GaussianNB()"
   ]
  },
  {
   "cell_type": "code",
   "execution_count": 270,
   "id": "0133f79b",
   "metadata": {},
   "outputs": [
    {
     "name": "stdout",
     "output_type": "stream",
     "text": [
      "At random_state {0} the training accuracy test is 0.8972188633615478\n",
      "At random_state {0} the testing accuracy test is 0.8704061895551257\n",
      "\n",
      "\n",
      "At random_state {1} the training accuracy test is 0.8918984280532044\n",
      "At random_state {1} the testing accuracy test is 0.8558994197292069\n",
      "\n",
      "\n",
      "At random_state {2} the training accuracy test is 0.8918984280532044\n",
      "At random_state {2} the testing accuracy test is 0.8704061895551257\n",
      "\n",
      "\n",
      "At random_state {3} the training accuracy test is 0.8977025392986699\n",
      "At random_state {3} the testing accuracy test is 0.8578336557059961\n",
      "\n",
      "\n",
      "At random_state {4} the training accuracy test is 0.8952841596130593\n",
      "At random_state {4} the testing accuracy test is 0.8617021276595744\n",
      "\n",
      "\n",
      "At random_state {5} the training accuracy test is 0.8991535671100362\n",
      "At random_state {5} the testing accuracy test is 0.851063829787234\n",
      "\n",
      "\n",
      "At random_state {6} the training accuracy test is 0.9022974607013301\n",
      "At random_state {6} the testing accuracy test is 0.8626692456479691\n",
      "\n",
      "\n",
      "At random_state {7} the training accuracy test is 0.8989117291414752\n",
      "At random_state {7} the testing accuracy test is 0.8520309477756286\n",
      "\n",
      "\n",
      "At random_state {8} the training accuracy test is 0.8938331318016929\n",
      "At random_state {8} the testing accuracy test is 0.8558994197292069\n",
      "\n",
      "\n",
      "At random_state {9} the training accuracy test is 0.8926239419588875\n",
      "At random_state {9} the testing accuracy test is 0.8471953578336557\n",
      "\n",
      "\n",
      "At random_state {10} the training accuracy test is 0.8960096735187424\n",
      "At random_state {10} the testing accuracy test is 0.8597678916827853\n",
      "\n",
      "\n",
      "At random_state {11} the training accuracy test is 0.898428053204353\n",
      "At random_state {11} the testing accuracy test is 0.8733075435203095\n",
      "\n",
      "\n",
      "At random_state {12} the training accuracy test is 0.8972188633615478\n",
      "At random_state {12} the testing accuracy test is 0.8529980657640233\n",
      "\n",
      "\n",
      "At random_state {13} the training accuracy test is 0.8989117291414752\n",
      "At random_state {13} the testing accuracy test is 0.8694390715667312\n",
      "\n",
      "\n",
      "At random_state {14} the training accuracy test is 0.8940749697702539\n",
      "At random_state {14} the testing accuracy test is 0.8617021276595744\n",
      "\n",
      "\n",
      "At random_state {15} the training accuracy test is 0.8945586457073761\n",
      "At random_state {15} the testing accuracy test is 0.8733075435203095\n",
      "\n",
      "\n",
      "At random_state {16} the training accuracy test is 0.8916565900846433\n",
      "At random_state {16} the testing accuracy test is 0.8500967117988395\n",
      "\n",
      "\n",
      "At random_state {17} the training accuracy test is 0.8950423216444982\n",
      "At random_state {17} the testing accuracy test is 0.8665377176015474\n",
      "\n",
      "\n",
      "At random_state {18} the training accuracy test is 0.8964933494558646\n",
      "At random_state {18} the testing accuracy test is 0.8636363636363636\n",
      "\n",
      "\n",
      "At random_state {19} the training accuracy test is 0.8923821039903265\n",
      "At random_state {19} the testing accuracy test is 0.8636363636363636\n",
      "\n",
      "\n",
      "At random_state {20} the training accuracy test is 0.8950423216444982\n",
      "At random_state {20} the testing accuracy test is 0.8568665377176016\n",
      "\n",
      "\n",
      "At random_state {21} the training accuracy test is 0.8989117291414752\n",
      "At random_state {21} the testing accuracy test is 0.8471953578336557\n",
      "\n",
      "\n",
      "At random_state {22} the training accuracy test is 0.8882708585247884\n",
      "At random_state {22} the testing accuracy test is 0.8558994197292069\n",
      "\n",
      "\n",
      "At random_state {23} the training accuracy test is 0.8964933494558646\n",
      "At random_state {23} the testing accuracy test is 0.8704061895551257\n",
      "\n",
      "\n",
      "At random_state {24} the training accuracy test is 0.8909310761789601\n",
      "At random_state {24} the testing accuracy test is 0.8626692456479691\n",
      "\n",
      "\n",
      "At random_state {25} the training accuracy test is 0.8918984280532044\n",
      "At random_state {25} the testing accuracy test is 0.8588007736943907\n",
      "\n",
      "\n",
      "At random_state {26} the training accuracy test is 0.8921402660217654\n",
      "At random_state {26} the testing accuracy test is 0.8520309477756286\n",
      "\n",
      "\n",
      "At random_state {27} the training accuracy test is 0.8926239419588875\n",
      "At random_state {27} the testing accuracy test is 0.8549323017408124\n",
      "\n",
      "\n",
      "At random_state {28} the training accuracy test is 0.8928657799274486\n",
      "At random_state {28} the testing accuracy test is 0.8568665377176016\n",
      "\n",
      "\n",
      "At random_state {29} the training accuracy test is 0.8969770253929867\n",
      "At random_state {29} the testing accuracy test is 0.8810444874274661\n",
      "\n",
      "\n",
      "At random_state {30} the training accuracy test is 0.8996372430471584\n",
      "At random_state {30} the testing accuracy test is 0.8684719535783365\n",
      "\n",
      "\n",
      "At random_state {31} the training accuracy test is 0.8911729141475212\n",
      "At random_state {31} the testing accuracy test is 0.8752417794970987\n",
      "\n",
      "\n",
      "At random_state {32} the training accuracy test is 0.8892382103990326\n",
      "At random_state {32} the testing accuracy test is 0.8588007736943907\n",
      "\n",
      "\n",
      "At random_state {33} the training accuracy test is 0.8899637243047158\n",
      "At random_state {33} the testing accuracy test is 0.8481624758220503\n",
      "\n",
      "\n",
      "At random_state {34} the training accuracy test is 0.8967351874244256\n",
      "At random_state {34} the testing accuracy test is 0.851063829787234\n",
      "\n",
      "\n",
      "At random_state {35} the training accuracy test is 0.8923821039903265\n",
      "At random_state {35} the testing accuracy test is 0.8636363636363636\n",
      "\n",
      "\n",
      "At random_state {36} the training accuracy test is 0.894316807738815\n",
      "At random_state {36} the testing accuracy test is 0.8607350096711799\n",
      "\n",
      "\n",
      "At random_state {37} the training accuracy test is 0.8916565900846433\n",
      "At random_state {37} the testing accuracy test is 0.8607350096711799\n",
      "\n",
      "\n",
      "At random_state {38} the training accuracy test is 0.8928657799274486\n",
      "At random_state {38} the testing accuracy test is 0.874274661508704\n",
      "\n",
      "\n",
      "At random_state {39} the training accuracy test is 0.8928657799274486\n",
      "At random_state {39} the testing accuracy test is 0.8713733075435203\n",
      "\n",
      "\n",
      "At random_state {40} the training accuracy test is 0.8892382103990326\n",
      "At random_state {40} the testing accuracy test is 0.8684719535783365\n",
      "\n",
      "\n",
      "At random_state {41} the training accuracy test is 0.8991535671100362\n",
      "At random_state {41} the testing accuracy test is 0.8549323017408124\n",
      "\n",
      "\n",
      "At random_state {42} the training accuracy test is 0.8960096735187424\n",
      "At random_state {42} the testing accuracy test is 0.8588007736943907\n",
      "\n",
      "\n",
      "At random_state {43} the training accuracy test is 0.8955259975816203\n",
      "At random_state {43} the testing accuracy test is 0.8597678916827853\n",
      "\n",
      "\n",
      "At random_state {44} the training accuracy test is 0.8923821039903265\n",
      "At random_state {44} the testing accuracy test is 0.8762088974854932\n",
      "\n",
      "\n",
      "At random_state {45} the training accuracy test is 0.8880290205562273\n",
      "At random_state {45} the testing accuracy test is 0.8723404255319149\n",
      "\n",
      "\n",
      "At random_state {46} the training accuracy test is 0.8986698911729142\n",
      "At random_state {46} the testing accuracy test is 0.8578336557059961\n",
      "\n",
      "\n",
      "At random_state {47} the training accuracy test is 0.8848851269649335\n",
      "At random_state {47} the testing accuracy test is 0.8762088974854932\n",
      "\n",
      "\n",
      "At random_state {48} the training accuracy test is 0.9001209189842805\n",
      "At random_state {48} the testing accuracy test is 0.8539651837524178\n",
      "\n",
      "\n",
      "At random_state {49} the training accuracy test is 0.905683192261185\n",
      "At random_state {49} the testing accuracy test is 0.8520309477756286\n",
      "\n",
      "\n",
      "At random_state {50} the training accuracy test is 0.8974607013301088\n",
      "At random_state {50} the testing accuracy test is 0.8723404255319149\n",
      "\n",
      "\n",
      "At random_state {51} the training accuracy test is 0.8964933494558646\n",
      "At random_state {51} the testing accuracy test is 0.8704061895551257\n",
      "\n",
      "\n",
      "At random_state {52} the training accuracy test is 0.8928657799274486\n",
      "At random_state {52} the testing accuracy test is 0.8665377176015474\n",
      "\n",
      "\n",
      "At random_state {53} the training accuracy test is 0.8938331318016929\n",
      "At random_state {53} the testing accuracy test is 0.851063829787234\n",
      "\n",
      "\n",
      "At random_state {54} the training accuracy test is 0.8964933494558646\n",
      "At random_state {54} the testing accuracy test is 0.8588007736943907\n",
      "\n",
      "\n",
      "At random_state {55} the training accuracy test is 0.8892382103990326\n",
      "At random_state {55} the testing accuracy test is 0.8684719535783365\n",
      "\n",
      "\n",
      "At random_state {56} the training accuracy test is 0.8967351874244256\n",
      "At random_state {56} the testing accuracy test is 0.8588007736943907\n",
      "\n",
      "\n",
      "At random_state {57} the training accuracy test is 0.8894800483675938\n",
      "At random_state {57} the testing accuracy test is 0.867504835589942\n",
      "\n",
      "\n",
      "At random_state {58} the training accuracy test is 0.8955259975816203\n",
      "At random_state {58} the testing accuracy test is 0.8655705996131529\n",
      "\n",
      "\n",
      "At random_state {59} the training accuracy test is 0.9085852478839178\n",
      "At random_state {59} the testing accuracy test is 0.8549323017408124\n",
      "\n",
      "\n",
      "At random_state {60} the training accuracy test is 0.9030229746070133\n",
      "At random_state {60} the testing accuracy test is 0.8762088974854932\n",
      "\n",
      "\n",
      "At random_state {61} the training accuracy test is 0.8952841596130593\n",
      "At random_state {61} the testing accuracy test is 0.8626692456479691\n",
      "\n",
      "\n",
      "At random_state {62} the training accuracy test is 0.8933494558645707\n",
      "At random_state {62} the testing accuracy test is 0.8529980657640233\n",
      "\n",
      "\n",
      "At random_state {63} the training accuracy test is 0.8875453446191052\n",
      "At random_state {63} the testing accuracy test is 0.867504835589942\n",
      "\n",
      "\n",
      "At random_state {64} the training accuracy test is 0.8957678355501814\n",
      "At random_state {64} the testing accuracy test is 0.8539651837524178\n",
      "\n",
      "\n",
      "At random_state {65} the training accuracy test is 0.8926239419588875\n",
      "At random_state {65} the testing accuracy test is 0.8529980657640233\n",
      "\n",
      "\n",
      "At random_state {66} the training accuracy test is 0.8964933494558646\n",
      "At random_state {66} the testing accuracy test is 0.8626692456479691\n",
      "\n",
      "\n",
      "At random_state {67} the training accuracy test is 0.894316807738815\n",
      "At random_state {67} the testing accuracy test is 0.8607350096711799\n",
      "\n",
      "\n",
      "At random_state {68} the training accuracy test is 0.8926239419588875\n",
      "At random_state {68} the testing accuracy test is 0.8762088974854932\n",
      "\n",
      "\n",
      "At random_state {69} the training accuracy test is 0.8824667472793228\n",
      "At random_state {69} the testing accuracy test is 0.874274661508704\n",
      "\n",
      "\n",
      "At random_state {70} the training accuracy test is 0.8877871825876663\n",
      "At random_state {70} the testing accuracy test is 0.8704061895551257\n",
      "\n",
      "\n",
      "At random_state {71} the training accuracy test is 0.8887545344619106\n",
      "At random_state {71} the testing accuracy test is 0.8636363636363636\n",
      "\n",
      "\n",
      "At random_state {72} the training accuracy test is 0.9006045949214027\n",
      "At random_state {72} the testing accuracy test is 0.8646034816247582\n",
      "\n",
      "\n",
      "At random_state {73} the training accuracy test is 0.8960096735187424\n",
      "At random_state {73} the testing accuracy test is 0.8665377176015474\n",
      "\n",
      "\n",
      "At random_state {74} the training accuracy test is 0.8972188633615478\n",
      "At random_state {74} the testing accuracy test is 0.8607350096711799\n",
      "\n",
      "\n",
      "At random_state {75} the training accuracy test is 0.8909310761789601\n",
      "At random_state {75} the testing accuracy test is 0.8829787234042553\n",
      "\n",
      "\n",
      "At random_state {76} the training accuracy test is 0.8899637243047158\n",
      "At random_state {76} the testing accuracy test is 0.8762088974854932\n",
      "\n",
      "\n",
      "At random_state {77} the training accuracy test is 0.8986698911729142\n",
      "At random_state {77} the testing accuracy test is 0.8481624758220503\n",
      "\n",
      "\n",
      "At random_state {78} the training accuracy test is 0.8948004836759371\n",
      "At random_state {78} the testing accuracy test is 0.867504835589942\n",
      "\n",
      "\n",
      "At random_state {79} the training accuracy test is 0.9061668681983072\n",
      "At random_state {79} the testing accuracy test is 0.8607350096711799\n",
      "\n",
      "\n",
      "At random_state {80} the training accuracy test is 0.9020556227327691\n",
      "At random_state {80} the testing accuracy test is 0.8597678916827853\n",
      "\n",
      "\n",
      "At random_state {81} the training accuracy test is 0.9047158403869408\n",
      "At random_state {81} the testing accuracy test is 0.8607350096711799\n",
      "\n",
      "\n",
      "At random_state {82} the training accuracy test is 0.8877871825876663\n",
      "At random_state {82} the testing accuracy test is 0.8694390715667312\n",
      "\n",
      "\n",
      "At random_state {83} the training accuracy test is 0.8969770253929867\n",
      "At random_state {83} the testing accuracy test is 0.8481624758220503\n",
      "\n",
      "\n",
      "At random_state {84} the training accuracy test is 0.8991535671100362\n",
      "At random_state {84} the testing accuracy test is 0.8617021276595744\n",
      "\n",
      "\n",
      "At random_state {85} the training accuracy test is 0.8948004836759371\n",
      "At random_state {85} the testing accuracy test is 0.8529980657640233\n",
      "\n",
      "\n",
      "At random_state {86} the training accuracy test is 0.8950423216444982\n",
      "At random_state {86} the testing accuracy test is 0.8588007736943907\n",
      "\n",
      "\n",
      "At random_state {87} the training accuracy test is 0.8909310761789601\n",
      "At random_state {87} the testing accuracy test is 0.8636363636363636\n",
      "\n",
      "\n",
      "At random_state {88} the training accuracy test is 0.8957678355501814\n",
      "At random_state {88} the testing accuracy test is 0.8646034816247582\n",
      "\n",
      "\n",
      "At random_state {89} the training accuracy test is 0.9035066505441355\n",
      "At random_state {89} the testing accuracy test is 0.8617021276595744\n",
      "\n",
      "\n",
      "At random_state {90} the training accuracy test is 0.8914147521160822\n",
      "At random_state {90} the testing accuracy test is 0.867504835589942\n",
      "\n",
      "\n",
      "At random_state {91} the training accuracy test is 0.8948004836759371\n",
      "At random_state {91} the testing accuracy test is 0.8607350096711799\n",
      "\n",
      "\n",
      "At random_state {92} the training accuracy test is 0.8948004836759371\n",
      "At random_state {92} the testing accuracy test is 0.8800773694390716\n",
      "\n",
      "\n",
      "At random_state {93} the training accuracy test is 0.8967351874244256\n",
      "At random_state {93} the testing accuracy test is 0.8655705996131529\n",
      "\n",
      "\n",
      "At random_state {94} the training accuracy test is 0.897944377267231\n",
      "At random_state {94} the testing accuracy test is 0.8481624758220503\n",
      "\n",
      "\n",
      "At random_state {95} the training accuracy test is 0.9010882708585248\n",
      "At random_state {95} the testing accuracy test is 0.8626692456479691\n",
      "\n",
      "\n",
      "At random_state {96} the training accuracy test is 0.898428053204353\n",
      "At random_state {96} the testing accuracy test is 0.844294003868472\n",
      "\n",
      "\n",
      "At random_state {97} the training accuracy test is 0.8950423216444982\n",
      "At random_state {97} the testing accuracy test is 0.8704061895551257\n",
      "\n",
      "\n",
      "At random_state {98} the training accuracy test is 0.8856106408706167\n",
      "At random_state {98} the testing accuracy test is 0.879110251450677\n",
      "\n",
      "\n",
      "At random_state {99} the training accuracy test is 0.897944377267231\n",
      "At random_state {99} the testing accuracy test is 0.8636363636363636\n",
      "\n",
      "\n"
     ]
    }
   ],
   "source": [
    "for i in range(0,100):\n",
    "    x_train,x_test,y_train,y_test=train_test_split(X,Y,test_size=0.20,random_state=i)\n",
    "    gb.fit(x_train,y_train)\n",
    "    predgb=gb.predict(x_train)\n",
    "    predgb1=gb.predict(x_test)\n",
    "    print('At random_state' ,{i}, 'the training accuracy test is', accuracy_score(y_train,predgb))\n",
    "    print('At random_state' ,{i}, 'the testing accuracy test is', accuracy_score(y_test,predgb1))\n",
    "    print('\\n')"
   ]
  },
  {
   "cell_type": "markdown",
   "id": "1724e041",
   "metadata": {},
   "source": [
    "## AT RANDOM STATE 75 WE HAVE THE HIGHEST ACCURACY 88.29%"
   ]
  },
  {
   "cell_type": "code",
   "execution_count": 272,
   "id": "56cc3ce0",
   "metadata": {},
   "outputs": [],
   "source": [
    "x_train,x_test,y_train,y_test=train_test_split(X,Y,test_size=0.20,random_state=75)"
   ]
  },
  {
   "cell_type": "code",
   "execution_count": 273,
   "id": "799e4c0d",
   "metadata": {},
   "outputs": [
    {
     "data": {
      "text/html": [
       "<style>#sk-container-id-3 {color: black;background-color: white;}#sk-container-id-3 pre{padding: 0;}#sk-container-id-3 div.sk-toggleable {background-color: white;}#sk-container-id-3 label.sk-toggleable__label {cursor: pointer;display: block;width: 100%;margin-bottom: 0;padding: 0.3em;box-sizing: border-box;text-align: center;}#sk-container-id-3 label.sk-toggleable__label-arrow:before {content: \"▸\";float: left;margin-right: 0.25em;color: #696969;}#sk-container-id-3 label.sk-toggleable__label-arrow:hover:before {color: black;}#sk-container-id-3 div.sk-estimator:hover label.sk-toggleable__label-arrow:before {color: black;}#sk-container-id-3 div.sk-toggleable__content {max-height: 0;max-width: 0;overflow: hidden;text-align: left;background-color: #f0f8ff;}#sk-container-id-3 div.sk-toggleable__content pre {margin: 0.2em;color: black;border-radius: 0.25em;background-color: #f0f8ff;}#sk-container-id-3 input.sk-toggleable__control:checked~div.sk-toggleable__content {max-height: 200px;max-width: 100%;overflow: auto;}#sk-container-id-3 input.sk-toggleable__control:checked~label.sk-toggleable__label-arrow:before {content: \"▾\";}#sk-container-id-3 div.sk-estimator input.sk-toggleable__control:checked~label.sk-toggleable__label {background-color: #d4ebff;}#sk-container-id-3 div.sk-label input.sk-toggleable__control:checked~label.sk-toggleable__label {background-color: #d4ebff;}#sk-container-id-3 input.sk-hidden--visually {border: 0;clip: rect(1px 1px 1px 1px);clip: rect(1px, 1px, 1px, 1px);height: 1px;margin: -1px;overflow: hidden;padding: 0;position: absolute;width: 1px;}#sk-container-id-3 div.sk-estimator {font-family: monospace;background-color: #f0f8ff;border: 1px dotted black;border-radius: 0.25em;box-sizing: border-box;margin-bottom: 0.5em;}#sk-container-id-3 div.sk-estimator:hover {background-color: #d4ebff;}#sk-container-id-3 div.sk-parallel-item::after {content: \"\";width: 100%;border-bottom: 1px solid gray;flex-grow: 1;}#sk-container-id-3 div.sk-label:hover label.sk-toggleable__label {background-color: #d4ebff;}#sk-container-id-3 div.sk-serial::before {content: \"\";position: absolute;border-left: 1px solid gray;box-sizing: border-box;top: 0;bottom: 0;left: 50%;z-index: 0;}#sk-container-id-3 div.sk-serial {display: flex;flex-direction: column;align-items: center;background-color: white;padding-right: 0.2em;padding-left: 0.2em;position: relative;}#sk-container-id-3 div.sk-item {position: relative;z-index: 1;}#sk-container-id-3 div.sk-parallel {display: flex;align-items: stretch;justify-content: center;background-color: white;position: relative;}#sk-container-id-3 div.sk-item::before, #sk-container-id-3 div.sk-parallel-item::before {content: \"\";position: absolute;border-left: 1px solid gray;box-sizing: border-box;top: 0;bottom: 0;left: 50%;z-index: -1;}#sk-container-id-3 div.sk-parallel-item {display: flex;flex-direction: column;z-index: 1;position: relative;background-color: white;}#sk-container-id-3 div.sk-parallel-item:first-child::after {align-self: flex-end;width: 50%;}#sk-container-id-3 div.sk-parallel-item:last-child::after {align-self: flex-start;width: 50%;}#sk-container-id-3 div.sk-parallel-item:only-child::after {width: 0;}#sk-container-id-3 div.sk-dashed-wrapped {border: 1px dashed gray;margin: 0 0.4em 0.5em 0.4em;box-sizing: border-box;padding-bottom: 0.4em;background-color: white;}#sk-container-id-3 div.sk-label label {font-family: monospace;font-weight: bold;display: inline-block;line-height: 1.2em;}#sk-container-id-3 div.sk-label-container {text-align: center;}#sk-container-id-3 div.sk-container {/* jupyter's `normalize.less` sets `[hidden] { display: none; }` but bootstrap.min.css set `[hidden] { display: none !important; }` so we also need the `!important` here to be able to override the default hidden behavior on the sphinx rendered scikit-learn.org. See: https://github.com/scikit-learn/scikit-learn/issues/21755 */display: inline-block !important;position: relative;}#sk-container-id-3 div.sk-text-repr-fallback {display: none;}</style><div id=\"sk-container-id-3\" class=\"sk-top-container\"><div class=\"sk-text-repr-fallback\"><pre>GaussianNB()</pre><b>In a Jupyter environment, please rerun this cell to show the HTML representation or trust the notebook. <br />On GitHub, the HTML representation is unable to render, please try loading this page with nbviewer.org.</b></div><div class=\"sk-container\" hidden><div class=\"sk-item\"><div class=\"sk-estimator sk-toggleable\"><input class=\"sk-toggleable__control sk-hidden--visually\" id=\"sk-estimator-id-3\" type=\"checkbox\" checked><label for=\"sk-estimator-id-3\" class=\"sk-toggleable__label sk-toggleable__label-arrow\">GaussianNB</label><div class=\"sk-toggleable__content\"><pre>GaussianNB()</pre></div></div></div></div></div>"
      ],
      "text/plain": [
       "GaussianNB()"
      ]
     },
     "execution_count": 273,
     "metadata": {},
     "output_type": "execute_result"
    }
   ],
   "source": [
    "gb.fit(x_train,y_train)"
   ]
  },
  {
   "cell_type": "code",
   "execution_count": 274,
   "id": "bc3e8c6e",
   "metadata": {},
   "outputs": [],
   "source": [
    "PREMB=gb.predict(x_test)"
   ]
  },
  {
   "cell_type": "markdown",
   "id": "a818127a",
   "metadata": {},
   "source": [
    "## MODEL ACCURACY"
   ]
  },
  {
   "cell_type": "code",
   "execution_count": 275,
   "id": "a9295b9f",
   "metadata": {},
   "outputs": [
    {
     "name": "stdout",
     "output_type": "stream",
     "text": [
      "0.8829787234042553\n"
     ]
    }
   ],
   "source": [
    "print(accuracy_score(y_test,PREMB))"
   ]
  },
  {
   "cell_type": "markdown",
   "id": "c1b90e81",
   "metadata": {},
   "source": [
    "## CONFUSION MATRIX"
   ]
  },
  {
   "cell_type": "code",
   "execution_count": 276,
   "id": "82317741",
   "metadata": {},
   "outputs": [
    {
     "name": "stdout",
     "output_type": "stream",
     "text": [
      "[[799 105]\n",
      " [ 16 114]]\n"
     ]
    }
   ],
   "source": [
    "print(confusion_matrix(y_test,PREMB))"
   ]
  },
  {
   "cell_type": "markdown",
   "id": "6e4fbc6e",
   "metadata": {},
   "source": [
    "## CLASSIFICATION REPORT"
   ]
  },
  {
   "cell_type": "code",
   "execution_count": 277,
   "id": "d343e428",
   "metadata": {},
   "outputs": [
    {
     "name": "stdout",
     "output_type": "stream",
     "text": [
      "              precision    recall  f1-score   support\n",
      "\n",
      "           0       0.98      0.88      0.93       904\n",
      "           1       0.52      0.88      0.65       130\n",
      "\n",
      "    accuracy                           0.88      1034\n",
      "   macro avg       0.75      0.88      0.79      1034\n",
      "weighted avg       0.92      0.88      0.89      1034\n",
      "\n"
     ]
    }
   ],
   "source": [
    "print(classification_report(y_test,PREMB))"
   ]
  },
  {
   "cell_type": "markdown",
   "id": "3651fe07",
   "metadata": {},
   "source": [
    "## AUC ROC CURVE"
   ]
  },
  {
   "cell_type": "code",
   "execution_count": 280,
   "id": "4f4b3be8",
   "metadata": {},
   "outputs": [],
   "source": [
    "y_pred_prob3=gb.predict_proba(x_test)[:,1]"
   ]
  },
  {
   "cell_type": "code",
   "execution_count": 281,
   "id": "de3a442b",
   "metadata": {},
   "outputs": [
    {
     "data": {
      "text/plain": [
       "array([0., 1., 1., ..., 0., 1., 0.])"
      ]
     },
     "execution_count": 281,
     "metadata": {},
     "output_type": "execute_result"
    }
   ],
   "source": [
    "y_pred_prob3"
   ]
  },
  {
   "cell_type": "code",
   "execution_count": 282,
   "id": "218a9547",
   "metadata": {},
   "outputs": [],
   "source": [
    "tpr,fpr,thresholds=roc_curve(y_test,y_pred_prob3)"
   ]
  },
  {
   "cell_type": "code",
   "execution_count": 283,
   "id": "6a65638d",
   "metadata": {},
   "outputs": [
    {
     "data": {
      "text/plain": [
       "array([0.        , 0.11615044, 1.        ])"
      ]
     },
     "execution_count": 283,
     "metadata": {},
     "output_type": "execute_result"
    }
   ],
   "source": [
    "tpr"
   ]
  },
  {
   "cell_type": "code",
   "execution_count": 284,
   "id": "8c7a33f5",
   "metadata": {},
   "outputs": [
    {
     "data": {
      "text/plain": [
       "array([0.        , 0.87692308, 1.        ])"
      ]
     },
     "execution_count": 284,
     "metadata": {},
     "output_type": "execute_result"
    }
   ],
   "source": [
    "fpr"
   ]
  },
  {
   "cell_type": "code",
   "execution_count": 285,
   "id": "d49fbda5",
   "metadata": {},
   "outputs": [
    {
     "data": {
      "text/plain": [
       "array([2., 1., 0.])"
      ]
     },
     "execution_count": 285,
     "metadata": {},
     "output_type": "execute_result"
    }
   ],
   "source": [
    "thresholds"
   ]
  },
  {
   "cell_type": "code",
   "execution_count": 286,
   "id": "a3a4375b",
   "metadata": {},
   "outputs": [
    {
     "data": {
      "image/png": "[encoded data removed]",
      "text/plain": [
       "<Figure size 432x288 with 1 Axes>"
      ]
     },
     "metadata": {
      "needs_background": "light"
     },
     "output_type": "display_data"
    }
   ],
   "source": [
    "plt.plot([0,1],[0,1],'k--')\n",
    "plt.plot(tpr,fpr,label='GB')\n",
    "plt.xlabel('FALSE_POSITIVE_RATE')\n",
    "plt.ylabel('TRUE_POSITIVE_RATE')\n",
    "plt.title('GB_CLASSIFIER')\n",
    "plt.show()"
   ]
  },
  {
   "cell_type": "code",
   "execution_count": 287,
   "id": "b43eb0e7",
   "metadata": {},
   "outputs": [
    {
     "data": {
      "text/plain": [
       "0.8803863172226004"
      ]
     },
     "execution_count": 287,
     "metadata": {},
     "output_type": "execute_result"
    }
   ],
   "source": [
    "auc_score=roc_auc_score(y_test,(gb.predict(x_test)))\n",
    "auc_score"
   ]
  },
  {
   "cell_type": "markdown",
   "id": "3d63e948",
   "metadata": {},
   "source": [
    "## RANDOM FOREST CLASSIFIER "
   ]
  },
  {
   "cell_type": "code",
   "execution_count": 289,
   "id": "5229111f",
   "metadata": {},
   "outputs": [],
   "source": [
    "rm=RandomForestClassifier()"
   ]
  },
  {
   "cell_type": "code",
   "execution_count": 290,
   "id": "ae0f4fe3",
   "metadata": {},
   "outputs": [
    {
     "name": "stdout",
     "output_type": "stream",
     "text": [
      "At random_state {0} the training accuracy test is 0.9992744860943168\n",
      "At random_state {0} the testing accuracy test is 0.9758220502901354\n",
      "\n",
      "\n",
      "At random_state {1} the training accuracy test is 0.9995163240628778\n",
      "At random_state {1} the testing accuracy test is 0.9680851063829787\n",
      "\n",
      "\n",
      "At random_state {2} the training accuracy test is 0.999758162031439\n",
      "At random_state {2} the testing accuracy test is 0.9758220502901354\n",
      "\n",
      "\n",
      "At random_state {3} the training accuracy test is 0.9995163240628778\n",
      "At random_state {3} the testing accuracy test is 0.9680851063829787\n",
      "\n",
      "\n",
      "At random_state {4} the training accuracy test is 0.9992744860943168\n",
      "At random_state {4} the testing accuracy test is 0.9729206963249516\n",
      "\n",
      "\n",
      "At random_state {5} the training accuracy test is 0.9992744860943168\n",
      "At random_state {5} the testing accuracy test is 0.9729206963249516\n",
      "\n",
      "\n",
      "At random_state {6} the training accuracy test is 0.9995163240628778\n",
      "At random_state {6} the testing accuracy test is 0.9758220502901354\n",
      "\n",
      "\n",
      "At random_state {7} the training accuracy test is 0.9995163240628778\n",
      "At random_state {7} the testing accuracy test is 0.9700193423597679\n",
      "\n",
      "\n",
      "At random_state {8} the training accuracy test is 0.9992744860943168\n",
      "At random_state {8} the testing accuracy test is 0.9700193423597679\n",
      "\n",
      "\n",
      "At random_state {9} the training accuracy test is 0.9992744860943168\n",
      "At random_state {9} the testing accuracy test is 0.971953578336557\n",
      "\n",
      "\n",
      "At random_state {10} the training accuracy test is 0.9992744860943168\n",
      "At random_state {10} the testing accuracy test is 0.971953578336557\n",
      "\n",
      "\n",
      "At random_state {11} the training accuracy test is 0.9992744860943168\n",
      "At random_state {11} the testing accuracy test is 0.9709864603481625\n",
      "\n",
      "\n",
      "At random_state {12} the training accuracy test is 0.9992744860943168\n",
      "At random_state {12} the testing accuracy test is 0.9738878143133463\n",
      "\n",
      "\n",
      "At random_state {13} the training accuracy test is 0.999758162031439\n",
      "At random_state {13} the testing accuracy test is 0.971953578336557\n",
      "\n",
      "\n",
      "At random_state {14} the training accuracy test is 0.9992744860943168\n",
      "At random_state {14} the testing accuracy test is 0.9835589941972921\n",
      "\n",
      "\n",
      "At random_state {15} the training accuracy test is 0.9992744860943168\n",
      "At random_state {15} the testing accuracy test is 0.9738878143133463\n",
      "\n",
      "\n",
      "At random_state {16} the training accuracy test is 0.9995163240628778\n",
      "At random_state {16} the testing accuracy test is 0.9709864603481625\n",
      "\n",
      "\n",
      "At random_state {17} the training accuracy test is 0.999758162031439\n",
      "At random_state {17} the testing accuracy test is 0.97678916827853\n",
      "\n",
      "\n",
      "At random_state {18} the training accuracy test is 0.9992744860943168\n",
      "At random_state {18} the testing accuracy test is 0.9700193423597679\n",
      "\n",
      "\n",
      "At random_state {19} the training accuracy test is 0.9992744860943168\n",
      "At random_state {19} the testing accuracy test is 0.9758220502901354\n",
      "\n",
      "\n",
      "At random_state {20} the training accuracy test is 0.9992744860943168\n",
      "At random_state {20} the testing accuracy test is 0.9729206963249516\n",
      "\n",
      "\n",
      "At random_state {21} the training accuracy test is 0.9995163240628778\n",
      "At random_state {21} the testing accuracy test is 0.9690522243713733\n",
      "\n",
      "\n",
      "At random_state {22} the training accuracy test is 0.999758162031439\n",
      "At random_state {22} the testing accuracy test is 0.9729206963249516\n",
      "\n",
      "\n",
      "At random_state {23} the training accuracy test is 0.9992744860943168\n",
      "At random_state {23} the testing accuracy test is 0.9796905222437138\n",
      "\n",
      "\n",
      "At random_state {24} the training accuracy test is 0.9992744860943168\n",
      "At random_state {24} the testing accuracy test is 0.9816247582205029\n",
      "\n",
      "\n",
      "At random_state {25} the training accuracy test is 0.9995163240628778\n",
      "At random_state {25} the testing accuracy test is 0.9700193423597679\n",
      "\n",
      "\n",
      "At random_state {26} the training accuracy test is 0.9995163240628778\n",
      "At random_state {26} the testing accuracy test is 0.9796905222437138\n",
      "\n",
      "\n",
      "At random_state {27} the training accuracy test is 0.9992744860943168\n",
      "At random_state {27} the testing accuracy test is 0.9729206963249516\n",
      "\n",
      "\n",
      "At random_state {28} the training accuracy test is 0.9992744860943168\n",
      "At random_state {28} the testing accuracy test is 0.9748549323017408\n",
      "\n",
      "\n",
      "At random_state {29} the training accuracy test is 0.9992744860943168\n",
      "At random_state {29} the testing accuracy test is 0.9680851063829787\n",
      "\n",
      "\n",
      "At random_state {30} the training accuracy test is 0.9995163240628778\n",
      "At random_state {30} the testing accuracy test is 0.9661508704061895\n",
      "\n",
      "\n",
      "At random_state {31} the training accuracy test is 0.9995163240628778\n",
      "At random_state {31} the testing accuracy test is 0.9777562862669246\n",
      "\n",
      "\n",
      "At random_state {32} the training accuracy test is 0.9995163240628778\n",
      "At random_state {32} the testing accuracy test is 0.9738878143133463\n",
      "\n",
      "\n",
      "At random_state {33} the training accuracy test is 0.999758162031439\n",
      "At random_state {33} the testing accuracy test is 0.9787234042553191\n",
      "\n",
      "\n",
      "At random_state {34} the training accuracy test is 0.9995163240628778\n",
      "At random_state {34} the testing accuracy test is 0.9700193423597679\n",
      "\n",
      "\n",
      "At random_state {35} the training accuracy test is 0.9992744860943168\n",
      "At random_state {35} the testing accuracy test is 0.9758220502901354\n",
      "\n",
      "\n",
      "At random_state {36} the training accuracy test is 0.9995163240628778\n",
      "At random_state {36} the testing accuracy test is 0.9806576402321083\n",
      "\n",
      "\n",
      "At random_state {37} the training accuracy test is 0.9995163240628778\n",
      "At random_state {37} the testing accuracy test is 0.9671179883945842\n",
      "\n",
      "\n",
      "At random_state {38} the training accuracy test is 0.9992744860943168\n",
      "At random_state {38} the testing accuracy test is 0.971953578336557\n",
      "\n",
      "\n",
      "At random_state {39} the training accuracy test is 0.9995163240628778\n",
      "At random_state {39} the testing accuracy test is 0.9729206963249516\n",
      "\n",
      "\n",
      "At random_state {40} the training accuracy test is 0.9992744860943168\n",
      "At random_state {40} the testing accuracy test is 0.97678916827853\n",
      "\n",
      "\n",
      "At random_state {41} the training accuracy test is 0.9992744860943168\n",
      "At random_state {41} the testing accuracy test is 0.9661508704061895\n",
      "\n",
      "\n",
      "At random_state {42} the training accuracy test is 0.9995163240628778\n",
      "At random_state {42} the testing accuracy test is 0.9709864603481625\n",
      "\n",
      "\n",
      "At random_state {43} the training accuracy test is 0.9995163240628778\n",
      "At random_state {43} the testing accuracy test is 0.9661508704061895\n",
      "\n",
      "\n",
      "At random_state {44} the training accuracy test is 0.9995163240628778\n",
      "At random_state {44} the testing accuracy test is 0.9758220502901354\n",
      "\n",
      "\n",
      "At random_state {45} the training accuracy test is 0.9995163240628778\n",
      "At random_state {45} the testing accuracy test is 0.971953578336557\n",
      "\n",
      "\n",
      "At random_state {46} the training accuracy test is 0.999758162031439\n",
      "At random_state {46} the testing accuracy test is 0.9690522243713733\n",
      "\n",
      "\n",
      "At random_state {47} the training accuracy test is 0.9995163240628778\n",
      "At random_state {47} the testing accuracy test is 0.9806576402321083\n",
      "\n",
      "\n",
      "At random_state {48} the training accuracy test is 0.9995163240628778\n",
      "At random_state {48} the testing accuracy test is 0.9709864603481625\n",
      "\n",
      "\n",
      "At random_state {49} the training accuracy test is 0.9995163240628778\n",
      "At random_state {49} the testing accuracy test is 0.9700193423597679\n",
      "\n",
      "\n",
      "At random_state {50} the training accuracy test is 0.9992744860943168\n",
      "At random_state {50} the testing accuracy test is 0.9748549323017408\n",
      "\n",
      "\n",
      "At random_state {51} the training accuracy test is 0.9992744860943168\n",
      "At random_state {51} the testing accuracy test is 0.9748549323017408\n",
      "\n",
      "\n",
      "At random_state {52} the training accuracy test is 0.9995163240628778\n",
      "At random_state {52} the testing accuracy test is 0.97678916827853\n",
      "\n",
      "\n",
      "At random_state {53} the training accuracy test is 0.9995163240628778\n",
      "At random_state {53} the testing accuracy test is 0.9729206963249516\n",
      "\n",
      "\n",
      "At random_state {54} the training accuracy test is 0.9995163240628778\n",
      "At random_state {54} the testing accuracy test is 0.9738878143133463\n",
      "\n",
      "\n",
      "At random_state {55} the training accuracy test is 0.9995163240628778\n",
      "At random_state {55} the testing accuracy test is 0.9671179883945842\n",
      "\n",
      "\n",
      "At random_state {56} the training accuracy test is 0.9995163240628778\n",
      "At random_state {56} the testing accuracy test is 0.9748549323017408\n",
      "\n",
      "\n",
      "At random_state {57} the training accuracy test is 0.9992744860943168\n",
      "At random_state {57} the testing accuracy test is 0.9738878143133463\n",
      "\n",
      "\n",
      "At random_state {58} the training accuracy test is 0.999758162031439\n",
      "At random_state {58} the testing accuracy test is 0.9671179883945842\n",
      "\n",
      "\n",
      "At random_state {59} the training accuracy test is 0.9992744860943168\n",
      "At random_state {59} the testing accuracy test is 0.9787234042553191\n",
      "\n",
      "\n",
      "At random_state {60} the training accuracy test is 0.9995163240628778\n",
      "At random_state {60} the testing accuracy test is 0.9700193423597679\n",
      "\n",
      "\n",
      "At random_state {61} the training accuracy test is 0.9995163240628778\n",
      "At random_state {61} the testing accuracy test is 0.9738878143133463\n",
      "\n",
      "\n",
      "At random_state {62} the training accuracy test is 0.9995163240628778\n",
      "At random_state {62} the testing accuracy test is 0.9680851063829787\n",
      "\n",
      "\n",
      "At random_state {63} the training accuracy test is 0.9995163240628778\n",
      "At random_state {63} the testing accuracy test is 0.9748549323017408\n",
      "\n",
      "\n",
      "At random_state {64} the training accuracy test is 0.9995163240628778\n",
      "At random_state {64} the testing accuracy test is 0.9748549323017408\n",
      "\n",
      "\n",
      "At random_state {65} the training accuracy test is 0.9992744860943168\n",
      "At random_state {65} the testing accuracy test is 0.971953578336557\n",
      "\n",
      "\n",
      "At random_state {66} the training accuracy test is 0.9995163240628778\n",
      "At random_state {66} the testing accuracy test is 0.9738878143133463\n",
      "\n",
      "\n",
      "At random_state {67} the training accuracy test is 0.999758162031439\n",
      "At random_state {67} the testing accuracy test is 0.9709864603481625\n",
      "\n",
      "\n",
      "At random_state {68} the training accuracy test is 0.9995163240628778\n",
      "At random_state {68} the testing accuracy test is 0.965183752417795\n",
      "\n",
      "\n",
      "At random_state {69} the training accuracy test is 0.9995163240628778\n",
      "At random_state {69} the testing accuracy test is 0.9709864603481625\n",
      "\n",
      "\n",
      "At random_state {70} the training accuracy test is 0.9992744860943168\n",
      "At random_state {70} the testing accuracy test is 0.9787234042553191\n",
      "\n",
      "\n",
      "At random_state {71} the training accuracy test is 1.0\n",
      "At random_state {71} the testing accuracy test is 0.9729206963249516\n",
      "\n",
      "\n",
      "At random_state {72} the training accuracy test is 0.9995163240628778\n",
      "At random_state {72} the testing accuracy test is 0.971953578336557\n",
      "\n",
      "\n",
      "At random_state {73} the training accuracy test is 0.9992744860943168\n",
      "At random_state {73} the testing accuracy test is 0.9806576402321083\n",
      "\n",
      "\n",
      "At random_state {74} the training accuracy test is 0.9995163240628778\n",
      "At random_state {74} the testing accuracy test is 0.9729206963249516\n",
      "\n",
      "\n",
      "At random_state {75} the training accuracy test is 0.9995163240628778\n",
      "At random_state {75} the testing accuracy test is 0.9709864603481625\n",
      "\n",
      "\n",
      "At random_state {76} the training accuracy test is 1.0\n",
      "At random_state {76} the testing accuracy test is 0.9709864603481625\n",
      "\n",
      "\n",
      "At random_state {77} the training accuracy test is 0.9992744860943168\n",
      "At random_state {77} the testing accuracy test is 0.9700193423597679\n",
      "\n",
      "\n",
      "At random_state {78} the training accuracy test is 0.9992744860943168\n",
      "At random_state {78} the testing accuracy test is 0.9729206963249516\n",
      "\n",
      "\n",
      "At random_state {79} the training accuracy test is 0.9992744860943168\n",
      "At random_state {79} the testing accuracy test is 0.971953578336557\n",
      "\n",
      "\n",
      "At random_state {80} the training accuracy test is 0.9992744860943168\n",
      "At random_state {80} the testing accuracy test is 0.9787234042553191\n",
      "\n",
      "\n",
      "At random_state {81} the training accuracy test is 0.9992744860943168\n",
      "At random_state {81} the testing accuracy test is 0.9671179883945842\n",
      "\n",
      "\n",
      "At random_state {82} the training accuracy test is 1.0\n",
      "At random_state {82} the testing accuracy test is 0.9729206963249516\n",
      "\n",
      "\n",
      "At random_state {83} the training accuracy test is 0.999758162031439\n",
      "At random_state {83} the testing accuracy test is 0.9700193423597679\n",
      "\n",
      "\n",
      "At random_state {84} the training accuracy test is 0.9992744860943168\n",
      "At random_state {84} the testing accuracy test is 0.9787234042553191\n",
      "\n",
      "\n",
      "At random_state {85} the training accuracy test is 0.9995163240628778\n",
      "At random_state {85} the testing accuracy test is 0.965183752417795\n",
      "\n",
      "\n",
      "At random_state {86} the training accuracy test is 0.9995163240628778\n",
      "At random_state {86} the testing accuracy test is 0.9671179883945842\n",
      "\n",
      "\n",
      "At random_state {87} the training accuracy test is 0.9995163240628778\n",
      "At random_state {87} the testing accuracy test is 0.9748549323017408\n",
      "\n",
      "\n",
      "At random_state {88} the training accuracy test is 0.9992744860943168\n",
      "At random_state {88} the testing accuracy test is 0.960348162475822\n",
      "\n",
      "\n",
      "At random_state {89} the training accuracy test is 0.999758162031439\n",
      "At random_state {89} the testing accuracy test is 0.9700193423597679\n",
      "\n",
      "\n",
      "At random_state {90} the training accuracy test is 0.9995163240628778\n",
      "At random_state {90} the testing accuracy test is 0.9642166344294004\n",
      "\n",
      "\n",
      "At random_state {91} the training accuracy test is 0.9992744860943168\n",
      "At random_state {91} the testing accuracy test is 0.9748549323017408\n",
      "\n",
      "\n",
      "At random_state {92} the training accuracy test is 0.9995163240628778\n",
      "At random_state {92} the testing accuracy test is 0.9777562862669246\n",
      "\n",
      "\n",
      "At random_state {93} the training accuracy test is 0.999758162031439\n",
      "At random_state {93} the testing accuracy test is 0.9700193423597679\n",
      "\n",
      "\n",
      "At random_state {94} the training accuracy test is 0.9995163240628778\n",
      "At random_state {94} the testing accuracy test is 0.9729206963249516\n",
      "\n",
      "\n",
      "At random_state {95} the training accuracy test is 0.9992744860943168\n",
      "At random_state {95} the testing accuracy test is 0.9729206963249516\n",
      "\n",
      "\n",
      "At random_state {96} the training accuracy test is 0.9992744860943168\n",
      "At random_state {96} the testing accuracy test is 0.9729206963249516\n",
      "\n",
      "\n",
      "At random_state {97} the training accuracy test is 0.9995163240628778\n",
      "At random_state {97} the testing accuracy test is 0.9748549323017408\n",
      "\n",
      "\n",
      "At random_state {98} the training accuracy test is 0.9992744860943168\n",
      "At random_state {98} the testing accuracy test is 0.97678916827853\n",
      "\n",
      "\n",
      "At random_state {99} the training accuracy test is 0.9995163240628778\n",
      "At random_state {99} the testing accuracy test is 0.9787234042553191\n",
      "\n",
      "\n"
     ]
    }
   ],
   "source": [
    "for i in range(0,100):\n",
    "    x_train,x_test,y_train,y_test=train_test_split(X,Y,test_size=0.20,random_state=i)\n",
    "    rm.fit(x_train,y_train)\n",
    "    predrm=rm.predict(x_train)\n",
    "    predrm1=rm.predict(x_test)\n",
    "    print('At random_state' ,{i}, 'the training accuracy test is', accuracy_score(y_train,predrm))\n",
    "    print('At random_state' ,{i}, 'the testing accuracy test is', accuracy_score(y_test,predrm1))\n",
    "    print('\\n')"
   ]
  },
  {
   "cell_type": "markdown",
   "id": "c09ae9bc",
   "metadata": {},
   "source": [
    "## AT RANDOM STATE 24 WE HAVE THE HIGHEST ACCURACY 98.16%"
   ]
  },
  {
   "cell_type": "code",
   "execution_count": 291,
   "id": "14afdc19",
   "metadata": {},
   "outputs": [],
   "source": [
    "x_train,x_test,y_train,y_test=train_test_split(X,Y,test_size=0.20,random_state=24)"
   ]
  },
  {
   "cell_type": "code",
   "execution_count": 292,
   "id": "098025e2",
   "metadata": {},
   "outputs": [
    {
     "data": {
      "text/html": [
       "<style>#sk-container-id-4 {color: black;background-color: white;}#sk-container-id-4 pre{padding: 0;}#sk-container-id-4 div.sk-toggleable {background-color: white;}#sk-container-id-4 label.sk-toggleable__label {cursor: pointer;display: block;width: 100%;margin-bottom: 0;padding: 0.3em;box-sizing: border-box;text-align: center;}#sk-container-id-4 label.sk-toggleable__label-arrow:before {content: \"▸\";float: left;margin-right: 0.25em;color: #696969;}#sk-container-id-4 label.sk-toggleable__label-arrow:hover:before {color: black;}#sk-container-id-4 div.sk-estimator:hover label.sk-toggleable__label-arrow:before {color: black;}#sk-container-id-4 div.sk-toggleable__content {max-height: 0;max-width: 0;overflow: hidden;text-align: left;background-color: #f0f8ff;}#sk-container-id-4 div.sk-toggleable__content pre {margin: 0.2em;color: black;border-radius: 0.25em;background-color: #f0f8ff;}#sk-container-id-4 input.sk-toggleable__control:checked~div.sk-toggleable__content {max-height: 200px;max-width: 100%;overflow: auto;}#sk-container-id-4 input.sk-toggleable__control:checked~label.sk-toggleable__label-arrow:before {content: \"▾\";}#sk-container-id-4 div.sk-estimator input.sk-toggleable__control:checked~label.sk-toggleable__label {background-color: #d4ebff;}#sk-container-id-4 div.sk-label input.sk-toggleable__control:checked~label.sk-toggleable__label {background-color: #d4ebff;}#sk-container-id-4 input.sk-hidden--visually {border: 0;clip: rect(1px 1px 1px 1px);clip: rect(1px, 1px, 1px, 1px);height: 1px;margin: -1px;overflow: hidden;padding: 0;position: absolute;width: 1px;}#sk-container-id-4 div.sk-estimator {font-family: monospace;background-color: #f0f8ff;border: 1px dotted black;border-radius: 0.25em;box-sizing: border-box;margin-bottom: 0.5em;}#sk-container-id-4 div.sk-estimator:hover {background-color: #d4ebff;}#sk-container-id-4 div.sk-parallel-item::after {content: \"\";width: 100%;border-bottom: 1px solid gray;flex-grow: 1;}#sk-container-id-4 div.sk-label:hover label.sk-toggleable__label {background-color: #d4ebff;}#sk-container-id-4 div.sk-serial::before {content: \"\";position: absolute;border-left: 1px solid gray;box-sizing: border-box;top: 0;bottom: 0;left: 50%;z-index: 0;}#sk-container-id-4 div.sk-serial {display: flex;flex-direction: column;align-items: center;background-color: white;padding-right: 0.2em;padding-left: 0.2em;position: relative;}#sk-container-id-4 div.sk-item {position: relative;z-index: 1;}#sk-container-id-4 div.sk-parallel {display: flex;align-items: stretch;justify-content: center;background-color: white;position: relative;}#sk-container-id-4 div.sk-item::before, #sk-container-id-4 div.sk-parallel-item::before {content: \"\";position: absolute;border-left: 1px solid gray;box-sizing: border-box;top: 0;bottom: 0;left: 50%;z-index: -1;}#sk-container-id-4 div.sk-parallel-item {display: flex;flex-direction: column;z-index: 1;position: relative;background-color: white;}#sk-container-id-4 div.sk-parallel-item:first-child::after {align-self: flex-end;width: 50%;}#sk-container-id-4 div.sk-parallel-item:last-child::after {align-self: flex-start;width: 50%;}#sk-container-id-4 div.sk-parallel-item:only-child::after {width: 0;}#sk-container-id-4 div.sk-dashed-wrapped {border: 1px dashed gray;margin: 0 0.4em 0.5em 0.4em;box-sizing: border-box;padding-bottom: 0.4em;background-color: white;}#sk-container-id-4 div.sk-label label {font-family: monospace;font-weight: bold;display: inline-block;line-height: 1.2em;}#sk-container-id-4 div.sk-label-container {text-align: center;}#sk-container-id-4 div.sk-container {/* jupyter's `normalize.less` sets `[hidden] { display: none; }` but bootstrap.min.css set `[hidden] { display: none !important; }` so we also need the `!important` here to be able to override the default hidden behavior on the sphinx rendered scikit-learn.org. See: https://github.com/scikit-learn/scikit-learn/issues/21755 */display: inline-block !important;position: relative;}#sk-container-id-4 div.sk-text-repr-fallback {display: none;}</style><div id=\"sk-container-id-4\" class=\"sk-top-container\"><div class=\"sk-text-repr-fallback\"><pre>RandomForestClassifier()</pre><b>In a Jupyter environment, please rerun this cell to show the HTML representation or trust the notebook. <br />On GitHub, the HTML representation is unable to render, please try loading this page with nbviewer.org.</b></div><div class=\"sk-container\" hidden><div class=\"sk-item\"><div class=\"sk-estimator sk-toggleable\"><input class=\"sk-toggleable__control sk-hidden--visually\" id=\"sk-estimator-id-4\" type=\"checkbox\" checked><label for=\"sk-estimator-id-4\" class=\"sk-toggleable__label sk-toggleable__label-arrow\">RandomForestClassifier</label><div class=\"sk-toggleable__content\"><pre>RandomForestClassifier()</pre></div></div></div></div></div>"
      ],
      "text/plain": [
       "RandomForestClassifier()"
      ]
     },
     "execution_count": 292,
     "metadata": {},
     "output_type": "execute_result"
    }
   ],
   "source": [
    "rm.fit(x_train,y_train)"
   ]
  },
  {
   "cell_type": "code",
   "execution_count": 293,
   "id": "8d51e841",
   "metadata": {},
   "outputs": [],
   "source": [
    "PRERM=rm.predict(x_test)"
   ]
  },
  {
   "cell_type": "markdown",
   "id": "2f0f0e8d",
   "metadata": {},
   "source": [
    "## MODEL ACCURACY"
   ]
  },
  {
   "cell_type": "code",
   "execution_count": 294,
   "id": "251e8793",
   "metadata": {},
   "outputs": [
    {
     "name": "stdout",
     "output_type": "stream",
     "text": [
      "0.9825918762088974\n"
     ]
    }
   ],
   "source": [
    "print(accuracy_score(y_test,PRERM))"
   ]
  },
  {
   "cell_type": "markdown",
   "id": "29208e43",
   "metadata": {},
   "source": [
    "## CONFUSION MATRIX"
   ]
  },
  {
   "cell_type": "code",
   "execution_count": 295,
   "id": "773b08c4",
   "metadata": {},
   "outputs": [
    {
     "name": "stdout",
     "output_type": "stream",
     "text": [
      "[[918   3]\n",
      " [ 15  98]]\n"
     ]
    }
   ],
   "source": [
    "print(confusion_matrix(y_test,PRERM))"
   ]
  },
  {
   "cell_type": "markdown",
   "id": "c5e1a272",
   "metadata": {},
   "source": [
    "## CLASSIFICATION REPORT"
   ]
  },
  {
   "cell_type": "code",
   "execution_count": 296,
   "id": "798cfe3d",
   "metadata": {},
   "outputs": [
    {
     "name": "stdout",
     "output_type": "stream",
     "text": [
      "              precision    recall  f1-score   support\n",
      "\n",
      "           0       0.98      1.00      0.99       921\n",
      "           1       0.97      0.87      0.92       113\n",
      "\n",
      "    accuracy                           0.98      1034\n",
      "   macro avg       0.98      0.93      0.95      1034\n",
      "weighted avg       0.98      0.98      0.98      1034\n",
      "\n"
     ]
    }
   ],
   "source": [
    "print(classification_report(y_test,PRERM))"
   ]
  },
  {
   "cell_type": "markdown",
   "id": "83474315",
   "metadata": {},
   "source": [
    "## AUC ROC CURVE"
   ]
  },
  {
   "cell_type": "code",
   "execution_count": 298,
   "id": "d49b907f",
   "metadata": {},
   "outputs": [],
   "source": [
    "y_pred_prob4=rm.predict_proba(x_test)[:,1]"
   ]
  },
  {
   "cell_type": "code",
   "execution_count": 299,
   "id": "6f0e1dd9",
   "metadata": {},
   "outputs": [
    {
     "data": {
      "text/plain": [
       "array([0.01      , 0.        , 0.02      , ..., 0.09592968, 0.        ,\n",
       "       0.01354059])"
      ]
     },
     "execution_count": 299,
     "metadata": {},
     "output_type": "execute_result"
    }
   ],
   "source": [
    "y_pred_prob4"
   ]
  },
  {
   "cell_type": "code",
   "execution_count": 300,
   "id": "d0fc837e",
   "metadata": {},
   "outputs": [],
   "source": [
    "tpr,fpr,thresholds=roc_curve(y_test,y_pred_prob4)"
   ]
  },
  {
   "cell_type": "code",
   "execution_count": 301,
   "id": "14fdad07",
   "metadata": {},
   "outputs": [
    {
     "data": {
      "text/plain": [
       "array([0.        , 0.        , 0.        , 0.        , 0.        ,\n",
       "       0.        , 0.        , 0.        , 0.        , 0.        ,\n",
       "       0.        , 0.        , 0.        , 0.        , 0.        ,\n",
       "       0.        , 0.        , 0.        , 0.        , 0.        ,\n",
       "       0.00108578, 0.00108578, 0.00108578, 0.00217155, 0.00217155,\n",
       "       0.00325733, 0.00325733, 0.00542888, 0.00760043, 0.00760043,\n",
       "       0.01194354, 0.01194354, 0.01520087, 0.01737242, 0.01737242,\n",
       "       0.02062975, 0.02062975, 0.0228013 , 0.02605863, 0.02714441,\n",
       "       0.03365907, 0.03583062, 0.03908795, 0.04234528, 0.04234528,\n",
       "       0.04343105, 0.04560261, 0.04668838, 0.05211726, 0.05537459,\n",
       "       0.05754615, 0.05863192, 0.06297503, 0.06731813, 0.07274701,\n",
       "       0.07491857, 0.08034745, 0.09011944, 0.09337676, 0.09989142,\n",
       "       0.10966341, 0.11834962, 0.12269273, 0.12920738, 0.13246471,\n",
       "       0.14332248, 0.15418024, 0.15418024, 0.165038  , 0.165038  ,\n",
       "       0.17480999, 0.18458198, 0.19652552, 0.20521173, 0.22258415,\n",
       "       0.24212812, 0.25841477, 0.28121607, 0.28773073, 0.28990228,\n",
       "       0.3029316 , 0.33984799, 0.3669924 , 0.40716612, 0.41259501,\n",
       "       0.41476656, 0.43756786, 0.43973941, 0.44082519, 0.44082519,\n",
       "       0.44299674, 0.49945711, 0.50162866, 0.54397394, 0.54614549,\n",
       "       0.54940282, 0.55157438, 0.57111835, 0.5732899 , 0.58523344,\n",
       "       0.58957655, 0.59391965, 0.59717698, 0.59826276, 0.60152009,\n",
       "       0.60260586, 0.60477742, 0.60586319, 0.60803474, 0.6145494 ,\n",
       "       0.61672096, 0.61780673, 0.61997828, 0.62540717, 0.62975027,\n",
       "       0.6330076 , 0.63517915, 1.        ])"
      ]
     },
     "execution_count": 301,
     "metadata": {},
     "output_type": "execute_result"
    }
   ],
   "source": [
    "tpr"
   ]
  },
  {
   "cell_type": "code",
   "execution_count": 302,
   "id": "29412a8d",
   "metadata": {},
   "outputs": [
    {
     "data": {
      "text/plain": [
       "array([0.        , 0.08849558, 0.16814159, 0.18584071, 0.21238938,\n",
       "       0.22123894, 0.26548673, 0.2920354 , 0.30088496, 0.34513274,\n",
       "       0.3539823 , 0.39823009, 0.43362832, 0.45132743, 0.47787611,\n",
       "       0.53982301, 0.59292035, 0.69026549, 0.7079646 , 0.72566372,\n",
       "       0.72566372, 0.74336283, 0.82300885, 0.84955752, 0.85840708,\n",
       "       0.85840708, 0.89380531, 0.89380531, 0.89380531, 0.90265487,\n",
       "       0.90265487, 0.92035398, 0.92035398, 0.92920354, 0.9380531 ,\n",
       "       0.9380531 , 0.94690265, 0.94690265, 0.94690265, 0.94690265,\n",
       "       0.94690265, 0.94690265, 0.94690265, 0.94690265, 0.95575221,\n",
       "       0.95575221, 0.95575221, 0.95575221, 0.95575221, 0.95575221,\n",
       "       0.95575221, 0.95575221, 0.95575221, 0.96460177, 0.96460177,\n",
       "       0.96460177, 0.96460177, 0.96460177, 0.96460177, 0.96460177,\n",
       "       0.96460177, 0.96460177, 0.96460177, 0.96460177, 0.96460177,\n",
       "       0.97345133, 0.97345133, 0.98230088, 0.98230088, 0.99115044,\n",
       "       0.99115044, 0.99115044, 0.99115044, 0.99115044, 0.99115044,\n",
       "       0.99115044, 0.99115044, 0.99115044, 0.99115044, 0.99115044,\n",
       "       0.99115044, 0.99115044, 0.99115044, 0.99115044, 0.99115044,\n",
       "       0.99115044, 0.99115044, 0.99115044, 0.99115044, 1.        ,\n",
       "       1.        , 1.        , 1.        , 1.        , 1.        ,\n",
       "       1.        , 1.        , 1.        , 1.        , 1.        ,\n",
       "       1.        , 1.        , 1.        , 1.        , 1.        ,\n",
       "       1.        , 1.        , 1.        , 1.        , 1.        ,\n",
       "       1.        , 1.        , 1.        , 1.        , 1.        ,\n",
       "       1.        , 1.        , 1.        ])"
      ]
     },
     "execution_count": 302,
     "metadata": {},
     "output_type": "execute_result"
    }
   ],
   "source": [
    "fpr"
   ]
  },
  {
   "cell_type": "code",
   "execution_count": 303,
   "id": "bd7fa3ba",
   "metadata": {},
   "outputs": [
    {
     "data": {
      "text/plain": [
       "array([2.00000000e+00, 1.00000000e+00, 9.90000000e-01, 9.80000000e-01,\n",
       "       9.70000000e-01, 9.60666667e-01, 9.60000000e-01, 9.50000000e-01,\n",
       "       9.40400000e-01, 9.40000000e-01, 9.20000000e-01, 9.10000000e-01,\n",
       "       8.90000000e-01, 8.70000000e-01, 8.60000000e-01, 8.30344828e-01,\n",
       "       8.10000000e-01, 7.02381624e-01, 7.00000000e-01, 6.90000000e-01,\n",
       "       6.80000000e-01, 6.70000000e-01, 5.60000000e-01, 5.50000000e-01,\n",
       "       5.30344828e-01, 5.10000000e-01, 4.67835236e-01, 4.20000000e-01,\n",
       "       4.10000000e-01, 3.65000000e-01, 3.22755563e-01, 3.03164348e-01,\n",
       "       2.75000000e-01, 2.70000000e-01, 2.60000000e-01, 2.49262166e-01,\n",
       "       2.48333333e-01, 2.40000000e-01, 2.30000000e-01, 2.27791978e-01,\n",
       "       2.20000000e-01, 2.16666667e-01, 2.10000000e-01, 2.06666667e-01,\n",
       "       2.01666667e-01, 2.00000000e-01, 1.90000000e-01, 1.80689655e-01,\n",
       "       1.80000000e-01, 1.71284758e-01, 1.70000000e-01, 1.60968687e-01,\n",
       "       1.60000000e-01, 1.50000000e-01, 1.30645161e-01, 1.30000000e-01,\n",
       "       1.21000000e-01, 1.20000000e-01, 1.11000000e-01, 1.10000000e-01,\n",
       "       1.00434783e-01, 1.00000000e-01, 9.10000000e-02, 9.00000000e-02,\n",
       "       8.78347291e-02, 8.03290564e-02, 8.00000000e-02, 7.99138696e-02,\n",
       "       7.62979717e-02, 7.59022768e-02, 7.08687934e-02, 7.00000000e-02,\n",
       "       6.33035714e-02, 6.00000000e-02, 5.08016692e-02, 5.00000000e-02,\n",
       "       4.01597033e-02, 4.00000000e-02, 3.72052497e-02, 3.66666667e-02,\n",
       "       3.00470208e-02, 3.00000000e-02, 2.02199596e-02, 2.00000000e-02,\n",
       "       1.82510523e-02, 1.81591131e-02, 1.12104621e-02, 1.11538462e-02,\n",
       "       1.11380946e-02, 1.10526316e-02, 1.09617180e-02, 1.00000000e-02,\n",
       "       9.91082102e-03, 3.52380952e-03, 3.46541473e-03, 3.25039005e-03,\n",
       "       3.22751323e-03, 2.30434783e-03, 2.19548872e-03, 1.93609023e-03,\n",
       "       1.78571429e-03, 1.51515152e-03, 1.48148148e-03, 1.44179894e-03,\n",
       "       1.42857143e-03, 1.36363636e-03, 1.33333333e-03, 1.30952381e-03,\n",
       "       1.17647059e-03, 9.52380952e-04, 9.09090909e-04, 8.33333333e-04,\n",
       "       7.14285714e-04, 4.76190476e-04, 4.34782609e-04, 3.70370370e-04,\n",
       "       2.94117647e-04, 0.00000000e+00])"
      ]
     },
     "execution_count": 303,
     "metadata": {},
     "output_type": "execute_result"
    }
   ],
   "source": [
    "thresholds"
   ]
  },
  {
   "cell_type": "code",
   "execution_count": 304,
   "id": "de30d145",
   "metadata": {},
   "outputs": [
    {
     "data": {
      "image/png": "[encoded data removed]",
      "text/plain": [
       "<Figure size 432x288 with 1 Axes>"
      ]
     },
     "metadata": {
      "needs_background": "light"
     },
     "output_type": "display_data"
    }
   ],
   "source": [
    "plt.plot([0,1],[0,1],'k--')\n",
    "plt.plot(tpr,fpr,label='RFC')\n",
    "plt.xlabel('FALSE_POSITIVE_RATE')\n",
    "plt.ylabel('TRUE_POSITIVE_RATE')\n",
    "plt.title('RF_CLASSIFIER')\n",
    "plt.show()"
   ]
  },
  {
   "cell_type": "code",
   "execution_count": null,
   "id": "efc82f61",
   "metadata": {},
   "outputs": [],
   "source": [
    "auc_score=roc_auc_score(y_test,(rm.predict(x_test)))\n",
    "auc_score"
   ]
  },
  {
   "cell_type": "markdown",
   "id": "a254a4b0",
   "metadata": {},
   "source": [
    "## CROSS VAL SCORE"
   ]
  },
  {
   "cell_type": "code",
   "execution_count": 305,
   "id": "12ad1573",
   "metadata": {},
   "outputs": [
    {
     "name": "stdout",
     "output_type": "stream",
     "text": [
      "CV is 0.9574375182432853\n",
      "CV is 0.9756224848191941\n",
      "CV is 0.8603207348993449\n",
      "CV is 0.9738795033998306\n"
     ]
    }
   ],
   "source": [
    "for m in [lr,svc,gb,rm]:\n",
    "    cv=cross_val_score(m,X,Y,cv=8)\n",
    "    print('CV','is',(cv.mean()))"
   ]
  },
  {
   "cell_type": "markdown",
   "id": "b130f58a",
   "metadata": {},
   "source": [
    "## THERE IS SLIGHT OVER FITTING IN THE DATA SET"
   ]
  },
  {
   "cell_type": "markdown",
   "id": "2cd47351",
   "metadata": {},
   "source": [
    "## DIFFERENCE BETWEEN CV MEAN SCORE AND MODEL ACCURACY "
   ]
  },
  {
   "cell_type": "code",
   "execution_count": 308,
   "id": "2f3b455a",
   "metadata": {},
   "outputs": [
    {
     "data": {
      "text/plain": [
       "0.9699999999999989"
      ]
     },
     "execution_count": 308,
     "metadata": {},
     "output_type": "execute_result"
    }
   ],
   "source": [
    "96.71-95.74"
   ]
  },
  {
   "cell_type": "code",
   "execution_count": 309,
   "id": "6dc1ab26",
   "metadata": {},
   "outputs": [
    {
     "data": {
      "text/plain": [
       "0.8900000000000006"
      ]
     },
     "execution_count": 309,
     "metadata": {},
     "output_type": "execute_result"
    }
   ],
   "source": [
    "98.45-97.56"
   ]
  },
  {
   "cell_type": "code",
   "execution_count": 310,
   "id": "df379cff",
   "metadata": {},
   "outputs": [
    {
     "data": {
      "text/plain": [
       "2.260000000000005"
      ]
     },
     "execution_count": 310,
     "metadata": {},
     "output_type": "execute_result"
    }
   ],
   "source": [
    "88.29-86.03"
   ]
  },
  {
   "cell_type": "code",
   "execution_count": 311,
   "id": "5f49fb75",
   "metadata": {},
   "outputs": [
    {
     "data": {
      "text/plain": [
       "0.8700000000000045"
      ]
     },
     "execution_count": 311,
     "metadata": {},
     "output_type": "execute_result"
    }
   ],
   "source": [
    "98.25-97.38"
   ]
  },
  {
   "cell_type": "markdown",
   "id": "7366e208",
   "metadata": {},
   "source": [
    "### WE WILL HYPER TUNE RANDOM FOREST CLASSIFIER AS THE DIFFERENCE BETWEEN MODEL ACCURACY AND THE CV MEAN SCORE IS THE MINIMUM ADN IT IS 2ND HIGHEST IN TERMS OF ACCURACY PERCENTAGE"
   ]
  },
  {
   "cell_type": "markdown",
   "id": "501b8df6",
   "metadata": {},
   "source": [
    "## HYPER TUNE - RANDOM FOREST CLASSIFIER "
   ]
  },
  {
   "cell_type": "code",
   "execution_count": 312,
   "id": "2ff033bf",
   "metadata": {},
   "outputs": [],
   "source": [
    "RM2=RandomForestClassifier()"
   ]
  },
  {
   "cell_type": "code",
   "execution_count": 313,
   "id": "029d6fae",
   "metadata": {},
   "outputs": [],
   "source": [
    "DD={'n_estimators':[50,100,150],'criterion':['gini','entropy','log_loss'],'min_samples_split':[2,3,4,],'min_samples_leaf':[1,2,3]}"
   ]
  },
  {
   "cell_type": "code",
   "execution_count": 314,
   "id": "f0825374",
   "metadata": {},
   "outputs": [],
   "source": [
    "gd=GridSearchCV(RM2,DD,cv=5,scoring='accuracy')"
   ]
  },
  {
   "cell_type": "code",
   "execution_count": 315,
   "id": "b2645b5d",
   "metadata": {},
   "outputs": [
    {
     "data": {
      "text/html": [
       "<style>#sk-container-id-5 {color: black;background-color: white;}#sk-container-id-5 pre{padding: 0;}#sk-container-id-5 div.sk-toggleable {background-color: white;}#sk-container-id-5 label.sk-toggleable__label {cursor: pointer;display: block;width: 100%;margin-bottom: 0;padding: 0.3em;box-sizing: border-box;text-align: center;}#sk-container-id-5 label.sk-toggleable__label-arrow:before {content: \"▸\";float: left;margin-right: 0.25em;color: #696969;}#sk-container-id-5 label.sk-toggleable__label-arrow:hover:before {color: black;}#sk-container-id-5 div.sk-estimator:hover label.sk-toggleable__label-arrow:before {color: black;}#sk-container-id-5 div.sk-toggleable__content {max-height: 0;max-width: 0;overflow: hidden;text-align: left;background-color: #f0f8ff;}#sk-container-id-5 div.sk-toggleable__content pre {margin: 0.2em;color: black;border-radius: 0.25em;background-color: #f0f8ff;}#sk-container-id-5 input.sk-toggleable__control:checked~div.sk-toggleable__content {max-height: 200px;max-width: 100%;overflow: auto;}#sk-container-id-5 input.sk-toggleable__control:checked~label.sk-toggleable__label-arrow:before {content: \"▾\";}#sk-container-id-5 div.sk-estimator input.sk-toggleable__control:checked~label.sk-toggleable__label {background-color: #d4ebff;}#sk-container-id-5 div.sk-label input.sk-toggleable__control:checked~label.sk-toggleable__label {background-color: #d4ebff;}#sk-container-id-5 input.sk-hidden--visually {border: 0;clip: rect(1px 1px 1px 1px);clip: rect(1px, 1px, 1px, 1px);height: 1px;margin: -1px;overflow: hidden;padding: 0;position: absolute;width: 1px;}#sk-container-id-5 div.sk-estimator {font-family: monospace;background-color: #f0f8ff;border: 1px dotted black;border-radius: 0.25em;box-sizing: border-box;margin-bottom: 0.5em;}#sk-container-id-5 div.sk-estimator:hover {background-color: #d4ebff;}#sk-container-id-5 div.sk-parallel-item::after {content: \"\";width: 100%;border-bottom: 1px solid gray;flex-grow: 1;}#sk-container-id-5 div.sk-label:hover label.sk-toggleable__label {background-color: #d4ebff;}#sk-container-id-5 div.sk-serial::before {content: \"\";position: absolute;border-left: 1px solid gray;box-sizing: border-box;top: 0;bottom: 0;left: 50%;z-index: 0;}#sk-container-id-5 div.sk-serial {display: flex;flex-direction: column;align-items: center;background-color: white;padding-right: 0.2em;padding-left: 0.2em;position: relative;}#sk-container-id-5 div.sk-item {position: relative;z-index: 1;}#sk-container-id-5 div.sk-parallel {display: flex;align-items: stretch;justify-content: center;background-color: white;position: relative;}#sk-container-id-5 div.sk-item::before, #sk-container-id-5 div.sk-parallel-item::before {content: \"\";position: absolute;border-left: 1px solid gray;box-sizing: border-box;top: 0;bottom: 0;left: 50%;z-index: -1;}#sk-container-id-5 div.sk-parallel-item {display: flex;flex-direction: column;z-index: 1;position: relative;background-color: white;}#sk-container-id-5 div.sk-parallel-item:first-child::after {align-self: flex-end;width: 50%;}#sk-container-id-5 div.sk-parallel-item:last-child::after {align-self: flex-start;width: 50%;}#sk-container-id-5 div.sk-parallel-item:only-child::after {width: 0;}#sk-container-id-5 div.sk-dashed-wrapped {border: 1px dashed gray;margin: 0 0.4em 0.5em 0.4em;box-sizing: border-box;padding-bottom: 0.4em;background-color: white;}#sk-container-id-5 div.sk-label label {font-family: monospace;font-weight: bold;display: inline-block;line-height: 1.2em;}#sk-container-id-5 div.sk-label-container {text-align: center;}#sk-container-id-5 div.sk-container {/* jupyter's `normalize.less` sets `[hidden] { display: none; }` but bootstrap.min.css set `[hidden] { display: none !important; }` so we also need the `!important` here to be able to override the default hidden behavior on the sphinx rendered scikit-learn.org. See: https://github.com/scikit-learn/scikit-learn/issues/21755 */display: inline-block !important;position: relative;}#sk-container-id-5 div.sk-text-repr-fallback {display: none;}</style><div id=\"sk-container-id-5\" class=\"sk-top-container\"><div class=\"sk-text-repr-fallback\"><pre>GridSearchCV(cv=5, estimator=RandomForestClassifier(),\n",
       "             param_grid={&#x27;criterion&#x27;: [&#x27;gini&#x27;, &#x27;entropy&#x27;, &#x27;log_loss&#x27;],\n",
       "                         &#x27;min_samples_leaf&#x27;: [1, 2, 3],\n",
       "                         &#x27;min_samples_split&#x27;: [2, 3, 4],\n",
       "                         &#x27;n_estimators&#x27;: [50, 100, 150]},\n",
       "             scoring=&#x27;accuracy&#x27;)</pre><b>In a Jupyter environment, please rerun this cell to show the HTML representation or trust the notebook. <br />On GitHub, the HTML representation is unable to render, please try loading this page with nbviewer.org.</b></div><div class=\"sk-container\" hidden><div class=\"sk-item sk-dashed-wrapped\"><div class=\"sk-label-container\"><div class=\"sk-label sk-toggleable\"><input class=\"sk-toggleable__control sk-hidden--visually\" id=\"sk-estimator-id-5\" type=\"checkbox\" ><label for=\"sk-estimator-id-5\" class=\"sk-toggleable__label sk-toggleable__label-arrow\">GridSearchCV</label><div class=\"sk-toggleable__content\"><pre>GridSearchCV(cv=5, estimator=RandomForestClassifier(),\n",
       "             param_grid={&#x27;criterion&#x27;: [&#x27;gini&#x27;, &#x27;entropy&#x27;, &#x27;log_loss&#x27;],\n",
       "                         &#x27;min_samples_leaf&#x27;: [1, 2, 3],\n",
       "                         &#x27;min_samples_split&#x27;: [2, 3, 4],\n",
       "                         &#x27;n_estimators&#x27;: [50, 100, 150]},\n",
       "             scoring=&#x27;accuracy&#x27;)</pre></div></div></div><div class=\"sk-parallel\"><div class=\"sk-parallel-item\"><div class=\"sk-item\"><div class=\"sk-label-container\"><div class=\"sk-label sk-toggleable\"><input class=\"sk-toggleable__control sk-hidden--visually\" id=\"sk-estimator-id-6\" type=\"checkbox\" ><label for=\"sk-estimator-id-6\" class=\"sk-toggleable__label sk-toggleable__label-arrow\">estimator: RandomForestClassifier</label><div class=\"sk-toggleable__content\"><pre>RandomForestClassifier()</pre></div></div></div><div class=\"sk-serial\"><div class=\"sk-item\"><div class=\"sk-estimator sk-toggleable\"><input class=\"sk-toggleable__control sk-hidden--visually\" id=\"sk-estimator-id-7\" type=\"checkbox\" ><label for=\"sk-estimator-id-7\" class=\"sk-toggleable__label sk-toggleable__label-arrow\">RandomForestClassifier</label><div class=\"sk-toggleable__content\"><pre>RandomForestClassifier()</pre></div></div></div></div></div></div></div></div></div></div>"
      ],
      "text/plain": [
       "GridSearchCV(cv=5, estimator=RandomForestClassifier(),\n",
       "             param_grid={'criterion': ['gini', 'entropy', 'log_loss'],\n",
       "                         'min_samples_leaf': [1, 2, 3],\n",
       "                         'min_samples_split': [2, 3, 4],\n",
       "                         'n_estimators': [50, 100, 150]},\n",
       "             scoring='accuracy')"
      ]
     },
     "execution_count": 315,
     "metadata": {},
     "output_type": "execute_result"
    }
   ],
   "source": [
    "gd.fit(x_train,y_train)"
   ]
  },
  {
   "cell_type": "code",
   "execution_count": 317,
   "id": "e7268852",
   "metadata": {},
   "outputs": [
    {
     "data": {
      "text/plain": [
       "{'criterion': 'gini',\n",
       " 'min_samples_leaf': 1,\n",
       " 'min_samples_split': 3,\n",
       " 'n_estimators': 50}"
      ]
     },
     "execution_count": 317,
     "metadata": {},
     "output_type": "execute_result"
    }
   ],
   "source": [
    "gd.best_params_"
   ]
  },
  {
   "cell_type": "code",
   "execution_count": 318,
   "id": "ff740980",
   "metadata": {},
   "outputs": [],
   "source": [
    "RM3=RandomForestClassifier(n_estimators=50,criterion='gini',min_samples_split=3,min_samples_leaf=1)"
   ]
  },
  {
   "cell_type": "code",
   "execution_count": 319,
   "id": "bbf2b4b7",
   "metadata": {},
   "outputs": [
    {
     "data": {
      "text/html": [
       "<style>#sk-container-id-6 {color: black;background-color: white;}#sk-container-id-6 pre{padding: 0;}#sk-container-id-6 div.sk-toggleable {background-color: white;}#sk-container-id-6 label.sk-toggleable__label {cursor: pointer;display: block;width: 100%;margin-bottom: 0;padding: 0.3em;box-sizing: border-box;text-align: center;}#sk-container-id-6 label.sk-toggleable__label-arrow:before {content: \"▸\";float: left;margin-right: 0.25em;color: #696969;}#sk-container-id-6 label.sk-toggleable__label-arrow:hover:before {color: black;}#sk-container-id-6 div.sk-estimator:hover label.sk-toggleable__label-arrow:before {color: black;}#sk-container-id-6 div.sk-toggleable__content {max-height: 0;max-width: 0;overflow: hidden;text-align: left;background-color: #f0f8ff;}#sk-container-id-6 div.sk-toggleable__content pre {margin: 0.2em;color: black;border-radius: 0.25em;background-color: #f0f8ff;}#sk-container-id-6 input.sk-toggleable__control:checked~div.sk-toggleable__content {max-height: 200px;max-width: 100%;overflow: auto;}#sk-container-id-6 input.sk-toggleable__control:checked~label.sk-toggleable__label-arrow:before {content: \"▾\";}#sk-container-id-6 div.sk-estimator input.sk-toggleable__control:checked~label.sk-toggleable__label {background-color: #d4ebff;}#sk-container-id-6 div.sk-label input.sk-toggleable__control:checked~label.sk-toggleable__label {background-color: #d4ebff;}#sk-container-id-6 input.sk-hidden--visually {border: 0;clip: rect(1px 1px 1px 1px);clip: rect(1px, 1px, 1px, 1px);height: 1px;margin: -1px;overflow: hidden;padding: 0;position: absolute;width: 1px;}#sk-container-id-6 div.sk-estimator {font-family: monospace;background-color: #f0f8ff;border: 1px dotted black;border-radius: 0.25em;box-sizing: border-box;margin-bottom: 0.5em;}#sk-container-id-6 div.sk-estimator:hover {background-color: #d4ebff;}#sk-container-id-6 div.sk-parallel-item::after {content: \"\";width: 100%;border-bottom: 1px solid gray;flex-grow: 1;}#sk-container-id-6 div.sk-label:hover label.sk-toggleable__label {background-color: #d4ebff;}#sk-container-id-6 div.sk-serial::before {content: \"\";position: absolute;border-left: 1px solid gray;box-sizing: border-box;top: 0;bottom: 0;left: 50%;z-index: 0;}#sk-container-id-6 div.sk-serial {display: flex;flex-direction: column;align-items: center;background-color: white;padding-right: 0.2em;padding-left: 0.2em;position: relative;}#sk-container-id-6 div.sk-item {position: relative;z-index: 1;}#sk-container-id-6 div.sk-parallel {display: flex;align-items: stretch;justify-content: center;background-color: white;position: relative;}#sk-container-id-6 div.sk-item::before, #sk-container-id-6 div.sk-parallel-item::before {content: \"\";position: absolute;border-left: 1px solid gray;box-sizing: border-box;top: 0;bottom: 0;left: 50%;z-index: -1;}#sk-container-id-6 div.sk-parallel-item {display: flex;flex-direction: column;z-index: 1;position: relative;background-color: white;}#sk-container-id-6 div.sk-parallel-item:first-child::after {align-self: flex-end;width: 50%;}#sk-container-id-6 div.sk-parallel-item:last-child::after {align-self: flex-start;width: 50%;}#sk-container-id-6 div.sk-parallel-item:only-child::after {width: 0;}#sk-container-id-6 div.sk-dashed-wrapped {border: 1px dashed gray;margin: 0 0.4em 0.5em 0.4em;box-sizing: border-box;padding-bottom: 0.4em;background-color: white;}#sk-container-id-6 div.sk-label label {font-family: monospace;font-weight: bold;display: inline-block;line-height: 1.2em;}#sk-container-id-6 div.sk-label-container {text-align: center;}#sk-container-id-6 div.sk-container {/* jupyter's `normalize.less` sets `[hidden] { display: none; }` but bootstrap.min.css set `[hidden] { display: none !important; }` so we also need the `!important` here to be able to override the default hidden behavior on the sphinx rendered scikit-learn.org. See: https://github.com/scikit-learn/scikit-learn/issues/21755 */display: inline-block !important;position: relative;}#sk-container-id-6 div.sk-text-repr-fallback {display: none;}</style><div id=\"sk-container-id-6\" class=\"sk-top-container\"><div class=\"sk-text-repr-fallback\"><pre>RandomForestClassifier(min_samples_split=3, n_estimators=50)</pre><b>In a Jupyter environment, please rerun this cell to show the HTML representation or trust the notebook. <br />On GitHub, the HTML representation is unable to render, please try loading this page with nbviewer.org.</b></div><div class=\"sk-container\" hidden><div class=\"sk-item\"><div class=\"sk-estimator sk-toggleable\"><input class=\"sk-toggleable__control sk-hidden--visually\" id=\"sk-estimator-id-8\" type=\"checkbox\" checked><label for=\"sk-estimator-id-8\" class=\"sk-toggleable__label sk-toggleable__label-arrow\">RandomForestClassifier</label><div class=\"sk-toggleable__content\"><pre>RandomForestClassifier(min_samples_split=3, n_estimators=50)</pre></div></div></div></div></div>"
      ],
      "text/plain": [
       "RandomForestClassifier(min_samples_split=3, n_estimators=50)"
      ]
     },
     "execution_count": 319,
     "metadata": {},
     "output_type": "execute_result"
    }
   ],
   "source": [
    "RM3.fit(x_train,y_train)"
   ]
  },
  {
   "cell_type": "code",
   "execution_count": 321,
   "id": "2de8ea15",
   "metadata": {},
   "outputs": [],
   "source": [
    "PRERM3=RM3.predict(x_test)"
   ]
  },
  {
   "cell_type": "markdown",
   "id": "5cf0b421",
   "metadata": {},
   "source": [
    "## MODEL ACCURACY"
   ]
  },
  {
   "cell_type": "code",
   "execution_count": 322,
   "id": "cfc47fd1",
   "metadata": {},
   "outputs": [
    {
     "name": "stdout",
     "output_type": "stream",
     "text": [
      "0.9690522243713733\n"
     ]
    }
   ],
   "source": [
    "print(accuracy_score(y_test,PRERM3))"
   ]
  },
  {
   "cell_type": "markdown",
   "id": "3b057233",
   "metadata": {},
   "source": [
    "## CONFUSION MATRIX"
   ]
  },
  {
   "cell_type": "code",
   "execution_count": null,
   "id": "f5fc579e",
   "metadata": {},
   "outputs": [],
   "source": [
    "print(confusion_matrix(y_test,PRERM3))"
   ]
  },
  {
   "cell_type": "markdown",
   "id": "80818456",
   "metadata": {},
   "source": [
    "## CLASSIFICATION REPORT"
   ]
  },
  {
   "cell_type": "code",
   "execution_count": null,
   "id": "78d67503",
   "metadata": {},
   "outputs": [],
   "source": [
    "print(classification_report(y_test,PRERM3))"
   ]
  },
  {
   "cell_type": "markdown",
   "id": "2f5c8558",
   "metadata": {},
   "source": [
    "## AUC ROC CURVE"
   ]
  },
  {
   "cell_type": "code",
   "execution_count": 323,
   "id": "739b80cf",
   "metadata": {},
   "outputs": [],
   "source": [
    "y_pred_prob7=RM3.predict_proba(x_test)[:,1]"
   ]
  },
  {
   "cell_type": "code",
   "execution_count": 324,
   "id": "c6d6e770",
   "metadata": {},
   "outputs": [
    {
     "data": {
      "text/plain": [
       "array([0.15333333, 0.03640588, 0.00444532, ..., 0.02      , 0.        ,\n",
       "       0.90076923])"
      ]
     },
     "execution_count": 324,
     "metadata": {},
     "output_type": "execute_result"
    }
   ],
   "source": [
    "y_pred_prob7"
   ]
  },
  {
   "cell_type": "code",
   "execution_count": 325,
   "id": "dbe20af3",
   "metadata": {},
   "outputs": [],
   "source": [
    "tpr,fpr,thresholds=roc_curve(y_test,y_pred_prob7)"
   ]
  },
  {
   "cell_type": "code",
   "execution_count": 326,
   "id": "3b2257c6",
   "metadata": {},
   "outputs": [
    {
     "data": {
      "text/plain": [
       "array([0.        , 0.        , 0.        , 0.        , 0.        ,\n",
       "       0.        , 0.        , 0.        , 0.        , 0.        ,\n",
       "       0.        , 0.        , 0.        , 0.        , 0.        ,\n",
       "       0.        , 0.        , 0.        , 0.        , 0.        ,\n",
       "       0.00111235, 0.00111235, 0.00222469, 0.00222469, 0.00444939,\n",
       "       0.00444939, 0.00889878, 0.00889878, 0.01001112, 0.01001112,\n",
       "       0.01112347, 0.01112347, 0.01223582, 0.01446051, 0.01779755,\n",
       "       0.0189099 , 0.02335929, 0.02335929, 0.02558398, 0.03003337,\n",
       "       0.03003337, 0.03337041, 0.03337041, 0.0378198 , 0.0378198 ,\n",
       "       0.03893215, 0.03893215, 0.04226919, 0.04449388, 0.05450501,\n",
       "       0.05450501, 0.07675195, 0.08008899, 0.08787542, 0.08787542,\n",
       "       0.09121246, 0.09343715, 0.09566185, 0.09899889, 0.10678532,\n",
       "       0.10901001, 0.11234705, 0.11457175, 0.11790879, 0.12013348,\n",
       "       0.12347052, 0.12458287, 0.1323693 , 0.13348165, 0.13570634,\n",
       "       0.14126808, 0.14460512, 0.15016685, 0.15239155, 0.15572859,\n",
       "       0.15906563, 0.16129032, 0.16907675, 0.17352614, 0.17575083,\n",
       "       0.17908788, 0.18353726, 0.18576196, 0.19243604, 0.19466073,\n",
       "       0.19911012, 0.19911012, 0.20689655, 0.2269188 , 0.24249166,\n",
       "       0.2458287 , 0.24916574, 0.25027809, 0.25250278, 0.25361513,\n",
       "       0.25583982, 0.27808676, 0.29143493, 0.29588432, 0.29588432,\n",
       "       0.30478309, 0.30478309, 0.3214683 , 0.36929922, 0.37041157,\n",
       "       0.37041157, 0.378198  , 0.38042269, 0.38264739, 0.38487208,\n",
       "       0.39043382, 0.39265851, 0.40044494, 0.40489433, 0.40711902,\n",
       "       0.40934372, 0.41713014, 0.44382647, 0.44605117, 0.44827586,\n",
       "       0.45828699, 0.47163515, 0.50055617, 0.50278087, 0.50500556,\n",
       "       0.50945495, 0.51167964, 0.51835373, 0.52057842, 0.52502781,\n",
       "       0.52836485, 0.53281424, 0.54171301, 0.54727475, 1.        ])"
      ]
     },
     "execution_count": 326,
     "metadata": {},
     "output_type": "execute_result"
    }
   ],
   "source": [
    "tpr"
   ]
  },
  {
   "cell_type": "code",
   "execution_count": 327,
   "id": "825ed69f",
   "metadata": {},
   "outputs": [
    {
     "data": {
      "text/plain": [
       "array([0.        , 0.0962963 , 0.12592593, 0.14074074, 0.14814815,\n",
       "       0.18518519, 0.20740741, 0.22222222, 0.22962963, 0.25185185,\n",
       "       0.26666667, 0.35555556, 0.37037037, 0.43703704, 0.45185185,\n",
       "       0.6       , 0.61481481, 0.71111111, 0.72592593, 0.73333333,\n",
       "       0.73333333, 0.77777778, 0.77777778, 0.78518519, 0.78518519,\n",
       "       0.83703704, 0.83703704, 0.84444444, 0.84444444, 0.85185185,\n",
       "       0.85925926, 0.87407407, 0.87407407, 0.87407407, 0.87407407,\n",
       "       0.88148148, 0.88148148, 0.88888889, 0.88888889, 0.88888889,\n",
       "       0.8962963 , 0.8962963 , 0.91111111, 0.91111111, 0.91851852,\n",
       "       0.91851852, 0.92592593, 0.92592593, 0.92592593, 0.92592593,\n",
       "       0.94074074, 0.94074074, 0.94074074, 0.94074074, 0.94814815,\n",
       "       0.94814815, 0.94814815, 0.94814815, 0.94814815, 0.94814815,\n",
       "       0.94814815, 0.94814815, 0.94814815, 0.94814815, 0.94814815,\n",
       "       0.94814815, 0.94814815, 0.94814815, 0.94814815, 0.94814815,\n",
       "       0.94814815, 0.94814815, 0.94814815, 0.94814815, 0.94814815,\n",
       "       0.94814815, 0.94814815, 0.94814815, 0.94814815, 0.94814815,\n",
       "       0.94814815, 0.95555556, 0.95555556, 0.95555556, 0.95555556,\n",
       "       0.95555556, 0.96296296, 0.96296296, 0.96296296, 0.97037037,\n",
       "       0.97037037, 0.97037037, 0.97037037, 0.97037037, 0.97037037,\n",
       "       0.97037037, 0.97037037, 0.97037037, 0.97037037, 0.97777778,\n",
       "       0.97777778, 0.98518519, 0.98518519, 0.98518519, 0.98518519,\n",
       "       0.99259259, 0.99259259, 0.99259259, 0.99259259, 0.99259259,\n",
       "       0.99259259, 0.99259259, 0.99259259, 0.99259259, 0.99259259,\n",
       "       0.99259259, 0.99259259, 1.        , 1.        , 1.        ,\n",
       "       1.        , 1.        , 1.        , 1.        , 1.        ,\n",
       "       1.        , 1.        , 1.        , 1.        , 1.        ,\n",
       "       1.        , 1.        , 1.        , 1.        , 1.        ])"
      ]
     },
     "execution_count": 327,
     "metadata": {},
     "output_type": "execute_result"
    }
   ],
   "source": [
    "fpr"
   ]
  },
  {
   "cell_type": "code",
   "execution_count": 328,
   "id": "a1dd8a5d",
   "metadata": {},
   "outputs": [
    {
     "data": {
      "text/plain": [
       "array([2.00000000e+00, 1.00000000e+00, 9.80000000e-01, 9.75000000e-01,\n",
       "       9.70000000e-01, 9.60000000e-01, 9.46666667e-01, 9.40000000e-01,\n",
       "       9.28333333e-01, 9.23333333e-01, 9.20000000e-01, 8.66666667e-01,\n",
       "       8.60000000e-01, 8.13333333e-01, 8.11666667e-01, 6.80909091e-01,\n",
       "       6.63333333e-01, 6.05000000e-01, 5.96666667e-01, 5.90714286e-01,\n",
       "       5.68666667e-01, 5.15000000e-01, 5.08666667e-01, 5.03333333e-01,\n",
       "       4.96666667e-01, 4.28333333e-01, 3.85000000e-01, 3.84666667e-01,\n",
       "       3.73333333e-01, 3.62619048e-01, 3.36666667e-01, 3.26666667e-01,\n",
       "       3.24000000e-01, 3.08666667e-01, 2.90000000e-01, 2.80000000e-01,\n",
       "       2.68333333e-01, 2.66666667e-01, 2.55124542e-01, 2.50000000e-01,\n",
       "       2.41583851e-01, 2.31333333e-01, 2.30000000e-01, 2.26410256e-01,\n",
       "       2.25238095e-01, 2.20000000e-01, 2.15382065e-01, 2.14266667e-01,\n",
       "       2.10000000e-01, 1.74979715e-01, 1.65111989e-01, 1.21666667e-01,\n",
       "       1.20000000e-01, 1.10000000e-01, 1.08286329e-01, 1.03666667e-01,\n",
       "       1.03333333e-01, 1.01577985e-01, 1.00000000e-01, 9.24358974e-02,\n",
       "       9.00000000e-02, 8.66666667e-02, 8.66666667e-02, 8.50000000e-02,\n",
       "       8.41025641e-02, 8.33333333e-02, 8.16666667e-02, 8.00000000e-02,\n",
       "       8.00000000e-02, 7.88754446e-02, 7.48286364e-02, 7.33333333e-02,\n",
       "       6.69649980e-02, 6.66666667e-02, 6.46666667e-02, 6.33333333e-02,\n",
       "       6.12442917e-02, 6.00000000e-02, 5.65860140e-02, 5.60000000e-02,\n",
       "       5.33809524e-02, 5.33333333e-02, 5.11334107e-02, 5.00000000e-02,\n",
       "       4.73809524e-02, 4.66666667e-02, 4.50138765e-02, 4.13149321e-02,\n",
       "       4.00000000e-02, 3.88754446e-02, 3.81062138e-02, 3.80754446e-02,\n",
       "       3.80000000e-02, 3.79663536e-02, 3.71764706e-02, 3.66666667e-02,\n",
       "       3.00428620e-02, 3.00000000e-02, 2.83640886e-02, 2.83337854e-02,\n",
       "       2.58695652e-02, 2.56065126e-02, 2.06875630e-02, 2.00000000e-02,\n",
       "       1.99079324e-02, 1.91515152e-02, 1.76211077e-02, 1.66666667e-02,\n",
       "       1.60936549e-02, 1.60000000e-02, 1.50724638e-02, 1.50000000e-02,\n",
       "       1.35544137e-02, 1.33333333e-02, 1.22132193e-02, 1.20000000e-02,\n",
       "       1.06737610e-02, 1.00000000e-02, 9.10609680e-03, 8.59576720e-03,\n",
       "       6.67600820e-03, 6.66666667e-03, 2.73913043e-03, 2.66666667e-03,\n",
       "       2.54788690e-03, 2.39057239e-03, 1.86956522e-03, 1.67832168e-03,\n",
       "       1.62337662e-03, 1.58385093e-03, 1.11111111e-03, 9.09090909e-04,\n",
       "       8.00000000e-04, 7.14285714e-04, 0.00000000e+00])"
      ]
     },
     "execution_count": 328,
     "metadata": {},
     "output_type": "execute_result"
    }
   ],
   "source": [
    "thresholds"
   ]
  },
  {
   "cell_type": "code",
   "execution_count": 329,
   "id": "c7449457",
   "metadata": {},
   "outputs": [
    {
     "data": {
      "image/png": "[encoded data removed]",
      "text/plain": [
       "<Figure size 432x288 with 1 Axes>"
      ]
     },
     "metadata": {
      "needs_background": "light"
     },
     "output_type": "display_data"
    }
   ],
   "source": [
    "plt.plot([0,1],[0,1],'k--')\n",
    "plt.plot(tpr,fpr,label='SVC')\n",
    "plt.xlabel('FALSE_POSITIVE_RATE')\n",
    "plt.ylabel('TRUE_POSITIVE_RATE')\n",
    "plt.title('RANDOM_FOREST_CLASSIFIER')\n",
    "plt.show()"
   ]
  },
  {
   "cell_type": "code",
   "execution_count": 330,
   "id": "a7057215",
   "metadata": {},
   "outputs": [
    {
     "data": {
      "text/plain": [
       "0.8909240720141721"
      ]
     },
     "execution_count": 330,
     "metadata": {},
     "output_type": "execute_result"
    }
   ],
   "source": [
    "auc_score=roc_auc_score(y_test,(RM3.predict(x_test)))\n",
    "auc_score"
   ]
  },
  {
   "cell_type": "markdown",
   "id": "3896870f",
   "metadata": {},
   "source": [
    "## SINCE THE ACCURACY SCORE HASNT IMPROVED, WE WILL SELECT rm MODEL "
   ]
  },
  {
   "cell_type": "markdown",
   "id": "c918682a",
   "metadata": {},
   "source": [
    "## SAVING THE BEST MODEL "
   ]
  },
  {
   "cell_type": "code",
   "execution_count": 331,
   "id": "d2721689",
   "metadata": {},
   "outputs": [],
   "source": [
    "import pickle"
   ]
  },
  {
   "cell_type": "code",
   "execution_count": 332,
   "id": "b1c6348e",
   "metadata": {},
   "outputs": [],
   "source": [
    "filename='churn.pkl'\n",
    "pickle.dump(rm,open(filename,'wb'))"
   ]
  },
  {
   "cell_type": "code",
   "execution_count": 333,
   "id": "0fb5a700",
   "metadata": {},
   "outputs": [],
   "source": [
    "loaded_model=pickle.load(open('churn.pkl','rb'))"
   ]
  },
  {
   "cell_type": "code",
   "execution_count": 334,
   "id": "49792419",
   "metadata": {},
   "outputs": [],
   "source": [
    "conclusion=pd.DataFrame([loaded_model.predict(x_test)[:],y_test[:]],index=['PREDICTED','ORIGINAL'])"
   ]
  },
  {
   "cell_type": "code",
   "execution_count": 335,
   "id": "236a9178",
   "metadata": {},
   "outputs": [
    {
     "data": {
      "text/html": [
       "<div>\n",
       "<style scoped>\n",
       "    .dataframe tbody tr th:only-of-type {\n",
       "        vertical-align: middle;\n",
       "    }\n",
       "\n",
       "    .dataframe tbody tr th {\n",
       "        vertical-align: top;\n",
       "    }\n",
       "\n",
       "    .dataframe thead th {\n",
       "        text-align: right;\n",
       "    }\n",
       "</style>\n",
       "<table border=\"1\" class=\"dataframe\">\n",
       "  <thead>\n",
       "    <tr style=\"text-align: right;\">\n",
       "      <th></th>\n",
       "      <th>0</th>\n",
       "      <th>1</th>\n",
       "      <th>2</th>\n",
       "      <th>3</th>\n",
       "      <th>4</th>\n",
       "      <th>5</th>\n",
       "      <th>6</th>\n",
       "      <th>7</th>\n",
       "      <th>8</th>\n",
       "      <th>9</th>\n",
       "      <th>...</th>\n",
       "      <th>1024</th>\n",
       "      <th>1025</th>\n",
       "      <th>1026</th>\n",
       "      <th>1027</th>\n",
       "      <th>1028</th>\n",
       "      <th>1029</th>\n",
       "      <th>1030</th>\n",
       "      <th>1031</th>\n",
       "      <th>1032</th>\n",
       "      <th>1033</th>\n",
       "    </tr>\n",
       "  </thead>\n",
       "  <tbody>\n",
       "    <tr>\n",
       "      <th>PREDICTED</th>\n",
       "      <td>0</td>\n",
       "      <td>0</td>\n",
       "      <td>0</td>\n",
       "      <td>1</td>\n",
       "      <td>0</td>\n",
       "      <td>0</td>\n",
       "      <td>0</td>\n",
       "      <td>0</td>\n",
       "      <td>0</td>\n",
       "      <td>0</td>\n",
       "      <td>...</td>\n",
       "      <td>0</td>\n",
       "      <td>0</td>\n",
       "      <td>1</td>\n",
       "      <td>0</td>\n",
       "      <td>0</td>\n",
       "      <td>0</td>\n",
       "      <td>0</td>\n",
       "      <td>0</td>\n",
       "      <td>0</td>\n",
       "      <td>1</td>\n",
       "    </tr>\n",
       "    <tr>\n",
       "      <th>ORIGINAL</th>\n",
       "      <td>0</td>\n",
       "      <td>0</td>\n",
       "      <td>0</td>\n",
       "      <td>1</td>\n",
       "      <td>0</td>\n",
       "      <td>0</td>\n",
       "      <td>0</td>\n",
       "      <td>0</td>\n",
       "      <td>0</td>\n",
       "      <td>0</td>\n",
       "      <td>...</td>\n",
       "      <td>0</td>\n",
       "      <td>0</td>\n",
       "      <td>1</td>\n",
       "      <td>0</td>\n",
       "      <td>0</td>\n",
       "      <td>0</td>\n",
       "      <td>0</td>\n",
       "      <td>0</td>\n",
       "      <td>0</td>\n",
       "      <td>1</td>\n",
       "    </tr>\n",
       "  </tbody>\n",
       "</table>\n",
       "<p>2 rows × 1034 columns</p>\n",
       "</div>"
      ],
      "text/plain": [
       "           0     1     2     3     4     5     6     7     8     9     ...  \\\n",
       "PREDICTED     0     0     0     1     0     0     0     0     0     0  ...   \n",
       "ORIGINAL      0     0     0     1     0     0     0     0     0     0  ...   \n",
       "\n",
       "           1024  1025  1026  1027  1028  1029  1030  1031  1032  1033  \n",
       "PREDICTED     0     0     1     0     0     0     0     0     0     1  \n",
       "ORIGINAL      0     0     1     0     0     0     0     0     0     1  \n",
       "\n",
       "[2 rows x 1034 columns]"
      ]
     },
     "execution_count": 335,
     "metadata": {},
     "output_type": "execute_result"
    }
   ],
   "source": [
    "conclusion"
   ]
  },
  {
   "cell_type": "code",
   "execution_count": null,
   "id": "344b5ade",
   "metadata": {},
   "outputs": [],
   "source": []
  }
 ],
 "metadata": {
  "kernelspec": {
   "display_name": "Python 3 (ipykernel)",
   "language": "python",
   "name": "python3"
  },
  "language_info": {
   "codemirror_mode": {
    "name": "ipython",
    "version": 3
   },
   "file_extension": ".py",
   "mimetype": "text/x-python",
   "name": "python",
   "nbconvert_exporter": "python",
   "pygments_lexer": "ipython3",
   "version": "3.9.12"
  }
 },
 "nbformat": 4,
 "nbformat_minor": 5
}
